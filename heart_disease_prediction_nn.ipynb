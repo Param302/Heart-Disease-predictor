{
 "cells": [
  {
   "cell_type": "markdown",
   "metadata": {},
   "source": [
    "# Heart Disease prediction\n",
    "- [Data](./data/heart.csv) is from [Kaggle](https://www.kaggle.com/datasets/johnsmith88/heart-disease-dataset)\n",
    "- Original dataset is from [UCI Machine Learning Repository](https://archive-beta.ics.uci.edu/ml/datasets/heart+disease)\n",
    "\n",
    "<details>\n",
    "<summary><b>Additional Information</b></summary>\n",
    "<p><a href=\"./data/heart.csv\">heart.csv</a> is training data with id as index.</p>\n",
    "<p>This database contains 76 attributes, but all published experiments refer to using a subset of 14 of them.  In particular, the Cleveland database is the only one that has been used by ML researchers to\n",
    " this date.  The \"goal\" field refers to the presence of heart disease in the patient.  It is integer valued from 0 (no presence) to 4. Experiments with the Cleveland database have concentrated on simply attempting to distinguish presence (values 1,2,3,4) from absence (value 0).</p>\n",
    "</details>\n",
    "\n",
    "<details>\n",
    "<summary><b>Columns Description</b></summary>\n",
    "<p>\n",
    "\n",
    "1. **age**: Age in years\n",
    "2. **Sex**: sex (1 = male; 0 = female)\n",
    "3. **cp**:  chest pain type\n",
    "- 1: typical angina\n",
    "- 2: atypical angina\n",
    "- 3: non-anginal pain\n",
    "- 4: asymptomatic\n",
    "4. **trestbps**: resting blood pressure (in mm Hg on admission to the hospital)\n",
    "5. **chol**: serum cholestoral in mg/dl\n",
    "6. **fbs**:  (fasting blood sugar > 120 mg/dl)  (1 = true; 0 = false)\n",
    "7. **restecg**: resting electrocardiographic results\n",
    "- 0: normal\n",
    "- 1: having ST-T wave abnormality (T wave inversions and/or ST elevation or depression of > 0.05 mV)\n",
    "- 2: showing probable or definite left ventricular hypertrophy by Estes' criteria\n",
    "8. **thalach**: maximum heart rate achieved\n",
    "9.  **exang**:  exercise induced angina (1 = yes; 0 = no)\n",
    "10. **oldpeak**: ST depression induced by exercise relative to rest\n",
    "11. **slope**: the slope of the peak exercise ST segment\n",
    "- 1: upsloping\n",
    "- 2: flat\n",
    "- 3: downsloping\n",
    "12. **ca**: number of major vessels (0-3) colored by flourosopy\n",
    "13. **thal**: 3 = normal; 6 = fixed defect; 7 = reversable defect\n",
    "\n",
    "***Target Variable***\n",
    "14. **num**: diagnosis of heart disease (angiographic disease status)\n",
    "- 0: < 50% diameter narrowing\n",
    "- 1: > 50% diameter narrowing\n",
    "</p>\n",
    "</details>"
   ]
  },
  {
   "cell_type": "markdown",
   "metadata": {},
   "source": [
    "## Idea\n",
    "Using **Neural networks** to make ML model\n",
    "- `3` hidden layers\n",
    "- - 1st layer - `18` neurons (`relu`)\n",
    "- - 2nd layer - `36` neurons (`relu`)\n",
    "- - 3rd layer - `9` neurons  (`relu`)\n",
    "- 4th layer - output layer (`sigmoid`)\n",
    "-  *logistic regression* to predict heart disease."
   ]
  },
  {
   "cell_type": "markdown",
   "metadata": {},
   "source": [
    "# Approach\n",
    "1. Import required libraries\n",
    "2. Load data\n",
    "3. Feature Selection\n",
    "4. Split data for cross-validation\n",
    "5. Feature Scaling\n",
    "6. Make $1^{st}$ **neural network**\n",
    "- -  Fit the data\n",
    "- - Save the weights\n",
    "- - Plot learning curve\n",
    "- -  Do predictions on `valid` and `test` data\n",
    "- - Check accuracy on `train`, `valid` and `test` data\n",
    "7. Make $2^{nd}$ **neural network** with less layers and repeat $6^{th}$ step\n",
    "8. Make $3^{rd}$ **neural network** with more layers and repeat $6^{th}$ step\n",
    "9.  Finalize best model\n",
    "10.  Save best model"
   ]
  },
  {
   "cell_type": "markdown",
   "metadata": {},
   "source": [
    "## 1. Importing required libraries"
   ]
  },
  {
   "cell_type": "code",
   "execution_count": 58,
   "metadata": {},
   "outputs": [],
   "source": [
    "import numpy as np\n",
    "import pandas as pd\n",
    "import seaborn as sns\n",
    "sns.set_style(\"darkgrid\")\n",
    "from pickle import dump\n",
    "import tensorflow as tf\n",
    "import matplotlib.pyplot as plt\n",
    "from sklearn.model_selection import train_test_split"
   ]
  },
  {
   "cell_type": "markdown",
   "metadata": {},
   "source": [
    "## 2. Loading data"
   ]
  },
  {
   "cell_type": "code",
   "execution_count": 2,
   "metadata": {},
   "outputs": [
    {
     "data": {
      "text/html": [
       "<div>\n",
       "<style scoped>\n",
       "    .dataframe tbody tr th:only-of-type {\n",
       "        vertical-align: middle;\n",
       "    }\n",
       "\n",
       "    .dataframe tbody tr th {\n",
       "        vertical-align: top;\n",
       "    }\n",
       "\n",
       "    .dataframe thead th {\n",
       "        text-align: right;\n",
       "    }\n",
       "</style>\n",
       "<table border=\"1\" class=\"dataframe\">\n",
       "  <thead>\n",
       "    <tr style=\"text-align: right;\">\n",
       "      <th></th>\n",
       "      <th>age</th>\n",
       "      <th>sex</th>\n",
       "      <th>cp</th>\n",
       "      <th>trestbps</th>\n",
       "      <th>chol</th>\n",
       "      <th>fbs</th>\n",
       "      <th>restecg</th>\n",
       "      <th>thalach</th>\n",
       "      <th>exang</th>\n",
       "      <th>oldpeak</th>\n",
       "      <th>slope</th>\n",
       "      <th>ca</th>\n",
       "      <th>thal</th>\n",
       "      <th>target</th>\n",
       "    </tr>\n",
       "  </thead>\n",
       "  <tbody>\n",
       "    <tr>\n",
       "      <th>0</th>\n",
       "      <td>52</td>\n",
       "      <td>1</td>\n",
       "      <td>0</td>\n",
       "      <td>125</td>\n",
       "      <td>212</td>\n",
       "      <td>0</td>\n",
       "      <td>1</td>\n",
       "      <td>168</td>\n",
       "      <td>0</td>\n",
       "      <td>1.0</td>\n",
       "      <td>2</td>\n",
       "      <td>2</td>\n",
       "      <td>3</td>\n",
       "      <td>0</td>\n",
       "    </tr>\n",
       "    <tr>\n",
       "      <th>1</th>\n",
       "      <td>53</td>\n",
       "      <td>1</td>\n",
       "      <td>0</td>\n",
       "      <td>140</td>\n",
       "      <td>203</td>\n",
       "      <td>1</td>\n",
       "      <td>0</td>\n",
       "      <td>155</td>\n",
       "      <td>1</td>\n",
       "      <td>3.1</td>\n",
       "      <td>0</td>\n",
       "      <td>0</td>\n",
       "      <td>3</td>\n",
       "      <td>0</td>\n",
       "    </tr>\n",
       "    <tr>\n",
       "      <th>2</th>\n",
       "      <td>70</td>\n",
       "      <td>1</td>\n",
       "      <td>0</td>\n",
       "      <td>145</td>\n",
       "      <td>174</td>\n",
       "      <td>0</td>\n",
       "      <td>1</td>\n",
       "      <td>125</td>\n",
       "      <td>1</td>\n",
       "      <td>2.6</td>\n",
       "      <td>0</td>\n",
       "      <td>0</td>\n",
       "      <td>3</td>\n",
       "      <td>0</td>\n",
       "    </tr>\n",
       "    <tr>\n",
       "      <th>3</th>\n",
       "      <td>61</td>\n",
       "      <td>1</td>\n",
       "      <td>0</td>\n",
       "      <td>148</td>\n",
       "      <td>203</td>\n",
       "      <td>0</td>\n",
       "      <td>1</td>\n",
       "      <td>161</td>\n",
       "      <td>0</td>\n",
       "      <td>0.0</td>\n",
       "      <td>2</td>\n",
       "      <td>1</td>\n",
       "      <td>3</td>\n",
       "      <td>0</td>\n",
       "    </tr>\n",
       "    <tr>\n",
       "      <th>4</th>\n",
       "      <td>62</td>\n",
       "      <td>0</td>\n",
       "      <td>0</td>\n",
       "      <td>138</td>\n",
       "      <td>294</td>\n",
       "      <td>1</td>\n",
       "      <td>1</td>\n",
       "      <td>106</td>\n",
       "      <td>0</td>\n",
       "      <td>1.9</td>\n",
       "      <td>1</td>\n",
       "      <td>3</td>\n",
       "      <td>2</td>\n",
       "      <td>0</td>\n",
       "    </tr>\n",
       "  </tbody>\n",
       "</table>\n",
       "</div>"
      ],
      "text/plain": [
       "   age  sex  cp  trestbps  chol  fbs  restecg  thalach  exang  oldpeak  slope  \\\n",
       "0   52    1   0       125   212    0        1      168      0      1.0      2   \n",
       "1   53    1   0       140   203    1        0      155      1      3.1      0   \n",
       "2   70    1   0       145   174    0        1      125      1      2.6      0   \n",
       "3   61    1   0       148   203    0        1      161      0      0.0      2   \n",
       "4   62    0   0       138   294    1        1      106      0      1.9      1   \n",
       "\n",
       "   ca  thal  target  \n",
       "0   2     3       0  \n",
       "1   0     3       0  \n",
       "2   0     3       0  \n",
       "3   1     3       0  \n",
       "4   3     2       0  "
      ]
     },
     "execution_count": 2,
     "metadata": {},
     "output_type": "execute_result"
    }
   ],
   "source": [
    "data = pd.read_csv(\"./data/heart.csv\")\n",
    "data.head()"
   ]
  },
  {
   "cell_type": "markdown",
   "metadata": {},
   "source": [
    "## 3. Selecting features"
   ]
  },
  {
   "cell_type": "code",
   "execution_count": 3,
   "metadata": {},
   "outputs": [],
   "source": [
    "features = [\"age\", \"sex\", \"cp\", \"trestbps\", \"chol\", \"fbs\", \"thalach\", \"exang\"]\n",
    "data = data[features + [\"target\"]]"
   ]
  },
  {
   "cell_type": "code",
   "execution_count": 4,
   "metadata": {},
   "outputs": [
    {
     "data": {
      "text/plain": [
       "(1025, 9)"
      ]
     },
     "execution_count": 4,
     "metadata": {},
     "output_type": "execute_result"
    }
   ],
   "source": [
    "data.shape"
   ]
  },
  {
   "cell_type": "markdown",
   "metadata": {},
   "source": [
    "## 4. Splitting training `70%` and valdiation `20%` and testing `10%` data"
   ]
  },
  {
   "cell_type": "code",
   "execution_count": 55,
   "metadata": {},
   "outputs": [],
   "source": [
    "X_full = data.iloc[:, :-1].copy(deep=True)\n",
    "Y_full = data.iloc[:, -1].copy(deep=True)\n",
    "\n",
    "X, X_test, Y, Y_test = train_test_split(X_full, Y_full, test_size=0.1, random_state=0)\n",
    "X_train, X_valid, Y_train, Y_valid = train_test_split(X, Y, test_size=0.2, random_state=0)"
   ]
  },
  {
   "cell_type": "code",
   "execution_count": 6,
   "metadata": {},
   "outputs": [],
   "source": [
    "X_train = tf.convert_to_tensor(X_train)\n",
    "X_valid = tf.convert_to_tensor(X_valid)\n",
    "X_test = tf.convert_to_tensor(X_test)\n",
    "\n",
    "Y_train = tf.convert_to_tensor(Y_train)\n",
    "Y_valid = tf.convert_to_tensor(Y_valid)\n",
    "Y_test = tf.convert_to_tensor(Y_test)"
   ]
  },
  {
   "cell_type": "code",
   "execution_count": 7,
   "metadata": {},
   "outputs": [
    {
     "data": {
      "text/plain": [
       "[(737, 8), (185, 8), (103, 8)]"
      ]
     },
     "execution_count": 7,
     "metadata": {},
     "output_type": "execute_result"
    }
   ],
   "source": [
    "m_train, n_train = X_train.shape\n",
    "m_valid, n_valid = X_valid.shape\n",
    "m_test , n_test  = X_test.shape\n",
    "\n",
    "[(m_train, n_train), (m_valid, n_valid), (m_test, n_test)]"
   ]
  },
  {
   "cell_type": "markdown",
   "metadata": {},
   "source": [
    "## 5. Feature Scaling using `tf.keras.layers.Normalization`"
   ]
  },
  {
   "cell_type": "code",
   "execution_count": 8,
   "metadata": {},
   "outputs": [],
   "source": [
    "scaler = tf.keras.layers.Normalization()\n",
    "scaler.adapt(X_train)\n",
    "X_train = scaler(X_train)\n",
    "X_valid = scaler(X_valid)\n",
    "X_test = scaler(X_test)"
   ]
  },
  {
   "cell_type": "code",
   "execution_count": 9,
   "metadata": {},
   "outputs": [
    {
     "data": {
      "text/plain": [
       "TensorShape([737, 8])"
      ]
     },
     "execution_count": 9,
     "metadata": {},
     "output_type": "execute_result"
    }
   ],
   "source": [
    "X_train.shape"
   ]
  },
  {
   "cell_type": "markdown",
   "metadata": {},
   "source": [
    "## 6. Making $1^{st}$ neural network\n",
    "**Architecture:**\n",
    "- 1st input layer\n",
    "- `3` hidden layers\n",
    "- - 1st layer - `18` neurons (`relu`)\n",
    "- - 2nd layer - `36` neurons (`relu`)\n",
    "- - 3rd layer - `9` neurons  (`relu`)\n",
    "- 4th layer - output layer (`sigmoid`)"
   ]
  },
  {
   "cell_type": "code",
   "execution_count": 10,
   "metadata": {},
   "outputs": [],
   "source": [
    "model = tf.keras.Sequential([\n",
    "    tf.keras.Input(shape=n_train),\n",
    "    tf.keras.layers.Dense(units=18, activation=\"relu\", name=\"L1\"),\n",
    "    tf.keras.layers.Dense(units=36, activation=\"relu\", name=\"L2\"),\n",
    "    tf.keras.layers.Dense(units=9, activation=\"relu\", name=\"L3\"),\n",
    "    tf.keras.layers.Dense(units=1, name=\"output_layer\")\n",
    "], name=\"model_1\")"
   ]
  },
  {
   "cell_type": "code",
   "execution_count": 11,
   "metadata": {},
   "outputs": [
    {
     "name": "stdout",
     "output_type": "stream",
     "text": [
      "Model: \"model_1\"\n",
      "_________________________________________________________________\n",
      " Layer (type)                Output Shape              Param #   \n",
      "=================================================================\n",
      " L1 (Dense)                  (None, 18)                162       \n",
      "                                                                 \n",
      " L2 (Dense)                  (None, 36)                684       \n",
      "                                                                 \n",
      " L3 (Dense)                  (None, 9)                 333       \n",
      "                                                                 \n",
      " output_layer (Dense)        (None, 1)                 10        \n",
      "                                                                 \n",
      "=================================================================\n",
      "Total params: 1,189\n",
      "Trainable params: 1,189\n",
      "Non-trainable params: 0\n",
      "_________________________________________________________________\n"
     ]
    }
   ],
   "source": [
    "model.summary()"
   ]
  },
  {
   "cell_type": "code",
   "execution_count": 12,
   "metadata": {},
   "outputs": [],
   "source": [
    "model.compile(\n",
    "    optimizer=tf.keras.optimizers.Adam(learning_rate=0.01),\n",
    "    loss=tf.keras.losses.BinaryCrossentropy(from_logits=True),\n",
    "    metrics=[\"accuracy\"]\n",
    ")"
   ]
  },
  {
   "cell_type": "markdown",
   "metadata": {},
   "source": [
    "### 6.a. Fitting `training` data"
   ]
  },
  {
   "cell_type": "code",
   "execution_count": 13,
   "metadata": {},
   "outputs": [],
   "source": [
    "history = model.fit(X_train, Y_train, epochs=100, verbose=0)"
   ]
  },
  {
   "cell_type": "markdown",
   "metadata": {},
   "source": [
    "### 6.b. Saving / Loading weights to `model_1_weights`"
   ]
  },
  {
   "cell_type": "code",
   "execution_count": 14,
   "metadata": {},
   "outputs": [],
   "source": [
    "# model.save_weights(\"./weights/model_1_weights.h5\")\n",
    "model_1_weights = model.load_weights(\"./weights/model_1_weights.h5\")"
   ]
  },
  {
   "cell_type": "markdown",
   "metadata": {},
   "source": [
    "### 6.c. Plotting learning curve"
   ]
  },
  {
   "cell_type": "code",
   "execution_count": 15,
   "metadata": {},
   "outputs": [],
   "source": [
    "def plot_learning_curve(loss):\n",
    "    plt.title(\"Learning Curve\")\n",
    "    plt.xlabel(\"No. of iterations\")\n",
    "    plt.ylabel(\"Loss\")\n",
    "    sns.lineplot(x=np.arange(len(loss)), y=loss)\n",
    "    plt.tight_layout()"
   ]
  },
  {
   "cell_type": "code",
   "execution_count": 16,
   "metadata": {},
   "outputs": [
    {
     "data": {
      "image/png": "[encoded data removed]",
      "image/svg+xml": "<?xml version=\"1.0\" encoding=\"utf-8\" standalone=\"no\"?>\n<!DOCTYPE svg PUBLIC \"-//W3C//DTD SVG 1.1//EN\"\n  \"http://www.w3.org/Graphics/SVG/1.1/DTD/svg11.dtd\">\n<svg xmlns:xlink=\"http://www.w3.org/1999/xlink\" width=\"424.970312pt\" height=\"281.82625pt\" viewBox=\"0 0 424.970312 281.82625\" xmlns=\"http://www.w3.org/2000/svg\" version=\"1.1\">\n <metadata>\n  <rdf:RDF xmlns:dc=\"http://purl.org/dc/elements/1.1/\" xmlns:cc=\"http://creativecommons.org/ns#\" xmlns:rdf=\"http://www.w3.org/1999/02/22-rdf-syntax-ns#\">\n   <cc:Work>\n    <dc:type rdf:resource=\"http://purl.org/dc/dcmitype/StillImage\"/>\n    <dc:date>2022-08-23T21:41:06.879478</dc:date>\n    <dc:format>image/svg+xml</dc:format>\n    <dc:creator>\n     <cc:Agent>\n      <dc:title>Matplotlib v3.5.2, https://matplotlib.org/</dc:title>\n     </cc:Agent>\n    </dc:creator>\n   </cc:Work>\n  </rdf:RDF>\n </metadata>\n <defs>\n  <style type=\"text/css\">*{stroke-linejoin: round; stroke-linecap: butt}</style>\n </defs>\n <g id=\"figure_1\">\n  <g id=\"patch_1\">\n   <path d=\"M 0 281.82625 \nL 424.970312 281.82625 \nL 424.970312 0 \nL 0 0 \nz\n\" style=\"fill: #ffffff\"/>\n  </g>\n  <g id=\"axes_1\">\n   <g id=\"patch_2\">\n    <path d=\"M 41.245312 245.335625 \nL 417.770312 245.335625 \nL 417.770312 21.935625 \nL 41.245312 21.935625 \nz\n\" style=\"fill: #eaeaf2\"/>\n   </g>\n   <g id=\"matplotlib.axis_1\">\n    <g id=\"xtick_1\">\n     <g id=\"line2d_1\">\n      <path d=\"M 58.360085 245.335625 \nL 58.360085 21.935625 \n\" clip-path=\"url(#p8364da5a12)\" style=\"fill: none; stroke: #ffffff; stroke-width: 0.8; stroke-linecap: round\"/>\n     </g>\n     <g id=\"text_1\">\n      <!-- 0 -->\n      <g style=\"fill: #262626\" transform=\"translate(55.579616 259.493438)scale(0.1 -0.1)\">\n       <defs>\n        <path id=\"ArialMT-30\" d=\"M 266 2259 \nQ 266 3072 433 3567 \nQ 600 4063 929 4331 \nQ 1259 4600 1759 4600 \nQ 2128 4600 2406 4451 \nQ 2684 4303 2865 4023 \nQ 3047 3744 3150 3342 \nQ 3253 2941 3253 2259 \nQ 3253 1453 3087 958 \nQ 2922 463 2592 192 \nQ 2263 -78 1759 -78 \nQ 1097 -78 719 397 \nQ 266 969 266 2259 \nz\nM 844 2259 \nQ 844 1131 1108 757 \nQ 1372 384 1759 384 \nQ 2147 384 2411 759 \nQ 2675 1134 2675 2259 \nQ 2675 3391 2411 3762 \nQ 2147 4134 1753 4134 \nQ 1366 4134 1134 3806 \nQ 844 3388 844 2259 \nz\n\" transform=\"scale(0.015625)\"/>\n       </defs>\n       <use xlink:href=\"#ArialMT-30\"/>\n      </g>\n     </g>\n    </g>\n    <g id=\"xtick_2\">\n     <g id=\"line2d_2\">\n      <path d=\"M 127.510682 245.335625 \nL 127.510682 21.935625 \n\" clip-path=\"url(#p8364da5a12)\" style=\"fill: none; stroke: #ffffff; stroke-width: 0.8; stroke-linecap: round\"/>\n     </g>\n     <g id=\"text_2\">\n      <!-- 20 -->\n      <g style=\"fill: #262626\" transform=\"translate(121.949745 259.493438)scale(0.1 -0.1)\">\n       <defs>\n        <path id=\"ArialMT-32\" d=\"M 3222 541 \nL 3222 0 \nL 194 0 \nQ 188 203 259 391 \nQ 375 700 629 1000 \nQ 884 1300 1366 1694 \nQ 2113 2306 2375 2664 \nQ 2638 3022 2638 3341 \nQ 2638 3675 2398 3904 \nQ 2159 4134 1775 4134 \nQ 1369 4134 1125 3890 \nQ 881 3647 878 3216 \nL 300 3275 \nQ 359 3922 746 4261 \nQ 1134 4600 1788 4600 \nQ 2447 4600 2831 4234 \nQ 3216 3869 3216 3328 \nQ 3216 3053 3103 2787 \nQ 2991 2522 2730 2228 \nQ 2469 1934 1863 1422 \nQ 1356 997 1212 845 \nQ 1069 694 975 541 \nL 3222 541 \nz\n\" transform=\"scale(0.015625)\"/>\n       </defs>\n       <use xlink:href=\"#ArialMT-32\"/>\n       <use xlink:href=\"#ArialMT-30\" x=\"55.615234\"/>\n      </g>\n     </g>\n    </g>\n    <g id=\"xtick_3\">\n     <g id=\"line2d_3\">\n      <path d=\"M 196.661279 245.335625 \nL 196.661279 21.935625 \n\" clip-path=\"url(#p8364da5a12)\" style=\"fill: none; stroke: #ffffff; stroke-width: 0.8; stroke-linecap: round\"/>\n     </g>\n     <g id=\"text_3\">\n      <!-- 40 -->\n      <g style=\"fill: #262626\" transform=\"translate(191.100341 259.493438)scale(0.1 -0.1)\">\n       <defs>\n        <path id=\"ArialMT-34\" d=\"M 2069 0 \nL 2069 1097 \nL 81 1097 \nL 81 1613 \nL 2172 4581 \nL 2631 4581 \nL 2631 1613 \nL 3250 1613 \nL 3250 1097 \nL 2631 1097 \nL 2631 0 \nL 2069 0 \nz\nM 2069 1613 \nL 2069 3678 \nL 634 1613 \nL 2069 1613 \nz\n\" transform=\"scale(0.015625)\"/>\n       </defs>\n       <use xlink:href=\"#ArialMT-34\"/>\n       <use xlink:href=\"#ArialMT-30\" x=\"55.615234\"/>\n      </g>\n     </g>\n    </g>\n    <g id=\"xtick_4\">\n     <g id=\"line2d_4\">\n      <path d=\"M 265.811876 245.335625 \nL 265.811876 21.935625 \n\" clip-path=\"url(#p8364da5a12)\" style=\"fill: none; stroke: #ffffff; stroke-width: 0.8; stroke-linecap: round\"/>\n     </g>\n     <g id=\"text_4\">\n      <!-- 60 -->\n      <g style=\"fill: #262626\" transform=\"translate(260.250938 259.493438)scale(0.1 -0.1)\">\n       <defs>\n        <path id=\"ArialMT-36\" d=\"M 3184 3459 \nL 2625 3416 \nQ 2550 3747 2413 3897 \nQ 2184 4138 1850 4138 \nQ 1581 4138 1378 3988 \nQ 1113 3794 959 3422 \nQ 806 3050 800 2363 \nQ 1003 2672 1297 2822 \nQ 1591 2972 1913 2972 \nQ 2475 2972 2870 2558 \nQ 3266 2144 3266 1488 \nQ 3266 1056 3080 686 \nQ 2894 316 2569 119 \nQ 2244 -78 1831 -78 \nQ 1128 -78 684 439 \nQ 241 956 241 2144 \nQ 241 3472 731 4075 \nQ 1159 4600 1884 4600 \nQ 2425 4600 2770 4297 \nQ 3116 3994 3184 3459 \nz\nM 888 1484 \nQ 888 1194 1011 928 \nQ 1134 663 1356 523 \nQ 1578 384 1822 384 \nQ 2178 384 2434 671 \nQ 2691 959 2691 1453 \nQ 2691 1928 2437 2201 \nQ 2184 2475 1800 2475 \nQ 1419 2475 1153 2201 \nQ 888 1928 888 1484 \nz\n\" transform=\"scale(0.015625)\"/>\n       </defs>\n       <use xlink:href=\"#ArialMT-36\"/>\n       <use xlink:href=\"#ArialMT-30\" x=\"55.615234\"/>\n      </g>\n     </g>\n    </g>\n    <g id=\"xtick_5\">\n     <g id=\"line2d_5\">\n      <path d=\"M 334.962473 245.335625 \nL 334.962473 21.935625 \n\" clip-path=\"url(#p8364da5a12)\" style=\"fill: none; stroke: #ffffff; stroke-width: 0.8; stroke-linecap: round\"/>\n     </g>\n     <g id=\"text_5\">\n      <!-- 80 -->\n      <g style=\"fill: #262626\" transform=\"translate(329.401535 259.493438)scale(0.1 -0.1)\">\n       <defs>\n        <path id=\"ArialMT-38\" d=\"M 1131 2484 \nQ 781 2613 612 2850 \nQ 444 3088 444 3419 \nQ 444 3919 803 4259 \nQ 1163 4600 1759 4600 \nQ 2359 4600 2725 4251 \nQ 3091 3903 3091 3403 \nQ 3091 3084 2923 2848 \nQ 2756 2613 2416 2484 \nQ 2838 2347 3058 2040 \nQ 3278 1734 3278 1309 \nQ 3278 722 2862 322 \nQ 2447 -78 1769 -78 \nQ 1091 -78 675 323 \nQ 259 725 259 1325 \nQ 259 1772 486 2073 \nQ 713 2375 1131 2484 \nz\nM 1019 3438 \nQ 1019 3113 1228 2906 \nQ 1438 2700 1772 2700 \nQ 2097 2700 2305 2904 \nQ 2513 3109 2513 3406 \nQ 2513 3716 2298 3927 \nQ 2084 4138 1766 4138 \nQ 1444 4138 1231 3931 \nQ 1019 3725 1019 3438 \nz\nM 838 1322 \nQ 838 1081 952 856 \nQ 1066 631 1291 507 \nQ 1516 384 1775 384 \nQ 2178 384 2440 643 \nQ 2703 903 2703 1303 \nQ 2703 1709 2433 1975 \nQ 2163 2241 1756 2241 \nQ 1359 2241 1098 1978 \nQ 838 1716 838 1322 \nz\n\" transform=\"scale(0.015625)\"/>\n       </defs>\n       <use xlink:href=\"#ArialMT-38\"/>\n       <use xlink:href=\"#ArialMT-30\" x=\"55.615234\"/>\n      </g>\n     </g>\n    </g>\n    <g id=\"xtick_6\">\n     <g id=\"line2d_6\">\n      <path d=\"M 404.11307 245.335625 \nL 404.11307 21.935625 \n\" clip-path=\"url(#p8364da5a12)\" style=\"fill: none; stroke: #ffffff; stroke-width: 0.8; stroke-linecap: round\"/>\n     </g>\n     <g id=\"text_6\">\n      <!-- 100 -->\n      <g style=\"fill: #262626\" transform=\"translate(395.771663 259.493438)scale(0.1 -0.1)\">\n       <defs>\n        <path id=\"ArialMT-31\" d=\"M 2384 0 \nL 1822 0 \nL 1822 3584 \nQ 1619 3391 1289 3197 \nQ 959 3003 697 2906 \nL 697 3450 \nQ 1169 3672 1522 3987 \nQ 1875 4303 2022 4600 \nL 2384 4600 \nL 2384 0 \nz\n\" transform=\"scale(0.015625)\"/>\n       </defs>\n       <use xlink:href=\"#ArialMT-31\"/>\n       <use xlink:href=\"#ArialMT-30\" x=\"55.615234\"/>\n       <use xlink:href=\"#ArialMT-30\" x=\"111.230469\"/>\n      </g>\n     </g>\n    </g>\n    <g id=\"text_7\">\n     <!-- No. of iterations -->\n     <g style=\"fill: #262626\" transform=\"translate(194.492969 272.63875)scale(0.1 -0.1)\">\n      <defs>\n       <path id=\"ArialMT-4e\" d=\"M 488 0 \nL 488 4581 \nL 1109 4581 \nL 3516 984 \nL 3516 4581 \nL 4097 4581 \nL 4097 0 \nL 3475 0 \nL 1069 3600 \nL 1069 0 \nL 488 0 \nz\n\" transform=\"scale(0.015625)\"/>\n       <path id=\"ArialMT-6f\" d=\"M 213 1659 \nQ 213 2581 725 3025 \nQ 1153 3394 1769 3394 \nQ 2453 3394 2887 2945 \nQ 3322 2497 3322 1706 \nQ 3322 1066 3130 698 \nQ 2938 331 2570 128 \nQ 2203 -75 1769 -75 \nQ 1072 -75 642 372 \nQ 213 819 213 1659 \nz\nM 791 1659 \nQ 791 1022 1069 705 \nQ 1347 388 1769 388 \nQ 2188 388 2466 706 \nQ 2744 1025 2744 1678 \nQ 2744 2294 2464 2611 \nQ 2184 2928 1769 2928 \nQ 1347 2928 1069 2612 \nQ 791 2297 791 1659 \nz\n\" transform=\"scale(0.015625)\"/>\n       <path id=\"ArialMT-2e\" d=\"M 581 0 \nL 581 641 \nL 1222 641 \nL 1222 0 \nL 581 0 \nz\n\" transform=\"scale(0.015625)\"/>\n       <path id=\"ArialMT-20\" transform=\"scale(0.015625)\"/>\n       <path id=\"ArialMT-66\" d=\"M 556 0 \nL 556 2881 \nL 59 2881 \nL 59 3319 \nL 556 3319 \nL 556 3672 \nQ 556 4006 616 4169 \nQ 697 4388 901 4523 \nQ 1106 4659 1475 4659 \nQ 1713 4659 2000 4603 \nL 1916 4113 \nQ 1741 4144 1584 4144 \nQ 1328 4144 1222 4034 \nQ 1116 3925 1116 3625 \nL 1116 3319 \nL 1763 3319 \nL 1763 2881 \nL 1116 2881 \nL 1116 0 \nL 556 0 \nz\n\" transform=\"scale(0.015625)\"/>\n       <path id=\"ArialMT-69\" d=\"M 425 3934 \nL 425 4581 \nL 988 4581 \nL 988 3934 \nL 425 3934 \nz\nM 425 0 \nL 425 3319 \nL 988 3319 \nL 988 0 \nL 425 0 \nz\n\" transform=\"scale(0.015625)\"/>\n       <path id=\"ArialMT-74\" d=\"M 1650 503 \nL 1731 6 \nQ 1494 -44 1306 -44 \nQ 1000 -44 831 53 \nQ 663 150 594 308 \nQ 525 466 525 972 \nL 525 2881 \nL 113 2881 \nL 113 3319 \nL 525 3319 \nL 525 4141 \nL 1084 4478 \nL 1084 3319 \nL 1650 3319 \nL 1650 2881 \nL 1084 2881 \nL 1084 941 \nQ 1084 700 1114 631 \nQ 1144 563 1211 522 \nQ 1278 481 1403 481 \nQ 1497 481 1650 503 \nz\n\" transform=\"scale(0.015625)\"/>\n       <path id=\"ArialMT-65\" d=\"M 2694 1069 \nL 3275 997 \nQ 3138 488 2766 206 \nQ 2394 -75 1816 -75 \nQ 1088 -75 661 373 \nQ 234 822 234 1631 \nQ 234 2469 665 2931 \nQ 1097 3394 1784 3394 \nQ 2450 3394 2872 2941 \nQ 3294 2488 3294 1666 \nQ 3294 1616 3291 1516 \nL 816 1516 \nQ 847 969 1125 678 \nQ 1403 388 1819 388 \nQ 2128 388 2347 550 \nQ 2566 713 2694 1069 \nz\nM 847 1978 \nL 2700 1978 \nQ 2663 2397 2488 2606 \nQ 2219 2931 1791 2931 \nQ 1403 2931 1139 2672 \nQ 875 2413 847 1978 \nz\n\" transform=\"scale(0.015625)\"/>\n       <path id=\"ArialMT-72\" d=\"M 416 0 \nL 416 3319 \nL 922 3319 \nL 922 2816 \nQ 1116 3169 1280 3281 \nQ 1444 3394 1641 3394 \nQ 1925 3394 2219 3213 \nL 2025 2691 \nQ 1819 2813 1613 2813 \nQ 1428 2813 1281 2702 \nQ 1134 2591 1072 2394 \nQ 978 2094 978 1738 \nL 978 0 \nL 416 0 \nz\n\" transform=\"scale(0.015625)\"/>\n       <path id=\"ArialMT-61\" d=\"M 2588 409 \nQ 2275 144 1986 34 \nQ 1697 -75 1366 -75 \nQ 819 -75 525 192 \nQ 231 459 231 875 \nQ 231 1119 342 1320 \nQ 453 1522 633 1644 \nQ 813 1766 1038 1828 \nQ 1203 1872 1538 1913 \nQ 2219 1994 2541 2106 \nQ 2544 2222 2544 2253 \nQ 2544 2597 2384 2738 \nQ 2169 2928 1744 2928 \nQ 1347 2928 1158 2789 \nQ 969 2650 878 2297 \nL 328 2372 \nQ 403 2725 575 2942 \nQ 747 3159 1072 3276 \nQ 1397 3394 1825 3394 \nQ 2250 3394 2515 3294 \nQ 2781 3194 2906 3042 \nQ 3031 2891 3081 2659 \nQ 3109 2516 3109 2141 \nL 3109 1391 \nQ 3109 606 3145 398 \nQ 3181 191 3288 0 \nL 2700 0 \nQ 2613 175 2588 409 \nz\nM 2541 1666 \nQ 2234 1541 1622 1453 \nQ 1275 1403 1131 1340 \nQ 988 1278 909 1158 \nQ 831 1038 831 891 \nQ 831 666 1001 516 \nQ 1172 366 1500 366 \nQ 1825 366 2078 508 \nQ 2331 650 2450 897 \nQ 2541 1088 2541 1459 \nL 2541 1666 \nz\n\" transform=\"scale(0.015625)\"/>\n       <path id=\"ArialMT-6e\" d=\"M 422 0 \nL 422 3319 \nL 928 3319 \nL 928 2847 \nQ 1294 3394 1984 3394 \nQ 2284 3394 2536 3286 \nQ 2788 3178 2913 3003 \nQ 3038 2828 3088 2588 \nQ 3119 2431 3119 2041 \nL 3119 0 \nL 2556 0 \nL 2556 2019 \nQ 2556 2363 2490 2533 \nQ 2425 2703 2258 2804 \nQ 2091 2906 1866 2906 \nQ 1506 2906 1245 2678 \nQ 984 2450 984 1813 \nL 984 0 \nL 422 0 \nz\n\" transform=\"scale(0.015625)\"/>\n       <path id=\"ArialMT-73\" d=\"M 197 991 \nL 753 1078 \nQ 800 744 1014 566 \nQ 1228 388 1613 388 \nQ 2000 388 2187 545 \nQ 2375 703 2375 916 \nQ 2375 1106 2209 1216 \nQ 2094 1291 1634 1406 \nQ 1016 1563 777 1677 \nQ 538 1791 414 1992 \nQ 291 2194 291 2438 \nQ 291 2659 392 2848 \nQ 494 3038 669 3163 \nQ 800 3259 1026 3326 \nQ 1253 3394 1513 3394 \nQ 1903 3394 2198 3281 \nQ 2494 3169 2634 2976 \nQ 2775 2784 2828 2463 \nL 2278 2388 \nQ 2241 2644 2061 2787 \nQ 1881 2931 1553 2931 \nQ 1166 2931 1000 2803 \nQ 834 2675 834 2503 \nQ 834 2394 903 2306 \nQ 972 2216 1119 2156 \nQ 1203 2125 1616 2013 \nQ 2213 1853 2448 1751 \nQ 2684 1650 2818 1456 \nQ 2953 1263 2953 975 \nQ 2953 694 2789 445 \nQ 2625 197 2315 61 \nQ 2006 -75 1616 -75 \nQ 969 -75 630 194 \nQ 291 463 197 991 \nz\n\" transform=\"scale(0.015625)\"/>\n      </defs>\n      <use xlink:href=\"#ArialMT-4e\"/>\n      <use xlink:href=\"#ArialMT-6f\" x=\"72.216797\"/>\n      <use xlink:href=\"#ArialMT-2e\" x=\"127.832031\"/>\n      <use xlink:href=\"#ArialMT-20\" x=\"155.615234\"/>\n      <use xlink:href=\"#ArialMT-6f\" x=\"183.398438\"/>\n      <use xlink:href=\"#ArialMT-66\" x=\"239.013672\"/>\n      <use xlink:href=\"#ArialMT-20\" x=\"266.796875\"/>\n      <use xlink:href=\"#ArialMT-69\" x=\"294.580078\"/>\n      <use xlink:href=\"#ArialMT-74\" x=\"316.796875\"/>\n      <use xlink:href=\"#ArialMT-65\" x=\"344.580078\"/>\n      <use xlink:href=\"#ArialMT-72\" x=\"400.195312\"/>\n      <use xlink:href=\"#ArialMT-61\" x=\"433.496094\"/>\n      <use xlink:href=\"#ArialMT-74\" x=\"489.111328\"/>\n      <use xlink:href=\"#ArialMT-69\" x=\"516.894531\"/>\n      <use xlink:href=\"#ArialMT-6f\" x=\"539.111328\"/>\n      <use xlink:href=\"#ArialMT-6e\" x=\"594.726562\"/>\n      <use xlink:href=\"#ArialMT-73\" x=\"650.341797\"/>\n     </g>\n    </g>\n   </g>\n   <g id=\"matplotlib.axis_2\">\n    <g id=\"ytick_1\">\n     <g id=\"line2d_7\">\n      <path d=\"M 41.245312 237.897824 \nL 417.770312 237.897824 \n\" clip-path=\"url(#p8364da5a12)\" style=\"fill: none; stroke: #ffffff; stroke-width: 0.8; stroke-linecap: round\"/>\n     </g>\n     <g id=\"text_8\">\n      <!-- 0.0 -->\n      <g style=\"fill: #262626\" transform=\"translate(20.345312 241.47673)scale(0.1 -0.1)\">\n       <use xlink:href=\"#ArialMT-30\"/>\n       <use xlink:href=\"#ArialMT-2e\" x=\"55.615234\"/>\n       <use xlink:href=\"#ArialMT-30\" x=\"83.398438\"/>\n      </g>\n     </g>\n    </g>\n    <g id=\"ytick_2\">\n     <g id=\"line2d_8\">\n      <path d=\"M 41.245312 200.948233 \nL 417.770312 200.948233 \n\" clip-path=\"url(#p8364da5a12)\" style=\"fill: none; stroke: #ffffff; stroke-width: 0.8; stroke-linecap: round\"/>\n     </g>\n     <g id=\"text_9\">\n      <!-- 0.1 -->\n      <g style=\"fill: #262626\" transform=\"translate(20.345312 204.527139)scale(0.1 -0.1)\">\n       <use xlink:href=\"#ArialMT-30\"/>\n       <use xlink:href=\"#ArialMT-2e\" x=\"55.615234\"/>\n       <use xlink:href=\"#ArialMT-31\" x=\"83.398438\"/>\n      </g>\n     </g>\n    </g>\n    <g id=\"ytick_3\">\n     <g id=\"line2d_9\">\n      <path d=\"M 41.245312 163.998641 \nL 417.770312 163.998641 \n\" clip-path=\"url(#p8364da5a12)\" style=\"fill: none; stroke: #ffffff; stroke-width: 0.8; stroke-linecap: round\"/>\n     </g>\n     <g id=\"text_10\">\n      <!-- 0.2 -->\n      <g style=\"fill: #262626\" transform=\"translate(20.345312 167.577548)scale(0.1 -0.1)\">\n       <use xlink:href=\"#ArialMT-30\"/>\n       <use xlink:href=\"#ArialMT-2e\" x=\"55.615234\"/>\n       <use xlink:href=\"#ArialMT-32\" x=\"83.398438\"/>\n      </g>\n     </g>\n    </g>\n    <g id=\"ytick_4\">\n     <g id=\"line2d_10\">\n      <path d=\"M 41.245312 127.04905 \nL 417.770312 127.04905 \n\" clip-path=\"url(#p8364da5a12)\" style=\"fill: none; stroke: #ffffff; stroke-width: 0.8; stroke-linecap: round\"/>\n     </g>\n     <g id=\"text_11\">\n      <!-- 0.3 -->\n      <g style=\"fill: #262626\" transform=\"translate(20.345312 130.627956)scale(0.1 -0.1)\">\n       <defs>\n        <path id=\"ArialMT-33\" d=\"M 269 1209 \nL 831 1284 \nQ 928 806 1161 595 \nQ 1394 384 1728 384 \nQ 2125 384 2398 659 \nQ 2672 934 2672 1341 \nQ 2672 1728 2419 1979 \nQ 2166 2231 1775 2231 \nQ 1616 2231 1378 2169 \nL 1441 2663 \nQ 1497 2656 1531 2656 \nQ 1891 2656 2178 2843 \nQ 2466 3031 2466 3422 \nQ 2466 3731 2256 3934 \nQ 2047 4138 1716 4138 \nQ 1388 4138 1169 3931 \nQ 950 3725 888 3313 \nL 325 3413 \nQ 428 3978 793 4289 \nQ 1159 4600 1703 4600 \nQ 2078 4600 2393 4439 \nQ 2709 4278 2876 4000 \nQ 3044 3722 3044 3409 \nQ 3044 3113 2884 2869 \nQ 2725 2625 2413 2481 \nQ 2819 2388 3044 2092 \nQ 3269 1797 3269 1353 \nQ 3269 753 2831 336 \nQ 2394 -81 1725 -81 \nQ 1122 -81 723 278 \nQ 325 638 269 1209 \nz\n\" transform=\"scale(0.015625)\"/>\n       </defs>\n       <use xlink:href=\"#ArialMT-30\"/>\n       <use xlink:href=\"#ArialMT-2e\" x=\"55.615234\"/>\n       <use xlink:href=\"#ArialMT-33\" x=\"83.398438\"/>\n      </g>\n     </g>\n    </g>\n    <g id=\"ytick_5\">\n     <g id=\"line2d_11\">\n      <path d=\"M 41.245312 90.099458 \nL 417.770312 90.099458 \n\" clip-path=\"url(#p8364da5a12)\" style=\"fill: none; stroke: #ffffff; stroke-width: 0.8; stroke-linecap: round\"/>\n     </g>\n     <g id=\"text_12\">\n      <!-- 0.4 -->\n      <g style=\"fill: #262626\" transform=\"translate(20.345312 93.678365)scale(0.1 -0.1)\">\n       <use xlink:href=\"#ArialMT-30\"/>\n       <use xlink:href=\"#ArialMT-2e\" x=\"55.615234\"/>\n       <use xlink:href=\"#ArialMT-34\" x=\"83.398438\"/>\n      </g>\n     </g>\n    </g>\n    <g id=\"ytick_6\">\n     <g id=\"line2d_12\">\n      <path d=\"M 41.245312 53.149867 \nL 417.770312 53.149867 \n\" clip-path=\"url(#p8364da5a12)\" style=\"fill: none; stroke: #ffffff; stroke-width: 0.8; stroke-linecap: round\"/>\n     </g>\n     <g id=\"text_13\">\n      <!-- 0.5 -->\n      <g style=\"fill: #262626\" transform=\"translate(20.345312 56.728773)scale(0.1 -0.1)\">\n       <defs>\n        <path id=\"ArialMT-35\" d=\"M 266 1200 \nL 856 1250 \nQ 922 819 1161 601 \nQ 1400 384 1738 384 \nQ 2144 384 2425 690 \nQ 2706 997 2706 1503 \nQ 2706 1984 2436 2262 \nQ 2166 2541 1728 2541 \nQ 1456 2541 1237 2417 \nQ 1019 2294 894 2097 \nL 366 2166 \nL 809 4519 \nL 3088 4519 \nL 3088 3981 \nL 1259 3981 \nL 1013 2750 \nQ 1425 3038 1878 3038 \nQ 2478 3038 2890 2622 \nQ 3303 2206 3303 1553 \nQ 3303 931 2941 478 \nQ 2500 -78 1738 -78 \nQ 1113 -78 717 272 \nQ 322 622 266 1200 \nz\n\" transform=\"scale(0.015625)\"/>\n       </defs>\n       <use xlink:href=\"#ArialMT-30\"/>\n       <use xlink:href=\"#ArialMT-2e\" x=\"55.615234\"/>\n       <use xlink:href=\"#ArialMT-35\" x=\"83.398438\"/>\n      </g>\n     </g>\n    </g>\n    <g id=\"text_14\">\n     <!-- Loss -->\n     <g style=\"fill: #262626\" transform=\"translate(14.357812 144.196562)rotate(-90)scale(0.1 -0.1)\">\n      <defs>\n       <path id=\"ArialMT-4c\" d=\"M 469 0 \nL 469 4581 \nL 1075 4581 \nL 1075 541 \nL 3331 541 \nL 3331 0 \nL 469 0 \nz\n\" transform=\"scale(0.015625)\"/>\n      </defs>\n      <use xlink:href=\"#ArialMT-4c\"/>\n      <use xlink:href=\"#ArialMT-6f\" x=\"55.615234\"/>\n      <use xlink:href=\"#ArialMT-73\" x=\"111.230469\"/>\n      <use xlink:href=\"#ArialMT-73\" x=\"161.230469\"/>\n     </g>\n    </g>\n   </g>\n   <g id=\"line2d_13\">\n    <path d=\"M 58.360085 32.09017 \nL 61.817615 78.046451 \nL 65.275145 84.016265 \nL 68.732675 100.380195 \nL 72.190205 109.402699 \nL 75.647734 123.310879 \nL 79.105264 126.294558 \nL 82.562794 138.939979 \nL 86.020324 140.814667 \nL 89.477854 153.644073 \nL 92.935384 143.63852 \nL 96.392914 161.419718 \nL 99.850443 177.705051 \nL 103.307973 168.541485 \nL 106.765503 180.107712 \nL 110.223033 193.607541 \nL 113.680563 196.357026 \nL 117.138093 204.663218 \nL 120.595622 209.100779 \nL 124.053152 181.621471 \nL 127.510682 189.96248 \nL 130.968212 193.265007 \nL 134.425742 210.730101 \nL 137.883272 211.810365 \nL 141.340801 217.241053 \nL 144.798331 218.566127 \nL 148.255861 205.262708 \nL 151.713391 186.746831 \nL 155.170921 149.319521 \nL 158.628451 202.369725 \nL 162.085981 208.980117 \nL 165.54351 209.759281 \nL 169.00104 101.597003 \nL 172.45857 151.188075 \nL 175.9161 194.540767 \nL 179.37363 207.620508 \nL 182.83116 217.321032 \nL 186.288689 220.582979 \nL 189.746219 221.143111 \nL 193.203749 224.856457 \nL 196.661279 221.850239 \nL 200.118809 227.570033 \nL 203.576339 229.122917 \nL 207.033869 218.086394 \nL 210.491398 224.796195 \nL 213.948928 229.002954 \nL 217.406458 230.385754 \nL 220.863988 231.232475 \nL 224.321518 231.285171 \nL 227.779048 231.689032 \nL 231.236577 231.774796 \nL 234.694107 232.454881 \nL 238.151637 231.452535 \nL 241.609167 230.827699 \nL 245.066697 225.010102 \nL 248.524227 226.854948 \nL 251.981756 226.493595 \nL 255.439286 217.718466 \nL 258.896816 216.273343 \nL 262.354346 192.193084 \nL 265.811876 222.162188 \nL 269.269406 225.887041 \nL 272.726936 209.007743 \nL 276.184465 201.071152 \nL 279.641995 197.327207 \nL 283.099525 214.125389 \nL 286.557055 224.32777 \nL 290.014585 229.498564 \nL 293.472115 226.703436 \nL 296.929644 227.235413 \nL 300.387174 232.661227 \nL 303.844704 231.472886 \nL 307.302234 224.312067 \nL 310.759764 228.126163 \nL 314.217294 230.496463 \nL 317.674824 232.361011 \nL 321.132353 233.442114 \nL 324.589883 234.041427 \nL 328.047413 233.902875 \nL 331.504943 233.786718 \nL 334.962473 233.872098 \nL 338.420003 233.433891 \nL 341.877532 233.678107 \nL 345.335062 233.903595 \nL 348.792592 234.368684 \nL 352.250122 234.48253 \nL 355.707652 234.505757 \nL 359.165182 235.022322 \nL 362.622711 234.870262 \nL 366.080241 234.525541 \nL 369.537771 233.789733 \nL 372.995301 234.367596 \nL 376.452831 235.18108 \nL 379.910361 234.915367 \nL 383.367891 234.66211 \nL 386.82542 234.849557 \nL 390.28295 234.898311 \nL 393.74048 234.94454 \nL 397.19801 234.94526 \nL 400.65554 234.991037 \n\" clip-path=\"url(#p8364da5a12)\" style=\"fill: none; stroke: #8dd3c7; stroke-width: 1.5; stroke-linecap: round\"/>\n   </g>\n   <g id=\"patch_3\">\n    <path d=\"M 41.245312 245.335625 \nL 41.245312 21.935625 \n\" style=\"fill: none; stroke: #ffffff; stroke-width: 0.8; stroke-linejoin: miter; stroke-linecap: square\"/>\n   </g>\n   <g id=\"patch_4\">\n    <path d=\"M 417.770312 245.335625 \nL 417.770312 21.935625 \n\" style=\"fill: none; stroke: #ffffff; stroke-width: 0.8; stroke-linejoin: miter; stroke-linecap: square\"/>\n   </g>\n   <g id=\"patch_5\">\n    <path d=\"M 41.245312 245.335625 \nL 417.770312 245.335625 \n\" style=\"fill: none; stroke: #ffffff; stroke-width: 0.8; stroke-linejoin: miter; stroke-linecap: square\"/>\n   </g>\n   <g id=\"patch_6\">\n    <path d=\"M 41.245312 21.935625 \nL 417.770312 21.935625 \n\" style=\"fill: none; stroke: #ffffff; stroke-width: 0.8; stroke-linejoin: miter; stroke-linecap: square\"/>\n   </g>\n   <g id=\"text_15\">\n    <!-- Learning Curve -->\n    <g style=\"fill: #262626\" transform=\"translate(188.486562 15.935625)scale(0.12 -0.12)\">\n     <defs>\n      <path id=\"ArialMT-67\" d=\"M 319 -275 \nL 866 -356 \nQ 900 -609 1056 -725 \nQ 1266 -881 1628 -881 \nQ 2019 -881 2231 -725 \nQ 2444 -569 2519 -288 \nQ 2563 -116 2559 434 \nQ 2191 0 1641 0 \nQ 956 0 581 494 \nQ 206 988 206 1678 \nQ 206 2153 378 2554 \nQ 550 2956 876 3175 \nQ 1203 3394 1644 3394 \nQ 2231 3394 2613 2919 \nL 2613 3319 \nL 3131 3319 \nL 3131 450 \nQ 3131 -325 2973 -648 \nQ 2816 -972 2473 -1159 \nQ 2131 -1347 1631 -1347 \nQ 1038 -1347 672 -1080 \nQ 306 -813 319 -275 \nz\nM 784 1719 \nQ 784 1066 1043 766 \nQ 1303 466 1694 466 \nQ 2081 466 2343 764 \nQ 2606 1063 2606 1700 \nQ 2606 2309 2336 2618 \nQ 2066 2928 1684 2928 \nQ 1309 2928 1046 2623 \nQ 784 2319 784 1719 \nz\n\" transform=\"scale(0.015625)\"/>\n      <path id=\"ArialMT-43\" d=\"M 3763 1606 \nL 4369 1453 \nQ 4178 706 3683 314 \nQ 3188 -78 2472 -78 \nQ 1731 -78 1267 223 \nQ 803 525 561 1097 \nQ 319 1669 319 2325 \nQ 319 3041 592 3573 \nQ 866 4106 1370 4382 \nQ 1875 4659 2481 4659 \nQ 3169 4659 3637 4309 \nQ 4106 3959 4291 3325 \nL 3694 3184 \nQ 3534 3684 3231 3912 \nQ 2928 4141 2469 4141 \nQ 1941 4141 1586 3887 \nQ 1231 3634 1087 3207 \nQ 944 2781 944 2328 \nQ 944 1744 1114 1308 \nQ 1284 872 1643 656 \nQ 2003 441 2422 441 \nQ 2931 441 3284 734 \nQ 3638 1028 3763 1606 \nz\n\" transform=\"scale(0.015625)\"/>\n      <path id=\"ArialMT-75\" d=\"M 2597 0 \nL 2597 488 \nQ 2209 -75 1544 -75 \nQ 1250 -75 995 37 \nQ 741 150 617 320 \nQ 494 491 444 738 \nQ 409 903 409 1263 \nL 409 3319 \nL 972 3319 \nL 972 1478 \nQ 972 1038 1006 884 \nQ 1059 663 1231 536 \nQ 1403 409 1656 409 \nQ 1909 409 2131 539 \nQ 2353 669 2445 892 \nQ 2538 1116 2538 1541 \nL 2538 3319 \nL 3100 3319 \nL 3100 0 \nL 2597 0 \nz\n\" transform=\"scale(0.015625)\"/>\n      <path id=\"ArialMT-76\" d=\"M 1344 0 \nL 81 3319 \nL 675 3319 \nL 1388 1331 \nQ 1503 1009 1600 663 \nQ 1675 925 1809 1294 \nL 2547 3319 \nL 3125 3319 \nL 1869 0 \nL 1344 0 \nz\n\" transform=\"scale(0.015625)\"/>\n     </defs>\n     <use xlink:href=\"#ArialMT-4c\"/>\n     <use xlink:href=\"#ArialMT-65\" x=\"55.615234\"/>\n     <use xlink:href=\"#ArialMT-61\" x=\"111.230469\"/>\n     <use xlink:href=\"#ArialMT-72\" x=\"166.845703\"/>\n     <use xlink:href=\"#ArialMT-6e\" x=\"200.146484\"/>\n     <use xlink:href=\"#ArialMT-69\" x=\"255.761719\"/>\n     <use xlink:href=\"#ArialMT-6e\" x=\"277.978516\"/>\n     <use xlink:href=\"#ArialMT-67\" x=\"333.59375\"/>\n     <use xlink:href=\"#ArialMT-20\" x=\"389.208984\"/>\n     <use xlink:href=\"#ArialMT-43\" x=\"416.992188\"/>\n     <use xlink:href=\"#ArialMT-75\" x=\"489.208984\"/>\n     <use xlink:href=\"#ArialMT-72\" x=\"544.824219\"/>\n     <use xlink:href=\"#ArialMT-76\" x=\"578.125\"/>\n     <use xlink:href=\"#ArialMT-65\" x=\"628.125\"/>\n    </g>\n   </g>\n  </g>\n </g>\n <defs>\n  <clipPath id=\"p8364da5a12\">\n   <rect x=\"41.245312\" y=\"21.935625\" width=\"376.525\" height=\"223.4\"/>\n  </clipPath>\n </defs>\n</svg>\n",
      "text/plain": [
       "<Figure size 432x288 with 1 Axes>"
      ]
     },
     "metadata": {},
     "output_type": "display_data"
    }
   ],
   "source": [
    "loss = history.history[\"loss\"]\n",
    "plot_learning_curve(loss)"
   ]
  },
  {
   "cell_type": "markdown",
   "metadata": {},
   "source": [
    "### 6.d. Predicting `valid` and `test` data"
   ]
  },
  {
   "cell_type": "code",
   "execution_count": 17,
   "metadata": {},
   "outputs": [],
   "source": [
    "def predict(model, data):\n",
    "    logits = model(data)\n",
    "    preds = tf.nn.sigmoid(logits).numpy()\n",
    "\n",
    "    for i in range(data.shape[0]):\n",
    "        preds[i] = 1 if preds[i] >= 0.5 else 0\n",
    "    return preds"
   ]
  },
  {
   "cell_type": "code",
   "execution_count": 18,
   "metadata": {},
   "outputs": [
    {
     "data": {
      "text/plain": [
       "array([[1.],\n",
       "       [1.],\n",
       "       [1.],\n",
       "       [0.],\n",
       "       [1.],\n",
       "       [1.],\n",
       "       [1.],\n",
       "       [0.],\n",
       "       [0.],\n",
       "       [1.]], dtype=float32)"
      ]
     },
     "execution_count": 18,
     "metadata": {},
     "output_type": "execute_result"
    }
   ],
   "source": [
    "valid_preds = predict(model, X_valid)\n",
    "valid_preds[:10]"
   ]
  },
  {
   "cell_type": "code",
   "execution_count": 19,
   "metadata": {},
   "outputs": [
    {
     "data": {
      "text/plain": [
       "array([[1.],\n",
       "       [0.],\n",
       "       [0.],\n",
       "       [1.],\n",
       "       [0.],\n",
       "       [0.],\n",
       "       [0.],\n",
       "       [0.],\n",
       "       [0.],\n",
       "       [0.]], dtype=float32)"
      ]
     },
     "execution_count": 19,
     "metadata": {},
     "output_type": "execute_result"
    }
   ],
   "source": [
    "test_preds = predict(model, X_test)\n",
    "test_preds[:10]"
   ]
  },
  {
   "cell_type": "markdown",
   "metadata": {},
   "source": [
    "### 6.e. Checking accuracy"
   ]
  },
  {
   "cell_type": "code",
   "execution_count": 20,
   "metadata": {},
   "outputs": [
    {
     "data": {
      "text/plain": [
       "['loss', 'accuracy']"
      ]
     },
     "execution_count": 20,
     "metadata": {},
     "output_type": "execute_result"
    }
   ],
   "source": [
    "model.metrics_names"
   ]
  },
  {
   "cell_type": "markdown",
   "metadata": {},
   "source": [
    "#### Training data accuracy: `99.19%`"
   ]
  },
  {
   "cell_type": "code",
   "execution_count": 21,
   "metadata": {},
   "outputs": [
    {
     "name": "stdout",
     "output_type": "stream",
     "text": [
      "24/24 [==============================] - 0s 3ms/step - loss: 0.0157 - accuracy: 0.9919\n"
     ]
    },
    {
     "data": {
      "text/plain": [
       "99.19"
      ]
     },
     "execution_count": 21,
     "metadata": {},
     "output_type": "execute_result"
    }
   ],
   "source": [
    "train_loss_1, train_acc_1 = model.evaluate(X_train, Y_train)\n",
    "round(train_acc_1 * 100, 2)"
   ]
  },
  {
   "cell_type": "markdown",
   "metadata": {},
   "source": [
    "#### Validation data accuracy: `97.84%`"
   ]
  },
  {
   "cell_type": "code",
   "execution_count": 22,
   "metadata": {},
   "outputs": [
    {
     "name": "stdout",
     "output_type": "stream",
     "text": [
      "6/6 [==============================] - 0s 3ms/step - loss: 0.0362 - accuracy: 0.9784\n"
     ]
    },
    {
     "data": {
      "text/plain": [
       "97.84"
      ]
     },
     "execution_count": 22,
     "metadata": {},
     "output_type": "execute_result"
    }
   ],
   "source": [
    "valid_loss_1, valid_acc_1 = model.evaluate(X_valid, Y_valid)\n",
    "round(valid_acc_1 * 100, 2)"
   ]
  },
  {
   "cell_type": "markdown",
   "metadata": {},
   "source": [
    "#### Test data accuracy: `97.09%`"
   ]
  },
  {
   "cell_type": "code",
   "execution_count": 23,
   "metadata": {},
   "outputs": [
    {
     "name": "stdout",
     "output_type": "stream",
     "text": [
      "4/4 [==============================] - 0s 4ms/step - loss: 0.0455 - accuracy: 0.9709\n"
     ]
    },
    {
     "data": {
      "text/plain": [
       "97.09"
      ]
     },
     "execution_count": 23,
     "metadata": {},
     "output_type": "execute_result"
    }
   ],
   "source": [
    "test_loss_1, test_acc_1 = model.evaluate(X_test, Y_test)\n",
    "round(test_acc_1 * 100, 2)"
   ]
  },
  {
   "cell_type": "markdown",
   "metadata": {},
   "source": [
    "## 7. Making $2^{nd}$ Neural Network\n",
    "**Architecture:**\n",
    "- `2` hidden layers\n",
    "- - 1st layer - `18` neurons (`relu`)\n",
    "- - 2nd layer - `9` neurons (`relu`)\n",
    "- 3rd layer - output layer (`sigmoid`)"
   ]
  },
  {
   "cell_type": "code",
   "execution_count": 24,
   "metadata": {},
   "outputs": [],
   "source": [
    "model_2 = tf.keras.Sequential([\n",
    "    tf.keras.Input(shape=n_train),\n",
    "    tf.keras.layers.Dense(units=18, activation=\"relu\", name=\"L1\"),\n",
    "    tf.keras.layers.Dense(units=9, activation=\"relu\", name=\"L2\"),\n",
    "    tf.keras.layers.Dense(units=1, name=\"output_layer\")\n",
    "], name=\"model_2\")"
   ]
  },
  {
   "cell_type": "code",
   "execution_count": 25,
   "metadata": {},
   "outputs": [
    {
     "name": "stdout",
     "output_type": "stream",
     "text": [
      "Model: \"model_2\"\n",
      "_________________________________________________________________\n",
      " Layer (type)                Output Shape              Param #   \n",
      "=================================================================\n",
      " L1 (Dense)                  (None, 18)                162       \n",
      "                                                                 \n",
      " L2 (Dense)                  (None, 9)                 171       \n",
      "                                                                 \n",
      " output_layer (Dense)        (None, 1)                 10        \n",
      "                                                                 \n",
      "=================================================================\n",
      "Total params: 343\n",
      "Trainable params: 343\n",
      "Non-trainable params: 0\n",
      "_________________________________________________________________\n"
     ]
    }
   ],
   "source": [
    "model_2.summary()"
   ]
  },
  {
   "cell_type": "code",
   "execution_count": 26,
   "metadata": {},
   "outputs": [],
   "source": [
    "model_2.compile(\n",
    "    optimizer=tf.keras.optimizers.Adam(learning_rate=0.01),\n",
    "    loss=tf.keras.losses.BinaryCrossentropy(from_logits=True),\n",
    "    metrics=[\"accuracy\"]\n",
    ")"
   ]
  },
  {
   "cell_type": "markdown",
   "metadata": {},
   "source": [
    "### 7.a. Fitting training data"
   ]
  },
  {
   "cell_type": "code",
   "execution_count": 27,
   "metadata": {},
   "outputs": [],
   "source": [
    "history_2 = model_2.fit(X_train, Y_train, epochs=100, verbose=0)"
   ]
  },
  {
   "cell_type": "markdown",
   "metadata": {},
   "source": [
    "### 7.b. Saving / Loading weights of $2^{nd}$ neural network"
   ]
  },
  {
   "cell_type": "code",
   "execution_count": 28,
   "metadata": {},
   "outputs": [],
   "source": [
    "# model_2.save_weights(\"./weights/model_2_weights.h5\")\n",
    "model_2.load_weights(\"./weights/model_2_weights.h5\")"
   ]
  },
  {
   "cell_type": "markdown",
   "metadata": {},
   "source": [
    "### 7.c. Plotting learning curve"
   ]
  },
  {
   "cell_type": "code",
   "execution_count": 29,
   "metadata": {},
   "outputs": [
    {
     "data": {
      "image/png": "[encoded data removed]",
      "image/svg+xml": "<?xml version=\"1.0\" encoding=\"utf-8\" standalone=\"no\"?>\n<!DOCTYPE svg PUBLIC \"-//W3C//DTD SVG 1.1//EN\"\n  \"http://www.w3.org/Graphics/SVG/1.1/DTD/svg11.dtd\">\n<svg xmlns:xlink=\"http://www.w3.org/1999/xlink\" width=\"424.970312pt\" height=\"281.82625pt\" viewBox=\"0 0 424.970312 281.82625\" xmlns=\"http://www.w3.org/2000/svg\" version=\"1.1\">\n <metadata>\n  <rdf:RDF xmlns:dc=\"http://purl.org/dc/elements/1.1/\" xmlns:cc=\"http://creativecommons.org/ns#\" xmlns:rdf=\"http://www.w3.org/1999/02/22-rdf-syntax-ns#\">\n   <cc:Work>\n    <dc:type rdf:resource=\"http://purl.org/dc/dcmitype/StillImage\"/>\n    <dc:date>2022-08-23T21:41:19.009320</dc:date>\n    <dc:format>image/svg+xml</dc:format>\n    <dc:creator>\n     <cc:Agent>\n      <dc:title>Matplotlib v3.5.2, https://matplotlib.org/</dc:title>\n     </cc:Agent>\n    </dc:creator>\n   </cc:Work>\n  </rdf:RDF>\n </metadata>\n <defs>\n  <style type=\"text/css\">*{stroke-linejoin: round; stroke-linecap: butt}</style>\n </defs>\n <g id=\"figure_1\">\n  <g id=\"patch_1\">\n   <path d=\"M 0 281.82625 \nL 424.970312 281.82625 \nL 424.970312 0 \nL 0 0 \nz\n\" style=\"fill: #ffffff\"/>\n  </g>\n  <g id=\"axes_1\">\n   <g id=\"patch_2\">\n    <path d=\"M 41.245312 245.335625 \nL 417.770312 245.335625 \nL 417.770312 21.935625 \nL 41.245312 21.935625 \nz\n\" style=\"fill: #eaeaf2\"/>\n   </g>\n   <g id=\"matplotlib.axis_1\">\n    <g id=\"xtick_1\">\n     <g id=\"line2d_1\">\n      <path d=\"M 58.360085 245.335625 \nL 58.360085 21.935625 \n\" clip-path=\"url(#p2764c81aa1)\" style=\"fill: none; stroke: #ffffff; stroke-width: 0.8; stroke-linecap: round\"/>\n     </g>\n     <g id=\"text_1\">\n      <!-- 0 -->\n      <g style=\"fill: #262626\" transform=\"translate(55.579616 259.493438)scale(0.1 -0.1)\">\n       <defs>\n        <path id=\"ArialMT-30\" d=\"M 266 2259 \nQ 266 3072 433 3567 \nQ 600 4063 929 4331 \nQ 1259 4600 1759 4600 \nQ 2128 4600 2406 4451 \nQ 2684 4303 2865 4023 \nQ 3047 3744 3150 3342 \nQ 3253 2941 3253 2259 \nQ 3253 1453 3087 958 \nQ 2922 463 2592 192 \nQ 2263 -78 1759 -78 \nQ 1097 -78 719 397 \nQ 266 969 266 2259 \nz\nM 844 2259 \nQ 844 1131 1108 757 \nQ 1372 384 1759 384 \nQ 2147 384 2411 759 \nQ 2675 1134 2675 2259 \nQ 2675 3391 2411 3762 \nQ 2147 4134 1753 4134 \nQ 1366 4134 1134 3806 \nQ 844 3388 844 2259 \nz\n\" transform=\"scale(0.015625)\"/>\n       </defs>\n       <use xlink:href=\"#ArialMT-30\"/>\n      </g>\n     </g>\n    </g>\n    <g id=\"xtick_2\">\n     <g id=\"line2d_2\">\n      <path d=\"M 127.510682 245.335625 \nL 127.510682 21.935625 \n\" clip-path=\"url(#p2764c81aa1)\" style=\"fill: none; stroke: #ffffff; stroke-width: 0.8; stroke-linecap: round\"/>\n     </g>\n     <g id=\"text_2\">\n      <!-- 20 -->\n      <g style=\"fill: #262626\" transform=\"translate(121.949745 259.493438)scale(0.1 -0.1)\">\n       <defs>\n        <path id=\"ArialMT-32\" d=\"M 3222 541 \nL 3222 0 \nL 194 0 \nQ 188 203 259 391 \nQ 375 700 629 1000 \nQ 884 1300 1366 1694 \nQ 2113 2306 2375 2664 \nQ 2638 3022 2638 3341 \nQ 2638 3675 2398 3904 \nQ 2159 4134 1775 4134 \nQ 1369 4134 1125 3890 \nQ 881 3647 878 3216 \nL 300 3275 \nQ 359 3922 746 4261 \nQ 1134 4600 1788 4600 \nQ 2447 4600 2831 4234 \nQ 3216 3869 3216 3328 \nQ 3216 3053 3103 2787 \nQ 2991 2522 2730 2228 \nQ 2469 1934 1863 1422 \nQ 1356 997 1212 845 \nQ 1069 694 975 541 \nL 3222 541 \nz\n\" transform=\"scale(0.015625)\"/>\n       </defs>\n       <use xlink:href=\"#ArialMT-32\"/>\n       <use xlink:href=\"#ArialMT-30\" x=\"55.615234\"/>\n      </g>\n     </g>\n    </g>\n    <g id=\"xtick_3\">\n     <g id=\"line2d_3\">\n      <path d=\"M 196.661279 245.335625 \nL 196.661279 21.935625 \n\" clip-path=\"url(#p2764c81aa1)\" style=\"fill: none; stroke: #ffffff; stroke-width: 0.8; stroke-linecap: round\"/>\n     </g>\n     <g id=\"text_3\">\n      <!-- 40 -->\n      <g style=\"fill: #262626\" transform=\"translate(191.100341 259.493438)scale(0.1 -0.1)\">\n       <defs>\n        <path id=\"ArialMT-34\" d=\"M 2069 0 \nL 2069 1097 \nL 81 1097 \nL 81 1613 \nL 2172 4581 \nL 2631 4581 \nL 2631 1613 \nL 3250 1613 \nL 3250 1097 \nL 2631 1097 \nL 2631 0 \nL 2069 0 \nz\nM 2069 1613 \nL 2069 3678 \nL 634 1613 \nL 2069 1613 \nz\n\" transform=\"scale(0.015625)\"/>\n       </defs>\n       <use xlink:href=\"#ArialMT-34\"/>\n       <use xlink:href=\"#ArialMT-30\" x=\"55.615234\"/>\n      </g>\n     </g>\n    </g>\n    <g id=\"xtick_4\">\n     <g id=\"line2d_4\">\n      <path d=\"M 265.811876 245.335625 \nL 265.811876 21.935625 \n\" clip-path=\"url(#p2764c81aa1)\" style=\"fill: none; stroke: #ffffff; stroke-width: 0.8; stroke-linecap: round\"/>\n     </g>\n     <g id=\"text_4\">\n      <!-- 60 -->\n      <g style=\"fill: #262626\" transform=\"translate(260.250938 259.493438)scale(0.1 -0.1)\">\n       <defs>\n        <path id=\"ArialMT-36\" d=\"M 3184 3459 \nL 2625 3416 \nQ 2550 3747 2413 3897 \nQ 2184 4138 1850 4138 \nQ 1581 4138 1378 3988 \nQ 1113 3794 959 3422 \nQ 806 3050 800 2363 \nQ 1003 2672 1297 2822 \nQ 1591 2972 1913 2972 \nQ 2475 2972 2870 2558 \nQ 3266 2144 3266 1488 \nQ 3266 1056 3080 686 \nQ 2894 316 2569 119 \nQ 2244 -78 1831 -78 \nQ 1128 -78 684 439 \nQ 241 956 241 2144 \nQ 241 3472 731 4075 \nQ 1159 4600 1884 4600 \nQ 2425 4600 2770 4297 \nQ 3116 3994 3184 3459 \nz\nM 888 1484 \nQ 888 1194 1011 928 \nQ 1134 663 1356 523 \nQ 1578 384 1822 384 \nQ 2178 384 2434 671 \nQ 2691 959 2691 1453 \nQ 2691 1928 2437 2201 \nQ 2184 2475 1800 2475 \nQ 1419 2475 1153 2201 \nQ 888 1928 888 1484 \nz\n\" transform=\"scale(0.015625)\"/>\n       </defs>\n       <use xlink:href=\"#ArialMT-36\"/>\n       <use xlink:href=\"#ArialMT-30\" x=\"55.615234\"/>\n      </g>\n     </g>\n    </g>\n    <g id=\"xtick_5\">\n     <g id=\"line2d_5\">\n      <path d=\"M 334.962473 245.335625 \nL 334.962473 21.935625 \n\" clip-path=\"url(#p2764c81aa1)\" style=\"fill: none; stroke: #ffffff; stroke-width: 0.8; stroke-linecap: round\"/>\n     </g>\n     <g id=\"text_5\">\n      <!-- 80 -->\n      <g style=\"fill: #262626\" transform=\"translate(329.401535 259.493438)scale(0.1 -0.1)\">\n       <defs>\n        <path id=\"ArialMT-38\" d=\"M 1131 2484 \nQ 781 2613 612 2850 \nQ 444 3088 444 3419 \nQ 444 3919 803 4259 \nQ 1163 4600 1759 4600 \nQ 2359 4600 2725 4251 \nQ 3091 3903 3091 3403 \nQ 3091 3084 2923 2848 \nQ 2756 2613 2416 2484 \nQ 2838 2347 3058 2040 \nQ 3278 1734 3278 1309 \nQ 3278 722 2862 322 \nQ 2447 -78 1769 -78 \nQ 1091 -78 675 323 \nQ 259 725 259 1325 \nQ 259 1772 486 2073 \nQ 713 2375 1131 2484 \nz\nM 1019 3438 \nQ 1019 3113 1228 2906 \nQ 1438 2700 1772 2700 \nQ 2097 2700 2305 2904 \nQ 2513 3109 2513 3406 \nQ 2513 3716 2298 3927 \nQ 2084 4138 1766 4138 \nQ 1444 4138 1231 3931 \nQ 1019 3725 1019 3438 \nz\nM 838 1322 \nQ 838 1081 952 856 \nQ 1066 631 1291 507 \nQ 1516 384 1775 384 \nQ 2178 384 2440 643 \nQ 2703 903 2703 1303 \nQ 2703 1709 2433 1975 \nQ 2163 2241 1756 2241 \nQ 1359 2241 1098 1978 \nQ 838 1716 838 1322 \nz\n\" transform=\"scale(0.015625)\"/>\n       </defs>\n       <use xlink:href=\"#ArialMT-38\"/>\n       <use xlink:href=\"#ArialMT-30\" x=\"55.615234\"/>\n      </g>\n     </g>\n    </g>\n    <g id=\"xtick_6\">\n     <g id=\"line2d_6\">\n      <path d=\"M 404.11307 245.335625 \nL 404.11307 21.935625 \n\" clip-path=\"url(#p2764c81aa1)\" style=\"fill: none; stroke: #ffffff; stroke-width: 0.8; stroke-linecap: round\"/>\n     </g>\n     <g id=\"text_6\">\n      <!-- 100 -->\n      <g style=\"fill: #262626\" transform=\"translate(395.771663 259.493438)scale(0.1 -0.1)\">\n       <defs>\n        <path id=\"ArialMT-31\" d=\"M 2384 0 \nL 1822 0 \nL 1822 3584 \nQ 1619 3391 1289 3197 \nQ 959 3003 697 2906 \nL 697 3450 \nQ 1169 3672 1522 3987 \nQ 1875 4303 2022 4600 \nL 2384 4600 \nL 2384 0 \nz\n\" transform=\"scale(0.015625)\"/>\n       </defs>\n       <use xlink:href=\"#ArialMT-31\"/>\n       <use xlink:href=\"#ArialMT-30\" x=\"55.615234\"/>\n       <use xlink:href=\"#ArialMT-30\" x=\"111.230469\"/>\n      </g>\n     </g>\n    </g>\n    <g id=\"text_7\">\n     <!-- No. of iterations -->\n     <g style=\"fill: #262626\" transform=\"translate(194.492969 272.63875)scale(0.1 -0.1)\">\n      <defs>\n       <path id=\"ArialMT-4e\" d=\"M 488 0 \nL 488 4581 \nL 1109 4581 \nL 3516 984 \nL 3516 4581 \nL 4097 4581 \nL 4097 0 \nL 3475 0 \nL 1069 3600 \nL 1069 0 \nL 488 0 \nz\n\" transform=\"scale(0.015625)\"/>\n       <path id=\"ArialMT-6f\" d=\"M 213 1659 \nQ 213 2581 725 3025 \nQ 1153 3394 1769 3394 \nQ 2453 3394 2887 2945 \nQ 3322 2497 3322 1706 \nQ 3322 1066 3130 698 \nQ 2938 331 2570 128 \nQ 2203 -75 1769 -75 \nQ 1072 -75 642 372 \nQ 213 819 213 1659 \nz\nM 791 1659 \nQ 791 1022 1069 705 \nQ 1347 388 1769 388 \nQ 2188 388 2466 706 \nQ 2744 1025 2744 1678 \nQ 2744 2294 2464 2611 \nQ 2184 2928 1769 2928 \nQ 1347 2928 1069 2612 \nQ 791 2297 791 1659 \nz\n\" transform=\"scale(0.015625)\"/>\n       <path id=\"ArialMT-2e\" d=\"M 581 0 \nL 581 641 \nL 1222 641 \nL 1222 0 \nL 581 0 \nz\n\" transform=\"scale(0.015625)\"/>\n       <path id=\"ArialMT-20\" transform=\"scale(0.015625)\"/>\n       <path id=\"ArialMT-66\" d=\"M 556 0 \nL 556 2881 \nL 59 2881 \nL 59 3319 \nL 556 3319 \nL 556 3672 \nQ 556 4006 616 4169 \nQ 697 4388 901 4523 \nQ 1106 4659 1475 4659 \nQ 1713 4659 2000 4603 \nL 1916 4113 \nQ 1741 4144 1584 4144 \nQ 1328 4144 1222 4034 \nQ 1116 3925 1116 3625 \nL 1116 3319 \nL 1763 3319 \nL 1763 2881 \nL 1116 2881 \nL 1116 0 \nL 556 0 \nz\n\" transform=\"scale(0.015625)\"/>\n       <path id=\"ArialMT-69\" d=\"M 425 3934 \nL 425 4581 \nL 988 4581 \nL 988 3934 \nL 425 3934 \nz\nM 425 0 \nL 425 3319 \nL 988 3319 \nL 988 0 \nL 425 0 \nz\n\" transform=\"scale(0.015625)\"/>\n       <path id=\"ArialMT-74\" d=\"M 1650 503 \nL 1731 6 \nQ 1494 -44 1306 -44 \nQ 1000 -44 831 53 \nQ 663 150 594 308 \nQ 525 466 525 972 \nL 525 2881 \nL 113 2881 \nL 113 3319 \nL 525 3319 \nL 525 4141 \nL 1084 4478 \nL 1084 3319 \nL 1650 3319 \nL 1650 2881 \nL 1084 2881 \nL 1084 941 \nQ 1084 700 1114 631 \nQ 1144 563 1211 522 \nQ 1278 481 1403 481 \nQ 1497 481 1650 503 \nz\n\" transform=\"scale(0.015625)\"/>\n       <path id=\"ArialMT-65\" d=\"M 2694 1069 \nL 3275 997 \nQ 3138 488 2766 206 \nQ 2394 -75 1816 -75 \nQ 1088 -75 661 373 \nQ 234 822 234 1631 \nQ 234 2469 665 2931 \nQ 1097 3394 1784 3394 \nQ 2450 3394 2872 2941 \nQ 3294 2488 3294 1666 \nQ 3294 1616 3291 1516 \nL 816 1516 \nQ 847 969 1125 678 \nQ 1403 388 1819 388 \nQ 2128 388 2347 550 \nQ 2566 713 2694 1069 \nz\nM 847 1978 \nL 2700 1978 \nQ 2663 2397 2488 2606 \nQ 2219 2931 1791 2931 \nQ 1403 2931 1139 2672 \nQ 875 2413 847 1978 \nz\n\" transform=\"scale(0.015625)\"/>\n       <path id=\"ArialMT-72\" d=\"M 416 0 \nL 416 3319 \nL 922 3319 \nL 922 2816 \nQ 1116 3169 1280 3281 \nQ 1444 3394 1641 3394 \nQ 1925 3394 2219 3213 \nL 2025 2691 \nQ 1819 2813 1613 2813 \nQ 1428 2813 1281 2702 \nQ 1134 2591 1072 2394 \nQ 978 2094 978 1738 \nL 978 0 \nL 416 0 \nz\n\" transform=\"scale(0.015625)\"/>\n       <path id=\"ArialMT-61\" d=\"M 2588 409 \nQ 2275 144 1986 34 \nQ 1697 -75 1366 -75 \nQ 819 -75 525 192 \nQ 231 459 231 875 \nQ 231 1119 342 1320 \nQ 453 1522 633 1644 \nQ 813 1766 1038 1828 \nQ 1203 1872 1538 1913 \nQ 2219 1994 2541 2106 \nQ 2544 2222 2544 2253 \nQ 2544 2597 2384 2738 \nQ 2169 2928 1744 2928 \nQ 1347 2928 1158 2789 \nQ 969 2650 878 2297 \nL 328 2372 \nQ 403 2725 575 2942 \nQ 747 3159 1072 3276 \nQ 1397 3394 1825 3394 \nQ 2250 3394 2515 3294 \nQ 2781 3194 2906 3042 \nQ 3031 2891 3081 2659 \nQ 3109 2516 3109 2141 \nL 3109 1391 \nQ 3109 606 3145 398 \nQ 3181 191 3288 0 \nL 2700 0 \nQ 2613 175 2588 409 \nz\nM 2541 1666 \nQ 2234 1541 1622 1453 \nQ 1275 1403 1131 1340 \nQ 988 1278 909 1158 \nQ 831 1038 831 891 \nQ 831 666 1001 516 \nQ 1172 366 1500 366 \nQ 1825 366 2078 508 \nQ 2331 650 2450 897 \nQ 2541 1088 2541 1459 \nL 2541 1666 \nz\n\" transform=\"scale(0.015625)\"/>\n       <path id=\"ArialMT-6e\" d=\"M 422 0 \nL 422 3319 \nL 928 3319 \nL 928 2847 \nQ 1294 3394 1984 3394 \nQ 2284 3394 2536 3286 \nQ 2788 3178 2913 3003 \nQ 3038 2828 3088 2588 \nQ 3119 2431 3119 2041 \nL 3119 0 \nL 2556 0 \nL 2556 2019 \nQ 2556 2363 2490 2533 \nQ 2425 2703 2258 2804 \nQ 2091 2906 1866 2906 \nQ 1506 2906 1245 2678 \nQ 984 2450 984 1813 \nL 984 0 \nL 422 0 \nz\n\" transform=\"scale(0.015625)\"/>\n       <path id=\"ArialMT-73\" d=\"M 197 991 \nL 753 1078 \nQ 800 744 1014 566 \nQ 1228 388 1613 388 \nQ 2000 388 2187 545 \nQ 2375 703 2375 916 \nQ 2375 1106 2209 1216 \nQ 2094 1291 1634 1406 \nQ 1016 1563 777 1677 \nQ 538 1791 414 1992 \nQ 291 2194 291 2438 \nQ 291 2659 392 2848 \nQ 494 3038 669 3163 \nQ 800 3259 1026 3326 \nQ 1253 3394 1513 3394 \nQ 1903 3394 2198 3281 \nQ 2494 3169 2634 2976 \nQ 2775 2784 2828 2463 \nL 2278 2388 \nQ 2241 2644 2061 2787 \nQ 1881 2931 1553 2931 \nQ 1166 2931 1000 2803 \nQ 834 2675 834 2503 \nQ 834 2394 903 2306 \nQ 972 2216 1119 2156 \nQ 1203 2125 1616 2013 \nQ 2213 1853 2448 1751 \nQ 2684 1650 2818 1456 \nQ 2953 1263 2953 975 \nQ 2953 694 2789 445 \nQ 2625 197 2315 61 \nQ 2006 -75 1616 -75 \nQ 969 -75 630 194 \nQ 291 463 197 991 \nz\n\" transform=\"scale(0.015625)\"/>\n      </defs>\n      <use xlink:href=\"#ArialMT-4e\"/>\n      <use xlink:href=\"#ArialMT-6f\" x=\"72.216797\"/>\n      <use xlink:href=\"#ArialMT-2e\" x=\"127.832031\"/>\n      <use xlink:href=\"#ArialMT-20\" x=\"155.615234\"/>\n      <use xlink:href=\"#ArialMT-6f\" x=\"183.398438\"/>\n      <use xlink:href=\"#ArialMT-66\" x=\"239.013672\"/>\n      <use xlink:href=\"#ArialMT-20\" x=\"266.796875\"/>\n      <use xlink:href=\"#ArialMT-69\" x=\"294.580078\"/>\n      <use xlink:href=\"#ArialMT-74\" x=\"316.796875\"/>\n      <use xlink:href=\"#ArialMT-65\" x=\"344.580078\"/>\n      <use xlink:href=\"#ArialMT-72\" x=\"400.195312\"/>\n      <use xlink:href=\"#ArialMT-61\" x=\"433.496094\"/>\n      <use xlink:href=\"#ArialMT-74\" x=\"489.111328\"/>\n      <use xlink:href=\"#ArialMT-69\" x=\"516.894531\"/>\n      <use xlink:href=\"#ArialMT-6f\" x=\"539.111328\"/>\n      <use xlink:href=\"#ArialMT-6e\" x=\"594.726562\"/>\n      <use xlink:href=\"#ArialMT-73\" x=\"650.341797\"/>\n     </g>\n    </g>\n   </g>\n   <g id=\"matplotlib.axis_2\">\n    <g id=\"ytick_1\">\n     <g id=\"line2d_7\">\n      <path d=\"M 41.245312 242.73313 \nL 417.770312 242.73313 \n\" clip-path=\"url(#p2764c81aa1)\" style=\"fill: none; stroke: #ffffff; stroke-width: 0.8; stroke-linecap: round\"/>\n     </g>\n     <g id=\"text_8\">\n      <!-- 0.0 -->\n      <g style=\"fill: #262626\" transform=\"translate(20.345312 246.312036)scale(0.1 -0.1)\">\n       <use xlink:href=\"#ArialMT-30\"/>\n       <use xlink:href=\"#ArialMT-2e\" x=\"55.615234\"/>\n       <use xlink:href=\"#ArialMT-30\" x=\"83.398438\"/>\n      </g>\n     </g>\n    </g>\n    <g id=\"ytick_2\">\n     <g id=\"line2d_8\">\n      <path d=\"M 41.245312 206.199678 \nL 417.770312 206.199678 \n\" clip-path=\"url(#p2764c81aa1)\" style=\"fill: none; stroke: #ffffff; stroke-width: 0.8; stroke-linecap: round\"/>\n     </g>\n     <g id=\"text_9\">\n      <!-- 0.1 -->\n      <g style=\"fill: #262626\" transform=\"translate(20.345312 209.778585)scale(0.1 -0.1)\">\n       <use xlink:href=\"#ArialMT-30\"/>\n       <use xlink:href=\"#ArialMT-2e\" x=\"55.615234\"/>\n       <use xlink:href=\"#ArialMT-31\" x=\"83.398438\"/>\n      </g>\n     </g>\n    </g>\n    <g id=\"ytick_3\">\n     <g id=\"line2d_9\">\n      <path d=\"M 41.245312 169.666227 \nL 417.770312 169.666227 \n\" clip-path=\"url(#p2764c81aa1)\" style=\"fill: none; stroke: #ffffff; stroke-width: 0.8; stroke-linecap: round\"/>\n     </g>\n     <g id=\"text_10\">\n      <!-- 0.2 -->\n      <g style=\"fill: #262626\" transform=\"translate(20.345312 173.245133)scale(0.1 -0.1)\">\n       <use xlink:href=\"#ArialMT-30\"/>\n       <use xlink:href=\"#ArialMT-2e\" x=\"55.615234\"/>\n       <use xlink:href=\"#ArialMT-32\" x=\"83.398438\"/>\n      </g>\n     </g>\n    </g>\n    <g id=\"ytick_4\">\n     <g id=\"line2d_10\">\n      <path d=\"M 41.245312 133.132775 \nL 417.770312 133.132775 \n\" clip-path=\"url(#p2764c81aa1)\" style=\"fill: none; stroke: #ffffff; stroke-width: 0.8; stroke-linecap: round\"/>\n     </g>\n     <g id=\"text_11\">\n      <!-- 0.3 -->\n      <g style=\"fill: #262626\" transform=\"translate(20.345312 136.711681)scale(0.1 -0.1)\">\n       <defs>\n        <path id=\"ArialMT-33\" d=\"M 269 1209 \nL 831 1284 \nQ 928 806 1161 595 \nQ 1394 384 1728 384 \nQ 2125 384 2398 659 \nQ 2672 934 2672 1341 \nQ 2672 1728 2419 1979 \nQ 2166 2231 1775 2231 \nQ 1616 2231 1378 2169 \nL 1441 2663 \nQ 1497 2656 1531 2656 \nQ 1891 2656 2178 2843 \nQ 2466 3031 2466 3422 \nQ 2466 3731 2256 3934 \nQ 2047 4138 1716 4138 \nQ 1388 4138 1169 3931 \nQ 950 3725 888 3313 \nL 325 3413 \nQ 428 3978 793 4289 \nQ 1159 4600 1703 4600 \nQ 2078 4600 2393 4439 \nQ 2709 4278 2876 4000 \nQ 3044 3722 3044 3409 \nQ 3044 3113 2884 2869 \nQ 2725 2625 2413 2481 \nQ 2819 2388 3044 2092 \nQ 3269 1797 3269 1353 \nQ 3269 753 2831 336 \nQ 2394 -81 1725 -81 \nQ 1122 -81 723 278 \nQ 325 638 269 1209 \nz\n\" transform=\"scale(0.015625)\"/>\n       </defs>\n       <use xlink:href=\"#ArialMT-30\"/>\n       <use xlink:href=\"#ArialMT-2e\" x=\"55.615234\"/>\n       <use xlink:href=\"#ArialMT-33\" x=\"83.398438\"/>\n      </g>\n     </g>\n    </g>\n    <g id=\"ytick_5\">\n     <g id=\"line2d_11\">\n      <path d=\"M 41.245312 96.599324 \nL 417.770312 96.599324 \n\" clip-path=\"url(#p2764c81aa1)\" style=\"fill: none; stroke: #ffffff; stroke-width: 0.8; stroke-linecap: round\"/>\n     </g>\n     <g id=\"text_12\">\n      <!-- 0.4 -->\n      <g style=\"fill: #262626\" transform=\"translate(20.345312 100.17823)scale(0.1 -0.1)\">\n       <use xlink:href=\"#ArialMT-30\"/>\n       <use xlink:href=\"#ArialMT-2e\" x=\"55.615234\"/>\n       <use xlink:href=\"#ArialMT-34\" x=\"83.398438\"/>\n      </g>\n     </g>\n    </g>\n    <g id=\"ytick_6\">\n     <g id=\"line2d_12\">\n      <path d=\"M 41.245312 60.065872 \nL 417.770312 60.065872 \n\" clip-path=\"url(#p2764c81aa1)\" style=\"fill: none; stroke: #ffffff; stroke-width: 0.8; stroke-linecap: round\"/>\n     </g>\n     <g id=\"text_13\">\n      <!-- 0.5 -->\n      <g style=\"fill: #262626\" transform=\"translate(20.345312 63.644778)scale(0.1 -0.1)\">\n       <defs>\n        <path id=\"ArialMT-35\" d=\"M 266 1200 \nL 856 1250 \nQ 922 819 1161 601 \nQ 1400 384 1738 384 \nQ 2144 384 2425 690 \nQ 2706 997 2706 1503 \nQ 2706 1984 2436 2262 \nQ 2166 2541 1728 2541 \nQ 1456 2541 1237 2417 \nQ 1019 2294 894 2097 \nL 366 2166 \nL 809 4519 \nL 3088 4519 \nL 3088 3981 \nL 1259 3981 \nL 1013 2750 \nQ 1425 3038 1878 3038 \nQ 2478 3038 2890 2622 \nQ 3303 2206 3303 1553 \nQ 3303 931 2941 478 \nQ 2500 -78 1738 -78 \nQ 1113 -78 717 272 \nQ 322 622 266 1200 \nz\n\" transform=\"scale(0.015625)\"/>\n       </defs>\n       <use xlink:href=\"#ArialMT-30\"/>\n       <use xlink:href=\"#ArialMT-2e\" x=\"55.615234\"/>\n       <use xlink:href=\"#ArialMT-35\" x=\"83.398438\"/>\n      </g>\n     </g>\n    </g>\n    <g id=\"ytick_7\">\n     <g id=\"line2d_13\">\n      <path d=\"M 41.245312 23.53242 \nL 417.770312 23.53242 \n\" clip-path=\"url(#p2764c81aa1)\" style=\"fill: none; stroke: #ffffff; stroke-width: 0.8; stroke-linecap: round\"/>\n     </g>\n     <g id=\"text_14\">\n      <!-- 0.6 -->\n      <g style=\"fill: #262626\" transform=\"translate(20.345312 27.111327)scale(0.1 -0.1)\">\n       <use xlink:href=\"#ArialMT-30\"/>\n       <use xlink:href=\"#ArialMT-2e\" x=\"55.615234\"/>\n       <use xlink:href=\"#ArialMT-36\" x=\"83.398438\"/>\n      </g>\n     </g>\n    </g>\n    <g id=\"text_15\">\n     <!-- Loss -->\n     <g style=\"fill: #262626\" transform=\"translate(14.357812 144.196562)rotate(-90)scale(0.1 -0.1)\">\n      <defs>\n       <path id=\"ArialMT-4c\" d=\"M 469 0 \nL 469 4581 \nL 1075 4581 \nL 1075 541 \nL 3331 541 \nL 3331 0 \nL 469 0 \nz\n\" transform=\"scale(0.015625)\"/>\n      </defs>\n      <use xlink:href=\"#ArialMT-4c\"/>\n      <use xlink:href=\"#ArialMT-6f\" x=\"55.615234\"/>\n      <use xlink:href=\"#ArialMT-73\" x=\"111.230469\"/>\n      <use xlink:href=\"#ArialMT-73\" x=\"161.230469\"/>\n     </g>\n    </g>\n   </g>\n   <g id=\"line2d_14\">\n    <path d=\"M 58.360085 32.09017 \nL 61.817615 74.794889 \nL 65.275145 86.356466 \nL 68.732675 93.657009 \nL 72.190205 98.456086 \nL 75.647734 103.726944 \nL 79.105264 108.851992 \nL 82.562794 110.716334 \nL 86.020324 116.356942 \nL 89.477854 118.290205 \nL 92.935384 125.360916 \nL 96.392914 117.23634 \nL 99.850443 131.843947 \nL 103.307973 137.099921 \nL 106.765503 139.982166 \nL 110.223033 143.601494 \nL 113.680563 150.834151 \nL 117.138093 152.374233 \nL 120.595622 156.948308 \nL 124.053152 161.446169 \nL 127.510682 160.839238 \nL 130.968212 167.623884 \nL 134.425742 171.187972 \nL 137.883272 159.697885 \nL 141.340801 173.517339 \nL 144.798331 170.439114 \nL 148.255861 160.705122 \nL 151.713391 157.987213 \nL 155.170921 172.068176 \nL 158.628451 178.053024 \nL 162.085981 187.174211 \nL 165.54351 189.816728 \nL 169.00104 141.451945 \nL 172.45857 168.320878 \nL 175.9161 184.216008 \nL 179.37363 191.260267 \nL 182.83116 193.810945 \nL 186.288689 203.454029 \nL 189.746219 204.556641 \nL 193.203749 192.748229 \nL 196.661279 201.501432 \nL 200.118809 204.196801 \nL 203.576339 203.98965 \nL 207.033869 210.710808 \nL 210.491398 213.789553 \nL 213.948928 214.703597 \nL 217.406458 217.203589 \nL 220.863988 219.196541 \nL 224.321518 219.627048 \nL 227.779048 221.116518 \nL 231.236577 221.481453 \nL 234.694107 222.223714 \nL 238.151637 223.23166 \nL 241.609167 217.030538 \nL 245.066697 222.257812 \nL 248.524227 224.616531 \nL 251.981756 223.934172 \nL 255.439286 226.444633 \nL 258.896816 228.000656 \nL 262.354346 228.147139 \nL 265.811876 228.643976 \nL 269.269406 224.469472 \nL 272.726936 218.407569 \nL 276.184465 218.454335 \nL 279.641995 228.72622 \nL 283.099525 230.25608 \nL 286.557055 231.293282 \nL 290.014585 231.500701 \nL 293.472115 230.600376 \nL 296.929644 231.324743 \nL 300.387174 232.251431 \nL 303.844704 232.169358 \nL 307.302234 232.899005 \nL 310.759764 231.829077 \nL 314.217294 232.466148 \nL 317.674824 232.807921 \nL 321.132353 233.443315 \nL 324.589883 234.676741 \nL 328.047413 234.677829 \nL 331.504943 234.284235 \nL 334.962473 234.665786 \nL 338.420003 234.961135 \nL 341.877532 211.530819 \nL 345.335062 220.615344 \nL 348.792592 224.038596 \nL 352.250122 228.737628 \nL 355.707652 231.526823 \nL 359.165182 232.05097 \nL 362.622711 232.570525 \nL 366.080241 232.788737 \nL 369.537771 232.027477 \nL 372.995301 231.804209 \nL 376.452831 232.989385 \nL 379.910361 234.24196 \nL 383.367891 234.151817 \nL 386.82542 234.44727 \nL 390.28295 234.686442 \nL 393.74048 234.977688 \nL 397.19801 235.11811 \nL 400.65554 235.18108 \n\" clip-path=\"url(#p2764c81aa1)\" style=\"fill: none; stroke: #8dd3c7; stroke-width: 1.5; stroke-linecap: round\"/>\n   </g>\n   <g id=\"patch_3\">\n    <path d=\"M 41.245312 245.335625 \nL 41.245312 21.935625 \n\" style=\"fill: none; stroke: #ffffff; stroke-width: 0.8; stroke-linejoin: miter; stroke-linecap: square\"/>\n   </g>\n   <g id=\"patch_4\">\n    <path d=\"M 417.770312 245.335625 \nL 417.770312 21.935625 \n\" style=\"fill: none; stroke: #ffffff; stroke-width: 0.8; stroke-linejoin: miter; stroke-linecap: square\"/>\n   </g>\n   <g id=\"patch_5\">\n    <path d=\"M 41.245312 245.335625 \nL 417.770312 245.335625 \n\" style=\"fill: none; stroke: #ffffff; stroke-width: 0.8; stroke-linejoin: miter; stroke-linecap: square\"/>\n   </g>\n   <g id=\"patch_6\">\n    <path d=\"M 41.245312 21.935625 \nL 417.770312 21.935625 \n\" style=\"fill: none; stroke: #ffffff; stroke-width: 0.8; stroke-linejoin: miter; stroke-linecap: square\"/>\n   </g>\n   <g id=\"text_16\">\n    <!-- Learning Curve -->\n    <g style=\"fill: #262626\" transform=\"translate(188.486562 15.935625)scale(0.12 -0.12)\">\n     <defs>\n      <path id=\"ArialMT-67\" d=\"M 319 -275 \nL 866 -356 \nQ 900 -609 1056 -725 \nQ 1266 -881 1628 -881 \nQ 2019 -881 2231 -725 \nQ 2444 -569 2519 -288 \nQ 2563 -116 2559 434 \nQ 2191 0 1641 0 \nQ 956 0 581 494 \nQ 206 988 206 1678 \nQ 206 2153 378 2554 \nQ 550 2956 876 3175 \nQ 1203 3394 1644 3394 \nQ 2231 3394 2613 2919 \nL 2613 3319 \nL 3131 3319 \nL 3131 450 \nQ 3131 -325 2973 -648 \nQ 2816 -972 2473 -1159 \nQ 2131 -1347 1631 -1347 \nQ 1038 -1347 672 -1080 \nQ 306 -813 319 -275 \nz\nM 784 1719 \nQ 784 1066 1043 766 \nQ 1303 466 1694 466 \nQ 2081 466 2343 764 \nQ 2606 1063 2606 1700 \nQ 2606 2309 2336 2618 \nQ 2066 2928 1684 2928 \nQ 1309 2928 1046 2623 \nQ 784 2319 784 1719 \nz\n\" transform=\"scale(0.015625)\"/>\n      <path id=\"ArialMT-43\" d=\"M 3763 1606 \nL 4369 1453 \nQ 4178 706 3683 314 \nQ 3188 -78 2472 -78 \nQ 1731 -78 1267 223 \nQ 803 525 561 1097 \nQ 319 1669 319 2325 \nQ 319 3041 592 3573 \nQ 866 4106 1370 4382 \nQ 1875 4659 2481 4659 \nQ 3169 4659 3637 4309 \nQ 4106 3959 4291 3325 \nL 3694 3184 \nQ 3534 3684 3231 3912 \nQ 2928 4141 2469 4141 \nQ 1941 4141 1586 3887 \nQ 1231 3634 1087 3207 \nQ 944 2781 944 2328 \nQ 944 1744 1114 1308 \nQ 1284 872 1643 656 \nQ 2003 441 2422 441 \nQ 2931 441 3284 734 \nQ 3638 1028 3763 1606 \nz\n\" transform=\"scale(0.015625)\"/>\n      <path id=\"ArialMT-75\" d=\"M 2597 0 \nL 2597 488 \nQ 2209 -75 1544 -75 \nQ 1250 -75 995 37 \nQ 741 150 617 320 \nQ 494 491 444 738 \nQ 409 903 409 1263 \nL 409 3319 \nL 972 3319 \nL 972 1478 \nQ 972 1038 1006 884 \nQ 1059 663 1231 536 \nQ 1403 409 1656 409 \nQ 1909 409 2131 539 \nQ 2353 669 2445 892 \nQ 2538 1116 2538 1541 \nL 2538 3319 \nL 3100 3319 \nL 3100 0 \nL 2597 0 \nz\n\" transform=\"scale(0.015625)\"/>\n      <path id=\"ArialMT-76\" d=\"M 1344 0 \nL 81 3319 \nL 675 3319 \nL 1388 1331 \nQ 1503 1009 1600 663 \nQ 1675 925 1809 1294 \nL 2547 3319 \nL 3125 3319 \nL 1869 0 \nL 1344 0 \nz\n\" transform=\"scale(0.015625)\"/>\n     </defs>\n     <use xlink:href=\"#ArialMT-4c\"/>\n     <use xlink:href=\"#ArialMT-65\" x=\"55.615234\"/>\n     <use xlink:href=\"#ArialMT-61\" x=\"111.230469\"/>\n     <use xlink:href=\"#ArialMT-72\" x=\"166.845703\"/>\n     <use xlink:href=\"#ArialMT-6e\" x=\"200.146484\"/>\n     <use xlink:href=\"#ArialMT-69\" x=\"255.761719\"/>\n     <use xlink:href=\"#ArialMT-6e\" x=\"277.978516\"/>\n     <use xlink:href=\"#ArialMT-67\" x=\"333.59375\"/>\n     <use xlink:href=\"#ArialMT-20\" x=\"389.208984\"/>\n     <use xlink:href=\"#ArialMT-43\" x=\"416.992188\"/>\n     <use xlink:href=\"#ArialMT-75\" x=\"489.208984\"/>\n     <use xlink:href=\"#ArialMT-72\" x=\"544.824219\"/>\n     <use xlink:href=\"#ArialMT-76\" x=\"578.125\"/>\n     <use xlink:href=\"#ArialMT-65\" x=\"628.125\"/>\n    </g>\n   </g>\n  </g>\n </g>\n <defs>\n  <clipPath id=\"p2764c81aa1\">\n   <rect x=\"41.245312\" y=\"21.935625\" width=\"376.525\" height=\"223.4\"/>\n  </clipPath>\n </defs>\n</svg>\n",
      "text/plain": [
       "<Figure size 432x288 with 1 Axes>"
      ]
     },
     "metadata": {},
     "output_type": "display_data"
    }
   ],
   "source": [
    "loss_2 = history_2.history[\"loss\"]\n",
    "plot_learning_curve(loss_2)"
   ]
  },
  {
   "cell_type": "markdown",
   "metadata": {},
   "source": [
    "### 7.d. Predicting `valid` and `test` data"
   ]
  },
  {
   "cell_type": "code",
   "execution_count": 30,
   "metadata": {},
   "outputs": [
    {
     "data": {
      "text/plain": [
       "array([[1.],\n",
       "       [1.],\n",
       "       [1.],\n",
       "       [0.],\n",
       "       [1.],\n",
       "       [1.],\n",
       "       [1.],\n",
       "       [0.],\n",
       "       [0.],\n",
       "       [1.]], dtype=float32)"
      ]
     },
     "execution_count": 30,
     "metadata": {},
     "output_type": "execute_result"
    }
   ],
   "source": [
    "valid_preds_2 = predict(model_2, X_valid)\n",
    "valid_preds_2[:10]"
   ]
  },
  {
   "cell_type": "code",
   "execution_count": 31,
   "metadata": {},
   "outputs": [
    {
     "data": {
      "text/plain": [
       "array([[1.],\n",
       "       [0.],\n",
       "       [0.],\n",
       "       [1.],\n",
       "       [0.],\n",
       "       [0.],\n",
       "       [0.],\n",
       "       [0.],\n",
       "       [0.],\n",
       "       [0.]], dtype=float32)"
      ]
     },
     "execution_count": 31,
     "metadata": {},
     "output_type": "execute_result"
    }
   ],
   "source": [
    "test_preds_2 = predict(model_2, X_test)\n",
    "test_preds_2[:10]"
   ]
  },
  {
   "cell_type": "markdown",
   "metadata": {},
   "source": [
    "### 7.e. Checking accuracy"
   ]
  },
  {
   "cell_type": "markdown",
   "metadata": {},
   "source": [
    "#### Training accuracy: `97.83%`"
   ]
  },
  {
   "cell_type": "code",
   "execution_count": 32,
   "metadata": {},
   "outputs": [
    {
     "name": "stdout",
     "output_type": "stream",
     "text": [
      "24/24 [==============================] - 0s 7ms/step - loss: 0.0422 - accuracy: 0.9783\n"
     ]
    },
    {
     "data": {
      "text/plain": [
       "97.83"
      ]
     },
     "execution_count": 32,
     "metadata": {},
     "output_type": "execute_result"
    }
   ],
   "source": [
    "train_loss_2, train_acc_2 = model_2.evaluate(X_train, Y_train)\n",
    "round(train_acc_2 * 100, 2)"
   ]
  },
  {
   "cell_type": "markdown",
   "metadata": {},
   "source": [
    "#### Validation accuracy: `98.38%`"
   ]
  },
  {
   "cell_type": "code",
   "execution_count": 33,
   "metadata": {},
   "outputs": [
    {
     "name": "stdout",
     "output_type": "stream",
     "text": [
      "6/6 [==============================] - 0s 4ms/step - loss: 0.0532 - accuracy: 0.9838\n"
     ]
    },
    {
     "data": {
      "text/plain": [
       "98.38"
      ]
     },
     "execution_count": 33,
     "metadata": {},
     "output_type": "execute_result"
    }
   ],
   "source": [
    "valid_loss_2, valid_acc_2 = model_2.evaluate(X_valid, Y_valid)\n",
    "round(valid_acc_2 * 100, 2)"
   ]
  },
  {
   "cell_type": "markdown",
   "metadata": {},
   "source": [
    "#### Testing accuracy: `98.06%`"
   ]
  },
  {
   "cell_type": "code",
   "execution_count": 34,
   "metadata": {},
   "outputs": [
    {
     "name": "stdout",
     "output_type": "stream",
     "text": [
      "4/4 [==============================] - 0s 5ms/step - loss: 0.0775 - accuracy: 0.9806\n"
     ]
    },
    {
     "data": {
      "text/plain": [
       "98.06"
      ]
     },
     "execution_count": 34,
     "metadata": {},
     "output_type": "execute_result"
    }
   ],
   "source": [
    "test_loss_2, test_acc_2 = model_2.evaluate(X_test, Y_test)\n",
    "round(test_acc_2 * 100, 2)"
   ]
  },
  {
   "cell_type": "markdown",
   "metadata": {},
   "source": [
    "## 8. Making $3^{rd}$ neural network\n",
    "\n",
    "**Architecture:**\n",
    "- `5` hidden layers\n",
    "- - 1st layer - `18` neurons (`relu`)\n",
    "- - 2nd layer - `36` neurons (`relu`)\n",
    "- - 3rd layer - `64` neurons (`relu`)\n",
    "- - 4th layer - `18` neurons (`relu`)\n",
    "- - 5th layer - `9` nuerons (`relu`)\n",
    "- 6th layer - output layer (`sigmoid`)"
   ]
  },
  {
   "cell_type": "code",
   "execution_count": 35,
   "metadata": {},
   "outputs": [],
   "source": [
    "model_3 = tf.keras.Sequential([\n",
    "    tf.keras.Input(shape=n_train),\n",
    "    tf.keras.layers.Dense(units=18, activation=\"relu\", name=\"L1\"),\n",
    "    tf.keras.layers.Dense(units=36, activation=\"relu\", name=\"L2\"),\n",
    "    tf.keras.layers.Dense(units=64, activation=\"relu\", name=\"L3\"),\n",
    "    tf.keras.layers.Dense(units=18, activation=\"relu\", name=\"L4\"),\n",
    "    tf.keras.layers.Dense(units=9, activation=\"relu\", name=\"L5\"),\n",
    "    tf.keras.layers.Dense(units=1, name=\"output_layer\"),\n",
    "], name=\"model_3\")"
   ]
  },
  {
   "cell_type": "code",
   "execution_count": 36,
   "metadata": {},
   "outputs": [
    {
     "name": "stdout",
     "output_type": "stream",
     "text": [
      "Model: \"model_3\"\n",
      "_________________________________________________________________\n",
      " Layer (type)                Output Shape              Param #   \n",
      "=================================================================\n",
      " L1 (Dense)                  (None, 18)                162       \n",
      "                                                                 \n",
      " L2 (Dense)                  (None, 36)                684       \n",
      "                                                                 \n",
      " L3 (Dense)                  (None, 64)                2368      \n",
      "                                                                 \n",
      " L4 (Dense)                  (None, 18)                1170      \n",
      "                                                                 \n",
      " L5 (Dense)                  (None, 9)                 171       \n",
      "                                                                 \n",
      " output_layer (Dense)        (None, 1)                 10        \n",
      "                                                                 \n",
      "=================================================================\n",
      "Total params: 4,565\n",
      "Trainable params: 4,565\n",
      "Non-trainable params: 0\n",
      "_________________________________________________________________\n"
     ]
    }
   ],
   "source": [
    "model_3.summary()"
   ]
  },
  {
   "cell_type": "code",
   "execution_count": 37,
   "metadata": {},
   "outputs": [],
   "source": [
    "model_3.compile(\n",
    "    optimizer=tf.keras.optimizers.Adam(learning_rate=0.01),\n",
    "    loss=tf.keras.losses.BinaryCrossentropy(from_logits=True),\n",
    "    metrics=[\"accuracy\"]\n",
    ")"
   ]
  },
  {
   "cell_type": "markdown",
   "metadata": {},
   "source": [
    "### 8.a. Fitting training data"
   ]
  },
  {
   "cell_type": "code",
   "execution_count": 38,
   "metadata": {},
   "outputs": [],
   "source": [
    "history_3 = model_3.fit(X_train, Y_train, epochs=100, verbose=0)"
   ]
  },
  {
   "cell_type": "markdown",
   "metadata": {},
   "source": [
    "### 8.b. Saving / Loading weights of $3^{rd}$ neural network"
   ]
  },
  {
   "cell_type": "code",
   "execution_count": 39,
   "metadata": {},
   "outputs": [],
   "source": [
    "# model_3.save_weights(\"./weights/model_3_weights.h5\")\n",
    "model_3.load_weights(\"./weights/model_3_weights.h5\")"
   ]
  },
  {
   "cell_type": "markdown",
   "metadata": {},
   "source": [
    "### 8.c. Plotting learning curve"
   ]
  },
  {
   "cell_type": "code",
   "execution_count": 40,
   "metadata": {},
   "outputs": [
    {
     "data": {
      "image/png": "[encoded data removed]",
      "image/svg+xml": "<?xml version=\"1.0\" encoding=\"utf-8\" standalone=\"no\"?>\n<!DOCTYPE svg PUBLIC \"-//W3C//DTD SVG 1.1//EN\"\n  \"http://www.w3.org/Graphics/SVG/1.1/DTD/svg11.dtd\">\n<svg xmlns:xlink=\"http://www.w3.org/1999/xlink\" width=\"424.970312pt\" height=\"281.82625pt\" viewBox=\"0 0 424.970312 281.82625\" xmlns=\"http://www.w3.org/2000/svg\" version=\"1.1\">\n <metadata>\n  <rdf:RDF xmlns:dc=\"http://purl.org/dc/elements/1.1/\" xmlns:cc=\"http://creativecommons.org/ns#\" xmlns:rdf=\"http://www.w3.org/1999/02/22-rdf-syntax-ns#\">\n   <cc:Work>\n    <dc:type rdf:resource=\"http://purl.org/dc/dcmitype/StillImage\"/>\n    <dc:date>2022-08-23T21:41:34.231977</dc:date>\n    <dc:format>image/svg+xml</dc:format>\n    <dc:creator>\n     <cc:Agent>\n      <dc:title>Matplotlib v3.5.2, https://matplotlib.org/</dc:title>\n     </cc:Agent>\n    </dc:creator>\n   </cc:Work>\n  </rdf:RDF>\n </metadata>\n <defs>\n  <style type=\"text/css\">*{stroke-linejoin: round; stroke-linecap: butt}</style>\n </defs>\n <g id=\"figure_1\">\n  <g id=\"patch_1\">\n   <path d=\"M 0 281.82625 \nL 424.970312 281.82625 \nL 424.970312 0 \nL 0 0 \nz\n\" style=\"fill: #ffffff\"/>\n  </g>\n  <g id=\"axes_1\">\n   <g id=\"patch_2\">\n    <path d=\"M 41.245312 245.335625 \nL 417.770312 245.335625 \nL 417.770312 21.935625 \nL 41.245312 21.935625 \nz\n\" style=\"fill: #eaeaf2\"/>\n   </g>\n   <g id=\"matplotlib.axis_1\">\n    <g id=\"xtick_1\">\n     <g id=\"line2d_1\">\n      <path d=\"M 58.360085 245.335625 \nL 58.360085 21.935625 \n\" clip-path=\"url(#p0ca570c6d6)\" style=\"fill: none; stroke: #ffffff; stroke-width: 0.8; stroke-linecap: round\"/>\n     </g>\n     <g id=\"text_1\">\n      <!-- 0 -->\n      <g style=\"fill: #262626\" transform=\"translate(55.579616 259.493438)scale(0.1 -0.1)\">\n       <defs>\n        <path id=\"ArialMT-30\" d=\"M 266 2259 \nQ 266 3072 433 3567 \nQ 600 4063 929 4331 \nQ 1259 4600 1759 4600 \nQ 2128 4600 2406 4451 \nQ 2684 4303 2865 4023 \nQ 3047 3744 3150 3342 \nQ 3253 2941 3253 2259 \nQ 3253 1453 3087 958 \nQ 2922 463 2592 192 \nQ 2263 -78 1759 -78 \nQ 1097 -78 719 397 \nQ 266 969 266 2259 \nz\nM 844 2259 \nQ 844 1131 1108 757 \nQ 1372 384 1759 384 \nQ 2147 384 2411 759 \nQ 2675 1134 2675 2259 \nQ 2675 3391 2411 3762 \nQ 2147 4134 1753 4134 \nQ 1366 4134 1134 3806 \nQ 844 3388 844 2259 \nz\n\" transform=\"scale(0.015625)\"/>\n       </defs>\n       <use xlink:href=\"#ArialMT-30\"/>\n      </g>\n     </g>\n    </g>\n    <g id=\"xtick_2\">\n     <g id=\"line2d_2\">\n      <path d=\"M 127.510682 245.335625 \nL 127.510682 21.935625 \n\" clip-path=\"url(#p0ca570c6d6)\" style=\"fill: none; stroke: #ffffff; stroke-width: 0.8; stroke-linecap: round\"/>\n     </g>\n     <g id=\"text_2\">\n      <!-- 20 -->\n      <g style=\"fill: #262626\" transform=\"translate(121.949745 259.493438)scale(0.1 -0.1)\">\n       <defs>\n        <path id=\"ArialMT-32\" d=\"M 3222 541 \nL 3222 0 \nL 194 0 \nQ 188 203 259 391 \nQ 375 700 629 1000 \nQ 884 1300 1366 1694 \nQ 2113 2306 2375 2664 \nQ 2638 3022 2638 3341 \nQ 2638 3675 2398 3904 \nQ 2159 4134 1775 4134 \nQ 1369 4134 1125 3890 \nQ 881 3647 878 3216 \nL 300 3275 \nQ 359 3922 746 4261 \nQ 1134 4600 1788 4600 \nQ 2447 4600 2831 4234 \nQ 3216 3869 3216 3328 \nQ 3216 3053 3103 2787 \nQ 2991 2522 2730 2228 \nQ 2469 1934 1863 1422 \nQ 1356 997 1212 845 \nQ 1069 694 975 541 \nL 3222 541 \nz\n\" transform=\"scale(0.015625)\"/>\n       </defs>\n       <use xlink:href=\"#ArialMT-32\"/>\n       <use xlink:href=\"#ArialMT-30\" x=\"55.615234\"/>\n      </g>\n     </g>\n    </g>\n    <g id=\"xtick_3\">\n     <g id=\"line2d_3\">\n      <path d=\"M 196.661279 245.335625 \nL 196.661279 21.935625 \n\" clip-path=\"url(#p0ca570c6d6)\" style=\"fill: none; stroke: #ffffff; stroke-width: 0.8; stroke-linecap: round\"/>\n     </g>\n     <g id=\"text_3\">\n      <!-- 40 -->\n      <g style=\"fill: #262626\" transform=\"translate(191.100341 259.493438)scale(0.1 -0.1)\">\n       <defs>\n        <path id=\"ArialMT-34\" d=\"M 2069 0 \nL 2069 1097 \nL 81 1097 \nL 81 1613 \nL 2172 4581 \nL 2631 4581 \nL 2631 1613 \nL 3250 1613 \nL 3250 1097 \nL 2631 1097 \nL 2631 0 \nL 2069 0 \nz\nM 2069 1613 \nL 2069 3678 \nL 634 1613 \nL 2069 1613 \nz\n\" transform=\"scale(0.015625)\"/>\n       </defs>\n       <use xlink:href=\"#ArialMT-34\"/>\n       <use xlink:href=\"#ArialMT-30\" x=\"55.615234\"/>\n      </g>\n     </g>\n    </g>\n    <g id=\"xtick_4\">\n     <g id=\"line2d_4\">\n      <path d=\"M 265.811876 245.335625 \nL 265.811876 21.935625 \n\" clip-path=\"url(#p0ca570c6d6)\" style=\"fill: none; stroke: #ffffff; stroke-width: 0.8; stroke-linecap: round\"/>\n     </g>\n     <g id=\"text_4\">\n      <!-- 60 -->\n      <g style=\"fill: #262626\" transform=\"translate(260.250938 259.493438)scale(0.1 -0.1)\">\n       <defs>\n        <path id=\"ArialMT-36\" d=\"M 3184 3459 \nL 2625 3416 \nQ 2550 3747 2413 3897 \nQ 2184 4138 1850 4138 \nQ 1581 4138 1378 3988 \nQ 1113 3794 959 3422 \nQ 806 3050 800 2363 \nQ 1003 2672 1297 2822 \nQ 1591 2972 1913 2972 \nQ 2475 2972 2870 2558 \nQ 3266 2144 3266 1488 \nQ 3266 1056 3080 686 \nQ 2894 316 2569 119 \nQ 2244 -78 1831 -78 \nQ 1128 -78 684 439 \nQ 241 956 241 2144 \nQ 241 3472 731 4075 \nQ 1159 4600 1884 4600 \nQ 2425 4600 2770 4297 \nQ 3116 3994 3184 3459 \nz\nM 888 1484 \nQ 888 1194 1011 928 \nQ 1134 663 1356 523 \nQ 1578 384 1822 384 \nQ 2178 384 2434 671 \nQ 2691 959 2691 1453 \nQ 2691 1928 2437 2201 \nQ 2184 2475 1800 2475 \nQ 1419 2475 1153 2201 \nQ 888 1928 888 1484 \nz\n\" transform=\"scale(0.015625)\"/>\n       </defs>\n       <use xlink:href=\"#ArialMT-36\"/>\n       <use xlink:href=\"#ArialMT-30\" x=\"55.615234\"/>\n      </g>\n     </g>\n    </g>\n    <g id=\"xtick_5\">\n     <g id=\"line2d_5\">\n      <path d=\"M 334.962473 245.335625 \nL 334.962473 21.935625 \n\" clip-path=\"url(#p0ca570c6d6)\" style=\"fill: none; stroke: #ffffff; stroke-width: 0.8; stroke-linecap: round\"/>\n     </g>\n     <g id=\"text_5\">\n      <!-- 80 -->\n      <g style=\"fill: #262626\" transform=\"translate(329.401535 259.493438)scale(0.1 -0.1)\">\n       <defs>\n        <path id=\"ArialMT-38\" d=\"M 1131 2484 \nQ 781 2613 612 2850 \nQ 444 3088 444 3419 \nQ 444 3919 803 4259 \nQ 1163 4600 1759 4600 \nQ 2359 4600 2725 4251 \nQ 3091 3903 3091 3403 \nQ 3091 3084 2923 2848 \nQ 2756 2613 2416 2484 \nQ 2838 2347 3058 2040 \nQ 3278 1734 3278 1309 \nQ 3278 722 2862 322 \nQ 2447 -78 1769 -78 \nQ 1091 -78 675 323 \nQ 259 725 259 1325 \nQ 259 1772 486 2073 \nQ 713 2375 1131 2484 \nz\nM 1019 3438 \nQ 1019 3113 1228 2906 \nQ 1438 2700 1772 2700 \nQ 2097 2700 2305 2904 \nQ 2513 3109 2513 3406 \nQ 2513 3716 2298 3927 \nQ 2084 4138 1766 4138 \nQ 1444 4138 1231 3931 \nQ 1019 3725 1019 3438 \nz\nM 838 1322 \nQ 838 1081 952 856 \nQ 1066 631 1291 507 \nQ 1516 384 1775 384 \nQ 2178 384 2440 643 \nQ 2703 903 2703 1303 \nQ 2703 1709 2433 1975 \nQ 2163 2241 1756 2241 \nQ 1359 2241 1098 1978 \nQ 838 1716 838 1322 \nz\n\" transform=\"scale(0.015625)\"/>\n       </defs>\n       <use xlink:href=\"#ArialMT-38\"/>\n       <use xlink:href=\"#ArialMT-30\" x=\"55.615234\"/>\n      </g>\n     </g>\n    </g>\n    <g id=\"xtick_6\">\n     <g id=\"line2d_6\">\n      <path d=\"M 404.11307 245.335625 \nL 404.11307 21.935625 \n\" clip-path=\"url(#p0ca570c6d6)\" style=\"fill: none; stroke: #ffffff; stroke-width: 0.8; stroke-linecap: round\"/>\n     </g>\n     <g id=\"text_6\">\n      <!-- 100 -->\n      <g style=\"fill: #262626\" transform=\"translate(395.771663 259.493438)scale(0.1 -0.1)\">\n       <defs>\n        <path id=\"ArialMT-31\" d=\"M 2384 0 \nL 1822 0 \nL 1822 3584 \nQ 1619 3391 1289 3197 \nQ 959 3003 697 2906 \nL 697 3450 \nQ 1169 3672 1522 3987 \nQ 1875 4303 2022 4600 \nL 2384 4600 \nL 2384 0 \nz\n\" transform=\"scale(0.015625)\"/>\n       </defs>\n       <use xlink:href=\"#ArialMT-31\"/>\n       <use xlink:href=\"#ArialMT-30\" x=\"55.615234\"/>\n       <use xlink:href=\"#ArialMT-30\" x=\"111.230469\"/>\n      </g>\n     </g>\n    </g>\n    <g id=\"text_7\">\n     <!-- No. of iterations -->\n     <g style=\"fill: #262626\" transform=\"translate(194.492969 272.63875)scale(0.1 -0.1)\">\n      <defs>\n       <path id=\"ArialMT-4e\" d=\"M 488 0 \nL 488 4581 \nL 1109 4581 \nL 3516 984 \nL 3516 4581 \nL 4097 4581 \nL 4097 0 \nL 3475 0 \nL 1069 3600 \nL 1069 0 \nL 488 0 \nz\n\" transform=\"scale(0.015625)\"/>\n       <path id=\"ArialMT-6f\" d=\"M 213 1659 \nQ 213 2581 725 3025 \nQ 1153 3394 1769 3394 \nQ 2453 3394 2887 2945 \nQ 3322 2497 3322 1706 \nQ 3322 1066 3130 698 \nQ 2938 331 2570 128 \nQ 2203 -75 1769 -75 \nQ 1072 -75 642 372 \nQ 213 819 213 1659 \nz\nM 791 1659 \nQ 791 1022 1069 705 \nQ 1347 388 1769 388 \nQ 2188 388 2466 706 \nQ 2744 1025 2744 1678 \nQ 2744 2294 2464 2611 \nQ 2184 2928 1769 2928 \nQ 1347 2928 1069 2612 \nQ 791 2297 791 1659 \nz\n\" transform=\"scale(0.015625)\"/>\n       <path id=\"ArialMT-2e\" d=\"M 581 0 \nL 581 641 \nL 1222 641 \nL 1222 0 \nL 581 0 \nz\n\" transform=\"scale(0.015625)\"/>\n       <path id=\"ArialMT-20\" transform=\"scale(0.015625)\"/>\n       <path id=\"ArialMT-66\" d=\"M 556 0 \nL 556 2881 \nL 59 2881 \nL 59 3319 \nL 556 3319 \nL 556 3672 \nQ 556 4006 616 4169 \nQ 697 4388 901 4523 \nQ 1106 4659 1475 4659 \nQ 1713 4659 2000 4603 \nL 1916 4113 \nQ 1741 4144 1584 4144 \nQ 1328 4144 1222 4034 \nQ 1116 3925 1116 3625 \nL 1116 3319 \nL 1763 3319 \nL 1763 2881 \nL 1116 2881 \nL 1116 0 \nL 556 0 \nz\n\" transform=\"scale(0.015625)\"/>\n       <path id=\"ArialMT-69\" d=\"M 425 3934 \nL 425 4581 \nL 988 4581 \nL 988 3934 \nL 425 3934 \nz\nM 425 0 \nL 425 3319 \nL 988 3319 \nL 988 0 \nL 425 0 \nz\n\" transform=\"scale(0.015625)\"/>\n       <path id=\"ArialMT-74\" d=\"M 1650 503 \nL 1731 6 \nQ 1494 -44 1306 -44 \nQ 1000 -44 831 53 \nQ 663 150 594 308 \nQ 525 466 525 972 \nL 525 2881 \nL 113 2881 \nL 113 3319 \nL 525 3319 \nL 525 4141 \nL 1084 4478 \nL 1084 3319 \nL 1650 3319 \nL 1650 2881 \nL 1084 2881 \nL 1084 941 \nQ 1084 700 1114 631 \nQ 1144 563 1211 522 \nQ 1278 481 1403 481 \nQ 1497 481 1650 503 \nz\n\" transform=\"scale(0.015625)\"/>\n       <path id=\"ArialMT-65\" d=\"M 2694 1069 \nL 3275 997 \nQ 3138 488 2766 206 \nQ 2394 -75 1816 -75 \nQ 1088 -75 661 373 \nQ 234 822 234 1631 \nQ 234 2469 665 2931 \nQ 1097 3394 1784 3394 \nQ 2450 3394 2872 2941 \nQ 3294 2488 3294 1666 \nQ 3294 1616 3291 1516 \nL 816 1516 \nQ 847 969 1125 678 \nQ 1403 388 1819 388 \nQ 2128 388 2347 550 \nQ 2566 713 2694 1069 \nz\nM 847 1978 \nL 2700 1978 \nQ 2663 2397 2488 2606 \nQ 2219 2931 1791 2931 \nQ 1403 2931 1139 2672 \nQ 875 2413 847 1978 \nz\n\" transform=\"scale(0.015625)\"/>\n       <path id=\"ArialMT-72\" d=\"M 416 0 \nL 416 3319 \nL 922 3319 \nL 922 2816 \nQ 1116 3169 1280 3281 \nQ 1444 3394 1641 3394 \nQ 1925 3394 2219 3213 \nL 2025 2691 \nQ 1819 2813 1613 2813 \nQ 1428 2813 1281 2702 \nQ 1134 2591 1072 2394 \nQ 978 2094 978 1738 \nL 978 0 \nL 416 0 \nz\n\" transform=\"scale(0.015625)\"/>\n       <path id=\"ArialMT-61\" d=\"M 2588 409 \nQ 2275 144 1986 34 \nQ 1697 -75 1366 -75 \nQ 819 -75 525 192 \nQ 231 459 231 875 \nQ 231 1119 342 1320 \nQ 453 1522 633 1644 \nQ 813 1766 1038 1828 \nQ 1203 1872 1538 1913 \nQ 2219 1994 2541 2106 \nQ 2544 2222 2544 2253 \nQ 2544 2597 2384 2738 \nQ 2169 2928 1744 2928 \nQ 1347 2928 1158 2789 \nQ 969 2650 878 2297 \nL 328 2372 \nQ 403 2725 575 2942 \nQ 747 3159 1072 3276 \nQ 1397 3394 1825 3394 \nQ 2250 3394 2515 3294 \nQ 2781 3194 2906 3042 \nQ 3031 2891 3081 2659 \nQ 3109 2516 3109 2141 \nL 3109 1391 \nQ 3109 606 3145 398 \nQ 3181 191 3288 0 \nL 2700 0 \nQ 2613 175 2588 409 \nz\nM 2541 1666 \nQ 2234 1541 1622 1453 \nQ 1275 1403 1131 1340 \nQ 988 1278 909 1158 \nQ 831 1038 831 891 \nQ 831 666 1001 516 \nQ 1172 366 1500 366 \nQ 1825 366 2078 508 \nQ 2331 650 2450 897 \nQ 2541 1088 2541 1459 \nL 2541 1666 \nz\n\" transform=\"scale(0.015625)\"/>\n       <path id=\"ArialMT-6e\" d=\"M 422 0 \nL 422 3319 \nL 928 3319 \nL 928 2847 \nQ 1294 3394 1984 3394 \nQ 2284 3394 2536 3286 \nQ 2788 3178 2913 3003 \nQ 3038 2828 3088 2588 \nQ 3119 2431 3119 2041 \nL 3119 0 \nL 2556 0 \nL 2556 2019 \nQ 2556 2363 2490 2533 \nQ 2425 2703 2258 2804 \nQ 2091 2906 1866 2906 \nQ 1506 2906 1245 2678 \nQ 984 2450 984 1813 \nL 984 0 \nL 422 0 \nz\n\" transform=\"scale(0.015625)\"/>\n       <path id=\"ArialMT-73\" d=\"M 197 991 \nL 753 1078 \nQ 800 744 1014 566 \nQ 1228 388 1613 388 \nQ 2000 388 2187 545 \nQ 2375 703 2375 916 \nQ 2375 1106 2209 1216 \nQ 2094 1291 1634 1406 \nQ 1016 1563 777 1677 \nQ 538 1791 414 1992 \nQ 291 2194 291 2438 \nQ 291 2659 392 2848 \nQ 494 3038 669 3163 \nQ 800 3259 1026 3326 \nQ 1253 3394 1513 3394 \nQ 1903 3394 2198 3281 \nQ 2494 3169 2634 2976 \nQ 2775 2784 2828 2463 \nL 2278 2388 \nQ 2241 2644 2061 2787 \nQ 1881 2931 1553 2931 \nQ 1166 2931 1000 2803 \nQ 834 2675 834 2503 \nQ 834 2394 903 2306 \nQ 972 2216 1119 2156 \nQ 1203 2125 1616 2013 \nQ 2213 1853 2448 1751 \nQ 2684 1650 2818 1456 \nQ 2953 1263 2953 975 \nQ 2953 694 2789 445 \nQ 2625 197 2315 61 \nQ 2006 -75 1616 -75 \nQ 969 -75 630 194 \nQ 291 463 197 991 \nz\n\" transform=\"scale(0.015625)\"/>\n      </defs>\n      <use xlink:href=\"#ArialMT-4e\"/>\n      <use xlink:href=\"#ArialMT-6f\" x=\"72.216797\"/>\n      <use xlink:href=\"#ArialMT-2e\" x=\"127.832031\"/>\n      <use xlink:href=\"#ArialMT-20\" x=\"155.615234\"/>\n      <use xlink:href=\"#ArialMT-6f\" x=\"183.398438\"/>\n      <use xlink:href=\"#ArialMT-66\" x=\"239.013672\"/>\n      <use xlink:href=\"#ArialMT-20\" x=\"266.796875\"/>\n      <use xlink:href=\"#ArialMT-69\" x=\"294.580078\"/>\n      <use xlink:href=\"#ArialMT-74\" x=\"316.796875\"/>\n      <use xlink:href=\"#ArialMT-65\" x=\"344.580078\"/>\n      <use xlink:href=\"#ArialMT-72\" x=\"400.195312\"/>\n      <use xlink:href=\"#ArialMT-61\" x=\"433.496094\"/>\n      <use xlink:href=\"#ArialMT-74\" x=\"489.111328\"/>\n      <use xlink:href=\"#ArialMT-69\" x=\"516.894531\"/>\n      <use xlink:href=\"#ArialMT-6f\" x=\"539.111328\"/>\n      <use xlink:href=\"#ArialMT-6e\" x=\"594.726562\"/>\n      <use xlink:href=\"#ArialMT-73\" x=\"650.341797\"/>\n     </g>\n    </g>\n   </g>\n   <g id=\"matplotlib.axis_2\">\n    <g id=\"ytick_1\">\n     <g id=\"line2d_7\">\n      <path d=\"M 41.245312 236.8017 \nL 417.770312 236.8017 \n\" clip-path=\"url(#p0ca570c6d6)\" style=\"fill: none; stroke: #ffffff; stroke-width: 0.8; stroke-linecap: round\"/>\n     </g>\n     <g id=\"text_8\">\n      <!-- 0.0 -->\n      <g style=\"fill: #262626\" transform=\"translate(20.345312 240.380606)scale(0.1 -0.1)\">\n       <use xlink:href=\"#ArialMT-30\"/>\n       <use xlink:href=\"#ArialMT-2e\" x=\"55.615234\"/>\n       <use xlink:href=\"#ArialMT-30\" x=\"83.398438\"/>\n      </g>\n     </g>\n    </g>\n    <g id=\"ytick_2\">\n     <g id=\"line2d_8\">\n      <path d=\"M 41.245312 202.489669 \nL 417.770312 202.489669 \n\" clip-path=\"url(#p0ca570c6d6)\" style=\"fill: none; stroke: #ffffff; stroke-width: 0.8; stroke-linecap: round\"/>\n     </g>\n     <g id=\"text_9\">\n      <!-- 0.1 -->\n      <g style=\"fill: #262626\" transform=\"translate(20.345312 206.068575)scale(0.1 -0.1)\">\n       <use xlink:href=\"#ArialMT-30\"/>\n       <use xlink:href=\"#ArialMT-2e\" x=\"55.615234\"/>\n       <use xlink:href=\"#ArialMT-31\" x=\"83.398438\"/>\n      </g>\n     </g>\n    </g>\n    <g id=\"ytick_3\">\n     <g id=\"line2d_9\">\n      <path d=\"M 41.245312 168.177637 \nL 417.770312 168.177637 \n\" clip-path=\"url(#p0ca570c6d6)\" style=\"fill: none; stroke: #ffffff; stroke-width: 0.8; stroke-linecap: round\"/>\n     </g>\n     <g id=\"text_10\">\n      <!-- 0.2 -->\n      <g style=\"fill: #262626\" transform=\"translate(20.345312 171.756544)scale(0.1 -0.1)\">\n       <use xlink:href=\"#ArialMT-30\"/>\n       <use xlink:href=\"#ArialMT-2e\" x=\"55.615234\"/>\n       <use xlink:href=\"#ArialMT-32\" x=\"83.398438\"/>\n      </g>\n     </g>\n    </g>\n    <g id=\"ytick_4\">\n     <g id=\"line2d_10\">\n      <path d=\"M 41.245312 133.865606 \nL 417.770312 133.865606 \n\" clip-path=\"url(#p0ca570c6d6)\" style=\"fill: none; stroke: #ffffff; stroke-width: 0.8; stroke-linecap: round\"/>\n     </g>\n     <g id=\"text_11\">\n      <!-- 0.3 -->\n      <g style=\"fill: #262626\" transform=\"translate(20.345312 137.444512)scale(0.1 -0.1)\">\n       <defs>\n        <path id=\"ArialMT-33\" d=\"M 269 1209 \nL 831 1284 \nQ 928 806 1161 595 \nQ 1394 384 1728 384 \nQ 2125 384 2398 659 \nQ 2672 934 2672 1341 \nQ 2672 1728 2419 1979 \nQ 2166 2231 1775 2231 \nQ 1616 2231 1378 2169 \nL 1441 2663 \nQ 1497 2656 1531 2656 \nQ 1891 2656 2178 2843 \nQ 2466 3031 2466 3422 \nQ 2466 3731 2256 3934 \nQ 2047 4138 1716 4138 \nQ 1388 4138 1169 3931 \nQ 950 3725 888 3313 \nL 325 3413 \nQ 428 3978 793 4289 \nQ 1159 4600 1703 4600 \nQ 2078 4600 2393 4439 \nQ 2709 4278 2876 4000 \nQ 3044 3722 3044 3409 \nQ 3044 3113 2884 2869 \nQ 2725 2625 2413 2481 \nQ 2819 2388 3044 2092 \nQ 3269 1797 3269 1353 \nQ 3269 753 2831 336 \nQ 2394 -81 1725 -81 \nQ 1122 -81 723 278 \nQ 325 638 269 1209 \nz\n\" transform=\"scale(0.015625)\"/>\n       </defs>\n       <use xlink:href=\"#ArialMT-30\"/>\n       <use xlink:href=\"#ArialMT-2e\" x=\"55.615234\"/>\n       <use xlink:href=\"#ArialMT-33\" x=\"83.398438\"/>\n      </g>\n     </g>\n    </g>\n    <g id=\"ytick_5\">\n     <g id=\"line2d_11\">\n      <path d=\"M 41.245312 99.553574 \nL 417.770312 99.553574 \n\" clip-path=\"url(#p0ca570c6d6)\" style=\"fill: none; stroke: #ffffff; stroke-width: 0.8; stroke-linecap: round\"/>\n     </g>\n     <g id=\"text_12\">\n      <!-- 0.4 -->\n      <g style=\"fill: #262626\" transform=\"translate(20.345312 103.132481)scale(0.1 -0.1)\">\n       <use xlink:href=\"#ArialMT-30\"/>\n       <use xlink:href=\"#ArialMT-2e\" x=\"55.615234\"/>\n       <use xlink:href=\"#ArialMT-34\" x=\"83.398438\"/>\n      </g>\n     </g>\n    </g>\n    <g id=\"ytick_6\">\n     <g id=\"line2d_12\">\n      <path d=\"M 41.245312 65.241543 \nL 417.770312 65.241543 \n\" clip-path=\"url(#p0ca570c6d6)\" style=\"fill: none; stroke: #ffffff; stroke-width: 0.8; stroke-linecap: round\"/>\n     </g>\n     <g id=\"text_13\">\n      <!-- 0.5 -->\n      <g style=\"fill: #262626\" transform=\"translate(20.345312 68.820449)scale(0.1 -0.1)\">\n       <defs>\n        <path id=\"ArialMT-35\" d=\"M 266 1200 \nL 856 1250 \nQ 922 819 1161 601 \nQ 1400 384 1738 384 \nQ 2144 384 2425 690 \nQ 2706 997 2706 1503 \nQ 2706 1984 2436 2262 \nQ 2166 2541 1728 2541 \nQ 1456 2541 1237 2417 \nQ 1019 2294 894 2097 \nL 366 2166 \nL 809 4519 \nL 3088 4519 \nL 3088 3981 \nL 1259 3981 \nL 1013 2750 \nQ 1425 3038 1878 3038 \nQ 2478 3038 2890 2622 \nQ 3303 2206 3303 1553 \nQ 3303 931 2941 478 \nQ 2500 -78 1738 -78 \nQ 1113 -78 717 272 \nQ 322 622 266 1200 \nz\n\" transform=\"scale(0.015625)\"/>\n       </defs>\n       <use xlink:href=\"#ArialMT-30\"/>\n       <use xlink:href=\"#ArialMT-2e\" x=\"55.615234\"/>\n       <use xlink:href=\"#ArialMT-35\" x=\"83.398438\"/>\n      </g>\n     </g>\n    </g>\n    <g id=\"ytick_7\">\n     <g id=\"line2d_13\">\n      <path d=\"M 41.245312 30.929511 \nL 417.770312 30.929511 \n\" clip-path=\"url(#p0ca570c6d6)\" style=\"fill: none; stroke: #ffffff; stroke-width: 0.8; stroke-linecap: round\"/>\n     </g>\n     <g id=\"text_14\">\n      <!-- 0.6 -->\n      <g style=\"fill: #262626\" transform=\"translate(20.345312 34.508418)scale(0.1 -0.1)\">\n       <use xlink:href=\"#ArialMT-30\"/>\n       <use xlink:href=\"#ArialMT-2e\" x=\"55.615234\"/>\n       <use xlink:href=\"#ArialMT-36\" x=\"83.398438\"/>\n      </g>\n     </g>\n    </g>\n    <g id=\"text_15\">\n     <!-- Loss -->\n     <g style=\"fill: #262626\" transform=\"translate(14.357812 144.196562)rotate(-90)scale(0.1 -0.1)\">\n      <defs>\n       <path id=\"ArialMT-4c\" d=\"M 469 0 \nL 469 4581 \nL 1075 4581 \nL 1075 541 \nL 3331 541 \nL 3331 0 \nL 469 0 \nz\n\" transform=\"scale(0.015625)\"/>\n      </defs>\n      <use xlink:href=\"#ArialMT-4c\"/>\n      <use xlink:href=\"#ArialMT-6f\" x=\"55.615234\"/>\n      <use xlink:href=\"#ArialMT-73\" x=\"111.230469\"/>\n      <use xlink:href=\"#ArialMT-73\" x=\"161.230469\"/>\n     </g>\n    </g>\n   </g>\n   <g id=\"line2d_14\">\n    <path d=\"M 58.360085 32.09017 \nL 61.817615 91.074701 \nL 65.275145 111.227663 \nL 68.732675 99.045361 \nL 72.190205 122.946471 \nL 75.647734 134.940648 \nL 79.105264 153.395409 \nL 82.562794 168.715783 \nL 86.020324 181.202363 \nL 89.477854 155.378367 \nL 92.935384 147.13245 \nL 96.392914 169.04851 \nL 99.850443 185.797247 \nL 103.307973 191.426627 \nL 106.765503 179.707906 \nL 110.223033 198.902285 \nL 113.680563 192.295149 \nL 117.138093 188.866889 \nL 120.595622 194.121548 \nL 124.053152 199.574865 \nL 127.510682 219.11975 \nL 130.968212 227.163696 \nL 134.425742 227.984244 \nL 137.883272 230.246509 \nL 141.340801 230.379545 \nL 144.798331 215.419634 \nL 148.255861 224.581807 \nL 151.713391 220.933293 \nL 155.170921 210.961828 \nL 158.628451 217.320265 \nL 162.085981 221.786043 \nL 165.54351 220.799816 \nL 169.00104 213.627041 \nL 172.45857 218.76143 \nL 175.9161 228.336628 \nL 179.37363 231.823011 \nL 182.83116 230.961753 \nL 186.288689 226.262626 \nL 189.746219 226.384538 \nL 193.203749 228.908876 \nL 196.661279 215.672021 \nL 200.118809 205.717447 \nL 203.576339 169.122376 \nL 207.033869 166.19974 \nL 210.491398 210.569552 \nL 213.948928 228.438471 \nL 217.406458 232.495876 \nL 220.863988 233.185527 \nL 224.321518 222.102219 \nL 227.779048 233.354381 \nL 231.236577 233.046516 \nL 234.694107 232.524684 \nL 238.151637 235.141059 \nL 241.609167 232.900805 \nL 245.066697 230.608523 \nL 248.524227 232.418337 \nL 251.981756 191.465848 \nL 255.439286 146.726998 \nL 258.896816 189.196921 \nL 262.354346 215.345161 \nL 265.811876 225.861422 \nL 269.269406 230.476611 \nL 272.726936 227.754787 \nL 276.184465 182.876651 \nL 279.641995 217.498739 \nL 283.099525 227.265708 \nL 286.557055 231.951824 \nL 290.014585 232.950512 \nL 293.472115 234.265766 \nL 296.929644 234.582539 \nL 300.387174 234.621949 \nL 303.844704 234.827305 \nL 307.302234 234.871943 \nL 310.759764 234.917893 \nL 314.217294 234.975653 \nL 317.674824 234.996632 \nL 321.132353 234.90967 \nL 324.589883 235.055605 \nL 328.047413 235.05834 \nL 331.504943 235.134008 \nL 334.962473 235.171076 \nL 338.420003 235.18108 \nL 341.877532 234.434602 \nL 345.335062 234.556863 \nL 348.792592 234.581562 \nL 352.250122 234.754383 \nL 355.707652 235.062171 \nL 359.165182 234.977589 \nL 362.622711 223.689355 \nL 366.080241 231.61018 \nL 369.537771 232.779127 \nL 372.995301 233.464137 \nL 376.452831 233.3732 \nL 379.910361 233.421404 \nL 383.367891 233.679944 \nL 386.82542 234.036862 \nL 390.28295 234.245238 \nL 393.74048 233.840044 \nL 397.19801 232.17228 \nL 400.65554 233.308264 \n\" clip-path=\"url(#p0ca570c6d6)\" style=\"fill: none; stroke: #8dd3c7; stroke-width: 1.5; stroke-linecap: round\"/>\n   </g>\n   <g id=\"patch_3\">\n    <path d=\"M 41.245312 245.335625 \nL 41.245312 21.935625 \n\" style=\"fill: none; stroke: #ffffff; stroke-width: 0.8; stroke-linejoin: miter; stroke-linecap: square\"/>\n   </g>\n   <g id=\"patch_4\">\n    <path d=\"M 417.770312 245.335625 \nL 417.770312 21.935625 \n\" style=\"fill: none; stroke: #ffffff; stroke-width: 0.8; stroke-linejoin: miter; stroke-linecap: square\"/>\n   </g>\n   <g id=\"patch_5\">\n    <path d=\"M 41.245312 245.335625 \nL 417.770312 245.335625 \n\" style=\"fill: none; stroke: #ffffff; stroke-width: 0.8; stroke-linejoin: miter; stroke-linecap: square\"/>\n   </g>\n   <g id=\"patch_6\">\n    <path d=\"M 41.245312 21.935625 \nL 417.770312 21.935625 \n\" style=\"fill: none; stroke: #ffffff; stroke-width: 0.8; stroke-linejoin: miter; stroke-linecap: square\"/>\n   </g>\n   <g id=\"text_16\">\n    <!-- Learning Curve -->\n    <g style=\"fill: #262626\" transform=\"translate(188.486562 15.935625)scale(0.12 -0.12)\">\n     <defs>\n      <path id=\"ArialMT-67\" d=\"M 319 -275 \nL 866 -356 \nQ 900 -609 1056 -725 \nQ 1266 -881 1628 -881 \nQ 2019 -881 2231 -725 \nQ 2444 -569 2519 -288 \nQ 2563 -116 2559 434 \nQ 2191 0 1641 0 \nQ 956 0 581 494 \nQ 206 988 206 1678 \nQ 206 2153 378 2554 \nQ 550 2956 876 3175 \nQ 1203 3394 1644 3394 \nQ 2231 3394 2613 2919 \nL 2613 3319 \nL 3131 3319 \nL 3131 450 \nQ 3131 -325 2973 -648 \nQ 2816 -972 2473 -1159 \nQ 2131 -1347 1631 -1347 \nQ 1038 -1347 672 -1080 \nQ 306 -813 319 -275 \nz\nM 784 1719 \nQ 784 1066 1043 766 \nQ 1303 466 1694 466 \nQ 2081 466 2343 764 \nQ 2606 1063 2606 1700 \nQ 2606 2309 2336 2618 \nQ 2066 2928 1684 2928 \nQ 1309 2928 1046 2623 \nQ 784 2319 784 1719 \nz\n\" transform=\"scale(0.015625)\"/>\n      <path id=\"ArialMT-43\" d=\"M 3763 1606 \nL 4369 1453 \nQ 4178 706 3683 314 \nQ 3188 -78 2472 -78 \nQ 1731 -78 1267 223 \nQ 803 525 561 1097 \nQ 319 1669 319 2325 \nQ 319 3041 592 3573 \nQ 866 4106 1370 4382 \nQ 1875 4659 2481 4659 \nQ 3169 4659 3637 4309 \nQ 4106 3959 4291 3325 \nL 3694 3184 \nQ 3534 3684 3231 3912 \nQ 2928 4141 2469 4141 \nQ 1941 4141 1586 3887 \nQ 1231 3634 1087 3207 \nQ 944 2781 944 2328 \nQ 944 1744 1114 1308 \nQ 1284 872 1643 656 \nQ 2003 441 2422 441 \nQ 2931 441 3284 734 \nQ 3638 1028 3763 1606 \nz\n\" transform=\"scale(0.015625)\"/>\n      <path id=\"ArialMT-75\" d=\"M 2597 0 \nL 2597 488 \nQ 2209 -75 1544 -75 \nQ 1250 -75 995 37 \nQ 741 150 617 320 \nQ 494 491 444 738 \nQ 409 903 409 1263 \nL 409 3319 \nL 972 3319 \nL 972 1478 \nQ 972 1038 1006 884 \nQ 1059 663 1231 536 \nQ 1403 409 1656 409 \nQ 1909 409 2131 539 \nQ 2353 669 2445 892 \nQ 2538 1116 2538 1541 \nL 2538 3319 \nL 3100 3319 \nL 3100 0 \nL 2597 0 \nz\n\" transform=\"scale(0.015625)\"/>\n      <path id=\"ArialMT-76\" d=\"M 1344 0 \nL 81 3319 \nL 675 3319 \nL 1388 1331 \nQ 1503 1009 1600 663 \nQ 1675 925 1809 1294 \nL 2547 3319 \nL 3125 3319 \nL 1869 0 \nL 1344 0 \nz\n\" transform=\"scale(0.015625)\"/>\n     </defs>\n     <use xlink:href=\"#ArialMT-4c\"/>\n     <use xlink:href=\"#ArialMT-65\" x=\"55.615234\"/>\n     <use xlink:href=\"#ArialMT-61\" x=\"111.230469\"/>\n     <use xlink:href=\"#ArialMT-72\" x=\"166.845703\"/>\n     <use xlink:href=\"#ArialMT-6e\" x=\"200.146484\"/>\n     <use xlink:href=\"#ArialMT-69\" x=\"255.761719\"/>\n     <use xlink:href=\"#ArialMT-6e\" x=\"277.978516\"/>\n     <use xlink:href=\"#ArialMT-67\" x=\"333.59375\"/>\n     <use xlink:href=\"#ArialMT-20\" x=\"389.208984\"/>\n     <use xlink:href=\"#ArialMT-43\" x=\"416.992188\"/>\n     <use xlink:href=\"#ArialMT-75\" x=\"489.208984\"/>\n     <use xlink:href=\"#ArialMT-72\" x=\"544.824219\"/>\n     <use xlink:href=\"#ArialMT-76\" x=\"578.125\"/>\n     <use xlink:href=\"#ArialMT-65\" x=\"628.125\"/>\n    </g>\n   </g>\n  </g>\n </g>\n <defs>\n  <clipPath id=\"p0ca570c6d6\">\n   <rect x=\"41.245312\" y=\"21.935625\" width=\"376.525\" height=\"223.4\"/>\n  </clipPath>\n </defs>\n</svg>\n",
      "text/plain": [
       "<Figure size 432x288 with 1 Axes>"
      ]
     },
     "metadata": {},
     "output_type": "display_data"
    }
   ],
   "source": [
    "loss_3 = history_3.history[\"loss\"]\n",
    "plot_learning_curve(loss_3)"
   ]
  },
  {
   "cell_type": "markdown",
   "metadata": {},
   "source": [
    "### 8.d. Predicting `valid` and `test` data"
   ]
  },
  {
   "cell_type": "code",
   "execution_count": 41,
   "metadata": {},
   "outputs": [
    {
     "data": {
      "text/plain": [
       "array([[1.],\n",
       "       [1.],\n",
       "       [1.],\n",
       "       [0.],\n",
       "       [1.],\n",
       "       [1.],\n",
       "       [1.],\n",
       "       [0.],\n",
       "       [0.],\n",
       "       [1.]], dtype=float32)"
      ]
     },
     "execution_count": 41,
     "metadata": {},
     "output_type": "execute_result"
    }
   ],
   "source": [
    "valid_preds_3 = predict(model_3, X_valid)\n",
    "valid_preds_3[:10]"
   ]
  },
  {
   "cell_type": "code",
   "execution_count": 42,
   "metadata": {},
   "outputs": [
    {
     "data": {
      "text/plain": [
       "array([[1.],\n",
       "       [0.],\n",
       "       [0.],\n",
       "       [1.],\n",
       "       [0.],\n",
       "       [0.],\n",
       "       [0.],\n",
       "       [0.],\n",
       "       [0.],\n",
       "       [0.]], dtype=float32)"
      ]
     },
     "execution_count": 42,
     "metadata": {},
     "output_type": "execute_result"
    }
   ],
   "source": [
    "test_preds_3 = predict(model_3, X_test)\n",
    "test_preds_3[:10]"
   ]
  },
  {
   "cell_type": "markdown",
   "metadata": {},
   "source": [
    "### 8.e. Checking accuracy"
   ]
  },
  {
   "cell_type": "markdown",
   "metadata": {},
   "source": [
    "#### Training accuracy: `100%`"
   ]
  },
  {
   "cell_type": "code",
   "execution_count": 43,
   "metadata": {},
   "outputs": [
    {
     "name": "stdout",
     "output_type": "stream",
     "text": [
      "24/24 [==============================] - 0s 6ms/step - loss: 3.3469e-04 - accuracy: 1.0000\n"
     ]
    },
    {
     "data": {
      "text/plain": [
       "100.0"
      ]
     },
     "execution_count": 43,
     "metadata": {},
     "output_type": "execute_result"
    }
   ],
   "source": [
    "train_loss_3, train_acc_3 = model_3.evaluate(X_train, Y_train)\n",
    "round(train_acc_3 * 100, 2)"
   ]
  },
  {
   "cell_type": "markdown",
   "metadata": {},
   "source": [
    "#### Validation accuracy: `98.92%`"
   ]
  },
  {
   "cell_type": "code",
   "execution_count": 44,
   "metadata": {},
   "outputs": [
    {
     "name": "stdout",
     "output_type": "stream",
     "text": [
      "6/6 [==============================] - 0s 6ms/step - loss: 0.3271 - accuracy: 0.9892\n"
     ]
    },
    {
     "data": {
      "text/plain": [
       "98.92"
      ]
     },
     "execution_count": 44,
     "metadata": {},
     "output_type": "execute_result"
    }
   ],
   "source": [
    "valid_loss_3, valid_acc_3 = model_3.evaluate(X_valid, Y_valid)\n",
    "round(valid_acc_3 * 100, 2)"
   ]
  },
  {
   "cell_type": "markdown",
   "metadata": {},
   "source": [
    "#### Testing accuracy: `99.06%`"
   ]
  },
  {
   "cell_type": "code",
   "execution_count": 45,
   "metadata": {},
   "outputs": [
    {
     "name": "stdout",
     "output_type": "stream",
     "text": [
      "4/4 [==============================] - 0s 9ms/step - loss: 0.5873 - accuracy: 0.9806\n"
     ]
    },
    {
     "data": {
      "text/plain": [
       "98.06"
      ]
     },
     "execution_count": 45,
     "metadata": {},
     "output_type": "execute_result"
    }
   ],
   "source": [
    "test_loss_3, test_acc_3 = model_3.evaluate(X_test, Y_test)\n",
    "round(test_acc_3 * 100, 2)"
   ]
  },
  {
   "cell_type": "markdown",
   "metadata": {},
   "source": [
    "## 9. Finalizing the model"
   ]
  },
  {
   "cell_type": "code",
   "execution_count": 46,
   "metadata": {},
   "outputs": [
    {
     "name": "stdout",
     "output_type": "stream",
     "text": [
      "___________________________________________________________________________________________________________________________\n",
      "| Model      |   Layers   |           Training            |          Validation           |            Testing            |\n",
      "|============|============|===============================|===============================|===============================|\n",
      "| MODEL_1    |     4      | Accuracy: 99.19%\t\t  | Accuracy: 97.84%\t\t  | Accuracy: 97.09%\t\t  |\n",
      "|            |            | Loss: 0.0156881716            | Loss: 0.0361933000            | Loss: 0.0455238111            |\n",
      "|____________|____________|_______________________________|_______________________________|_______________________________|\n",
      "| MODEL_2    |     3      | Accuracy: 97.83%\t\t  | Accuracy: 98.38%\t\t  | Accuracy: 98.06%\t\t  |\n",
      "|            |            | Loss: 0.0422347747            | Loss: 0.0532183312            | Loss: 0.0774993002            |\n",
      "|____________|____________|_______________________________|_______________________________|_______________________________|\n",
      "| MODEL_3    |     6      | Accuracy: 100.0%\t\t  | Accuracy: 98.92%\t\t  | Accuracy: 98.06%\t\t  |\n",
      "|            |            | Loss: 0.0003346928            | Loss: 0.3271403611            | Loss: 0.5873163342            |\n",
      "|____________|____________|_______________________________|_______________________________|_______________________________|\n"
     ]
    }
   ],
   "source": [
    "print('_'*123)\n",
    "print(f\"| {'Model':<10} | {'Layers':^10} | {'Training':^29} | {'Validation':^29} | {'Testing':^29} |\")\n",
    "print('|','='*12, '|', '='*12, '|', '='*31, '|', '='*31, '|', '='*31, '|', sep='')\n",
    "for i in [model, model_2, model_3]:\n",
    "\n",
    "    train_loss, train_acc = i.evaluate(X_train, Y_train, verbose=0)\n",
    "    valid_loss, valid_acc = i.evaluate(X_valid, Y_valid, verbose=0)\n",
    "    test_loss, test_acc = i.evaluate(X_test, Y_test, verbose=0)\n",
    "\n",
    "    print(f\"| {i.name.upper():<10} | {len(i.layers):^10} | Accuracy: {round(train_acc*100, 2)}%\\t\\t  | Accuracy: {round(valid_acc*100, 2)}%\\t\\t  | Accuracy: {round(test_acc*100, 2)}%\\t\\t  |\")\n",
    "    print(f\"| {'':10} | {'':10} | Loss: {train_loss:<23.10f} | Loss: {valid_loss:<23.10f} | Loss: {test_loss:<23.10f} |\")\n",
    "    \n",
    "    print('|','_'*12, '|', '_'*12, '|', '_'*31, '|', '_'*31, '|', '_'*31, '|', sep='')"
   ]
  },
  {
   "cell_type": "code",
   "execution_count": 47,
   "metadata": {},
   "outputs": [
    {
     "data": {
      "text/plain": [
       "<matplotlib.legend.Legend at 0x20480dcead0>"
      ]
     },
     "execution_count": 47,
     "metadata": {},
     "output_type": "execute_result"
    },
    {
     "data": {
      "image/png": "[encoded data removed]",
      "image/svg+xml": "<?xml version=\"1.0\" encoding=\"utf-8\" standalone=\"no\"?>\n<!DOCTYPE svg PUBLIC \"-//W3C//DTD SVG 1.1//EN\"\n  \"http://www.w3.org/Graphics/SVG/1.1/DTD/svg11.dtd\">\n<svg xmlns:xlink=\"http://www.w3.org/1999/xlink\" width=\"424.970312pt\" height=\"281.82625pt\" viewBox=\"0 0 424.970312 281.82625\" xmlns=\"http://www.w3.org/2000/svg\" version=\"1.1\">\n <metadata>\n  <rdf:RDF xmlns:dc=\"http://purl.org/dc/elements/1.1/\" xmlns:cc=\"http://creativecommons.org/ns#\" xmlns:rdf=\"http://www.w3.org/1999/02/22-rdf-syntax-ns#\">\n   <cc:Work>\n    <dc:type rdf:resource=\"http://purl.org/dc/dcmitype/StillImage\"/>\n    <dc:date>2022-08-23T21:41:37.131541</dc:date>\n    <dc:format>image/svg+xml</dc:format>\n    <dc:creator>\n     <cc:Agent>\n      <dc:title>Matplotlib v3.5.2, https://matplotlib.org/</dc:title>\n     </cc:Agent>\n    </dc:creator>\n   </cc:Work>\n  </rdf:RDF>\n </metadata>\n <defs>\n  <style type=\"text/css\">*{stroke-linejoin: round; stroke-linecap: butt}</style>\n </defs>\n <g id=\"figure_1\">\n  <g id=\"patch_1\">\n   <path d=\"M 0 281.82625 \nL 424.970312 281.82625 \nL 424.970312 0 \nL 0 0 \nz\n\" style=\"fill: #ffffff\"/>\n  </g>\n  <g id=\"axes_1\">\n   <g id=\"patch_2\">\n    <path d=\"M 41.245312 245.335625 \nL 417.770312 245.335625 \nL 417.770312 21.935625 \nL 41.245312 21.935625 \nz\n\" style=\"fill: #eaeaf2\"/>\n   </g>\n   <g id=\"matplotlib.axis_1\">\n    <g id=\"xtick_1\">\n     <g id=\"line2d_1\">\n      <path d=\"M 58.360085 245.335625 \nL 58.360085 21.935625 \n\" clip-path=\"url(#pd8f3d0919b)\" style=\"fill: none; stroke: #ffffff; stroke-width: 0.8; stroke-linecap: round\"/>\n     </g>\n     <g id=\"text_1\">\n      <!-- 0 -->\n      <g style=\"fill: #262626\" transform=\"translate(55.579616 259.493438)scale(0.1 -0.1)\">\n       <defs>\n        <path id=\"ArialMT-30\" d=\"M 266 2259 \nQ 266 3072 433 3567 \nQ 600 4063 929 4331 \nQ 1259 4600 1759 4600 \nQ 2128 4600 2406 4451 \nQ 2684 4303 2865 4023 \nQ 3047 3744 3150 3342 \nQ 3253 2941 3253 2259 \nQ 3253 1453 3087 958 \nQ 2922 463 2592 192 \nQ 2263 -78 1759 -78 \nQ 1097 -78 719 397 \nQ 266 969 266 2259 \nz\nM 844 2259 \nQ 844 1131 1108 757 \nQ 1372 384 1759 384 \nQ 2147 384 2411 759 \nQ 2675 1134 2675 2259 \nQ 2675 3391 2411 3762 \nQ 2147 4134 1753 4134 \nQ 1366 4134 1134 3806 \nQ 844 3388 844 2259 \nz\n\" transform=\"scale(0.015625)\"/>\n       </defs>\n       <use xlink:href=\"#ArialMT-30\"/>\n      </g>\n     </g>\n    </g>\n    <g id=\"xtick_2\">\n     <g id=\"line2d_2\">\n      <path d=\"M 127.510682 245.335625 \nL 127.510682 21.935625 \n\" clip-path=\"url(#pd8f3d0919b)\" style=\"fill: none; stroke: #ffffff; stroke-width: 0.8; stroke-linecap: round\"/>\n     </g>\n     <g id=\"text_2\">\n      <!-- 20 -->\n      <g style=\"fill: #262626\" transform=\"translate(121.949745 259.493438)scale(0.1 -0.1)\">\n       <defs>\n        <path id=\"ArialMT-32\" d=\"M 3222 541 \nL 3222 0 \nL 194 0 \nQ 188 203 259 391 \nQ 375 700 629 1000 \nQ 884 1300 1366 1694 \nQ 2113 2306 2375 2664 \nQ 2638 3022 2638 3341 \nQ 2638 3675 2398 3904 \nQ 2159 4134 1775 4134 \nQ 1369 4134 1125 3890 \nQ 881 3647 878 3216 \nL 300 3275 \nQ 359 3922 746 4261 \nQ 1134 4600 1788 4600 \nQ 2447 4600 2831 4234 \nQ 3216 3869 3216 3328 \nQ 3216 3053 3103 2787 \nQ 2991 2522 2730 2228 \nQ 2469 1934 1863 1422 \nQ 1356 997 1212 845 \nQ 1069 694 975 541 \nL 3222 541 \nz\n\" transform=\"scale(0.015625)\"/>\n       </defs>\n       <use xlink:href=\"#ArialMT-32\"/>\n       <use xlink:href=\"#ArialMT-30\" x=\"55.615234\"/>\n      </g>\n     </g>\n    </g>\n    <g id=\"xtick_3\">\n     <g id=\"line2d_3\">\n      <path d=\"M 196.661279 245.335625 \nL 196.661279 21.935625 \n\" clip-path=\"url(#pd8f3d0919b)\" style=\"fill: none; stroke: #ffffff; stroke-width: 0.8; stroke-linecap: round\"/>\n     </g>\n     <g id=\"text_3\">\n      <!-- 40 -->\n      <g style=\"fill: #262626\" transform=\"translate(191.100341 259.493438)scale(0.1 -0.1)\">\n       <defs>\n        <path id=\"ArialMT-34\" d=\"M 2069 0 \nL 2069 1097 \nL 81 1097 \nL 81 1613 \nL 2172 4581 \nL 2631 4581 \nL 2631 1613 \nL 3250 1613 \nL 3250 1097 \nL 2631 1097 \nL 2631 0 \nL 2069 0 \nz\nM 2069 1613 \nL 2069 3678 \nL 634 1613 \nL 2069 1613 \nz\n\" transform=\"scale(0.015625)\"/>\n       </defs>\n       <use xlink:href=\"#ArialMT-34\"/>\n       <use xlink:href=\"#ArialMT-30\" x=\"55.615234\"/>\n      </g>\n     </g>\n    </g>\n    <g id=\"xtick_4\">\n     <g id=\"line2d_4\">\n      <path d=\"M 265.811876 245.335625 \nL 265.811876 21.935625 \n\" clip-path=\"url(#pd8f3d0919b)\" style=\"fill: none; stroke: #ffffff; stroke-width: 0.8; stroke-linecap: round\"/>\n     </g>\n     <g id=\"text_4\">\n      <!-- 60 -->\n      <g style=\"fill: #262626\" transform=\"translate(260.250938 259.493438)scale(0.1 -0.1)\">\n       <defs>\n        <path id=\"ArialMT-36\" d=\"M 3184 3459 \nL 2625 3416 \nQ 2550 3747 2413 3897 \nQ 2184 4138 1850 4138 \nQ 1581 4138 1378 3988 \nQ 1113 3794 959 3422 \nQ 806 3050 800 2363 \nQ 1003 2672 1297 2822 \nQ 1591 2972 1913 2972 \nQ 2475 2972 2870 2558 \nQ 3266 2144 3266 1488 \nQ 3266 1056 3080 686 \nQ 2894 316 2569 119 \nQ 2244 -78 1831 -78 \nQ 1128 -78 684 439 \nQ 241 956 241 2144 \nQ 241 3472 731 4075 \nQ 1159 4600 1884 4600 \nQ 2425 4600 2770 4297 \nQ 3116 3994 3184 3459 \nz\nM 888 1484 \nQ 888 1194 1011 928 \nQ 1134 663 1356 523 \nQ 1578 384 1822 384 \nQ 2178 384 2434 671 \nQ 2691 959 2691 1453 \nQ 2691 1928 2437 2201 \nQ 2184 2475 1800 2475 \nQ 1419 2475 1153 2201 \nQ 888 1928 888 1484 \nz\n\" transform=\"scale(0.015625)\"/>\n       </defs>\n       <use xlink:href=\"#ArialMT-36\"/>\n       <use xlink:href=\"#ArialMT-30\" x=\"55.615234\"/>\n      </g>\n     </g>\n    </g>\n    <g id=\"xtick_5\">\n     <g id=\"line2d_5\">\n      <path d=\"M 334.962473 245.335625 \nL 334.962473 21.935625 \n\" clip-path=\"url(#pd8f3d0919b)\" style=\"fill: none; stroke: #ffffff; stroke-width: 0.8; stroke-linecap: round\"/>\n     </g>\n     <g id=\"text_5\">\n      <!-- 80 -->\n      <g style=\"fill: #262626\" transform=\"translate(329.401535 259.493438)scale(0.1 -0.1)\">\n       <defs>\n        <path id=\"ArialMT-38\" d=\"M 1131 2484 \nQ 781 2613 612 2850 \nQ 444 3088 444 3419 \nQ 444 3919 803 4259 \nQ 1163 4600 1759 4600 \nQ 2359 4600 2725 4251 \nQ 3091 3903 3091 3403 \nQ 3091 3084 2923 2848 \nQ 2756 2613 2416 2484 \nQ 2838 2347 3058 2040 \nQ 3278 1734 3278 1309 \nQ 3278 722 2862 322 \nQ 2447 -78 1769 -78 \nQ 1091 -78 675 323 \nQ 259 725 259 1325 \nQ 259 1772 486 2073 \nQ 713 2375 1131 2484 \nz\nM 1019 3438 \nQ 1019 3113 1228 2906 \nQ 1438 2700 1772 2700 \nQ 2097 2700 2305 2904 \nQ 2513 3109 2513 3406 \nQ 2513 3716 2298 3927 \nQ 2084 4138 1766 4138 \nQ 1444 4138 1231 3931 \nQ 1019 3725 1019 3438 \nz\nM 838 1322 \nQ 838 1081 952 856 \nQ 1066 631 1291 507 \nQ 1516 384 1775 384 \nQ 2178 384 2440 643 \nQ 2703 903 2703 1303 \nQ 2703 1709 2433 1975 \nQ 2163 2241 1756 2241 \nQ 1359 2241 1098 1978 \nQ 838 1716 838 1322 \nz\n\" transform=\"scale(0.015625)\"/>\n       </defs>\n       <use xlink:href=\"#ArialMT-38\"/>\n       <use xlink:href=\"#ArialMT-30\" x=\"55.615234\"/>\n      </g>\n     </g>\n    </g>\n    <g id=\"xtick_6\">\n     <g id=\"line2d_6\">\n      <path d=\"M 404.11307 245.335625 \nL 404.11307 21.935625 \n\" clip-path=\"url(#pd8f3d0919b)\" style=\"fill: none; stroke: #ffffff; stroke-width: 0.8; stroke-linecap: round\"/>\n     </g>\n     <g id=\"text_6\">\n      <!-- 100 -->\n      <g style=\"fill: #262626\" transform=\"translate(395.771663 259.493438)scale(0.1 -0.1)\">\n       <defs>\n        <path id=\"ArialMT-31\" d=\"M 2384 0 \nL 1822 0 \nL 1822 3584 \nQ 1619 3391 1289 3197 \nQ 959 3003 697 2906 \nL 697 3450 \nQ 1169 3672 1522 3987 \nQ 1875 4303 2022 4600 \nL 2384 4600 \nL 2384 0 \nz\n\" transform=\"scale(0.015625)\"/>\n       </defs>\n       <use xlink:href=\"#ArialMT-31\"/>\n       <use xlink:href=\"#ArialMT-30\" x=\"55.615234\"/>\n       <use xlink:href=\"#ArialMT-30\" x=\"111.230469\"/>\n      </g>\n     </g>\n    </g>\n    <g id=\"text_7\">\n     <!-- No. of iterations -->\n     <g style=\"fill: #262626\" transform=\"translate(194.492969 272.63875)scale(0.1 -0.1)\">\n      <defs>\n       <path id=\"ArialMT-4e\" d=\"M 488 0 \nL 488 4581 \nL 1109 4581 \nL 3516 984 \nL 3516 4581 \nL 4097 4581 \nL 4097 0 \nL 3475 0 \nL 1069 3600 \nL 1069 0 \nL 488 0 \nz\n\" transform=\"scale(0.015625)\"/>\n       <path id=\"ArialMT-6f\" d=\"M 213 1659 \nQ 213 2581 725 3025 \nQ 1153 3394 1769 3394 \nQ 2453 3394 2887 2945 \nQ 3322 2497 3322 1706 \nQ 3322 1066 3130 698 \nQ 2938 331 2570 128 \nQ 2203 -75 1769 -75 \nQ 1072 -75 642 372 \nQ 213 819 213 1659 \nz\nM 791 1659 \nQ 791 1022 1069 705 \nQ 1347 388 1769 388 \nQ 2188 388 2466 706 \nQ 2744 1025 2744 1678 \nQ 2744 2294 2464 2611 \nQ 2184 2928 1769 2928 \nQ 1347 2928 1069 2612 \nQ 791 2297 791 1659 \nz\n\" transform=\"scale(0.015625)\"/>\n       <path id=\"ArialMT-2e\" d=\"M 581 0 \nL 581 641 \nL 1222 641 \nL 1222 0 \nL 581 0 \nz\n\" transform=\"scale(0.015625)\"/>\n       <path id=\"ArialMT-20\" transform=\"scale(0.015625)\"/>\n       <path id=\"ArialMT-66\" d=\"M 556 0 \nL 556 2881 \nL 59 2881 \nL 59 3319 \nL 556 3319 \nL 556 3672 \nQ 556 4006 616 4169 \nQ 697 4388 901 4523 \nQ 1106 4659 1475 4659 \nQ 1713 4659 2000 4603 \nL 1916 4113 \nQ 1741 4144 1584 4144 \nQ 1328 4144 1222 4034 \nQ 1116 3925 1116 3625 \nL 1116 3319 \nL 1763 3319 \nL 1763 2881 \nL 1116 2881 \nL 1116 0 \nL 556 0 \nz\n\" transform=\"scale(0.015625)\"/>\n       <path id=\"ArialMT-69\" d=\"M 425 3934 \nL 425 4581 \nL 988 4581 \nL 988 3934 \nL 425 3934 \nz\nM 425 0 \nL 425 3319 \nL 988 3319 \nL 988 0 \nL 425 0 \nz\n\" transform=\"scale(0.015625)\"/>\n       <path id=\"ArialMT-74\" d=\"M 1650 503 \nL 1731 6 \nQ 1494 -44 1306 -44 \nQ 1000 -44 831 53 \nQ 663 150 594 308 \nQ 525 466 525 972 \nL 525 2881 \nL 113 2881 \nL 113 3319 \nL 525 3319 \nL 525 4141 \nL 1084 4478 \nL 1084 3319 \nL 1650 3319 \nL 1650 2881 \nL 1084 2881 \nL 1084 941 \nQ 1084 700 1114 631 \nQ 1144 563 1211 522 \nQ 1278 481 1403 481 \nQ 1497 481 1650 503 \nz\n\" transform=\"scale(0.015625)\"/>\n       <path id=\"ArialMT-65\" d=\"M 2694 1069 \nL 3275 997 \nQ 3138 488 2766 206 \nQ 2394 -75 1816 -75 \nQ 1088 -75 661 373 \nQ 234 822 234 1631 \nQ 234 2469 665 2931 \nQ 1097 3394 1784 3394 \nQ 2450 3394 2872 2941 \nQ 3294 2488 3294 1666 \nQ 3294 1616 3291 1516 \nL 816 1516 \nQ 847 969 1125 678 \nQ 1403 388 1819 388 \nQ 2128 388 2347 550 \nQ 2566 713 2694 1069 \nz\nM 847 1978 \nL 2700 1978 \nQ 2663 2397 2488 2606 \nQ 2219 2931 1791 2931 \nQ 1403 2931 1139 2672 \nQ 875 2413 847 1978 \nz\n\" transform=\"scale(0.015625)\"/>\n       <path id=\"ArialMT-72\" d=\"M 416 0 \nL 416 3319 \nL 922 3319 \nL 922 2816 \nQ 1116 3169 1280 3281 \nQ 1444 3394 1641 3394 \nQ 1925 3394 2219 3213 \nL 2025 2691 \nQ 1819 2813 1613 2813 \nQ 1428 2813 1281 2702 \nQ 1134 2591 1072 2394 \nQ 978 2094 978 1738 \nL 978 0 \nL 416 0 \nz\n\" transform=\"scale(0.015625)\"/>\n       <path id=\"ArialMT-61\" d=\"M 2588 409 \nQ 2275 144 1986 34 \nQ 1697 -75 1366 -75 \nQ 819 -75 525 192 \nQ 231 459 231 875 \nQ 231 1119 342 1320 \nQ 453 1522 633 1644 \nQ 813 1766 1038 1828 \nQ 1203 1872 1538 1913 \nQ 2219 1994 2541 2106 \nQ 2544 2222 2544 2253 \nQ 2544 2597 2384 2738 \nQ 2169 2928 1744 2928 \nQ 1347 2928 1158 2789 \nQ 969 2650 878 2297 \nL 328 2372 \nQ 403 2725 575 2942 \nQ 747 3159 1072 3276 \nQ 1397 3394 1825 3394 \nQ 2250 3394 2515 3294 \nQ 2781 3194 2906 3042 \nQ 3031 2891 3081 2659 \nQ 3109 2516 3109 2141 \nL 3109 1391 \nQ 3109 606 3145 398 \nQ 3181 191 3288 0 \nL 2700 0 \nQ 2613 175 2588 409 \nz\nM 2541 1666 \nQ 2234 1541 1622 1453 \nQ 1275 1403 1131 1340 \nQ 988 1278 909 1158 \nQ 831 1038 831 891 \nQ 831 666 1001 516 \nQ 1172 366 1500 366 \nQ 1825 366 2078 508 \nQ 2331 650 2450 897 \nQ 2541 1088 2541 1459 \nL 2541 1666 \nz\n\" transform=\"scale(0.015625)\"/>\n       <path id=\"ArialMT-6e\" d=\"M 422 0 \nL 422 3319 \nL 928 3319 \nL 928 2847 \nQ 1294 3394 1984 3394 \nQ 2284 3394 2536 3286 \nQ 2788 3178 2913 3003 \nQ 3038 2828 3088 2588 \nQ 3119 2431 3119 2041 \nL 3119 0 \nL 2556 0 \nL 2556 2019 \nQ 2556 2363 2490 2533 \nQ 2425 2703 2258 2804 \nQ 2091 2906 1866 2906 \nQ 1506 2906 1245 2678 \nQ 984 2450 984 1813 \nL 984 0 \nL 422 0 \nz\n\" transform=\"scale(0.015625)\"/>\n       <path id=\"ArialMT-73\" d=\"M 197 991 \nL 753 1078 \nQ 800 744 1014 566 \nQ 1228 388 1613 388 \nQ 2000 388 2187 545 \nQ 2375 703 2375 916 \nQ 2375 1106 2209 1216 \nQ 2094 1291 1634 1406 \nQ 1016 1563 777 1677 \nQ 538 1791 414 1992 \nQ 291 2194 291 2438 \nQ 291 2659 392 2848 \nQ 494 3038 669 3163 \nQ 800 3259 1026 3326 \nQ 1253 3394 1513 3394 \nQ 1903 3394 2198 3281 \nQ 2494 3169 2634 2976 \nQ 2775 2784 2828 2463 \nL 2278 2388 \nQ 2241 2644 2061 2787 \nQ 1881 2931 1553 2931 \nQ 1166 2931 1000 2803 \nQ 834 2675 834 2503 \nQ 834 2394 903 2306 \nQ 972 2216 1119 2156 \nQ 1203 2125 1616 2013 \nQ 2213 1853 2448 1751 \nQ 2684 1650 2818 1456 \nQ 2953 1263 2953 975 \nQ 2953 694 2789 445 \nQ 2625 197 2315 61 \nQ 2006 -75 1616 -75 \nQ 969 -75 630 194 \nQ 291 463 197 991 \nz\n\" transform=\"scale(0.015625)\"/>\n      </defs>\n      <use xlink:href=\"#ArialMT-4e\"/>\n      <use xlink:href=\"#ArialMT-6f\" x=\"72.216797\"/>\n      <use xlink:href=\"#ArialMT-2e\" x=\"127.832031\"/>\n      <use xlink:href=\"#ArialMT-20\" x=\"155.615234\"/>\n      <use xlink:href=\"#ArialMT-6f\" x=\"183.398438\"/>\n      <use xlink:href=\"#ArialMT-66\" x=\"239.013672\"/>\n      <use xlink:href=\"#ArialMT-20\" x=\"266.796875\"/>\n      <use xlink:href=\"#ArialMT-69\" x=\"294.580078\"/>\n      <use xlink:href=\"#ArialMT-74\" x=\"316.796875\"/>\n      <use xlink:href=\"#ArialMT-65\" x=\"344.580078\"/>\n      <use xlink:href=\"#ArialMT-72\" x=\"400.195312\"/>\n      <use xlink:href=\"#ArialMT-61\" x=\"433.496094\"/>\n      <use xlink:href=\"#ArialMT-74\" x=\"489.111328\"/>\n      <use xlink:href=\"#ArialMT-69\" x=\"516.894531\"/>\n      <use xlink:href=\"#ArialMT-6f\" x=\"539.111328\"/>\n      <use xlink:href=\"#ArialMT-6e\" x=\"594.726562\"/>\n      <use xlink:href=\"#ArialMT-73\" x=\"650.341797\"/>\n     </g>\n    </g>\n   </g>\n   <g id=\"matplotlib.axis_2\">\n    <g id=\"ytick_1\">\n     <g id=\"line2d_7\">\n      <path d=\"M 41.245312 236.8017 \nL 417.770312 236.8017 \n\" clip-path=\"url(#pd8f3d0919b)\" style=\"fill: none; stroke: #ffffff; stroke-width: 0.8; stroke-linecap: round\"/>\n     </g>\n     <g id=\"text_8\">\n      <!-- 0.0 -->\n      <g style=\"fill: #262626\" transform=\"translate(20.345312 240.380606)scale(0.1 -0.1)\">\n       <use xlink:href=\"#ArialMT-30\"/>\n       <use xlink:href=\"#ArialMT-2e\" x=\"55.615234\"/>\n       <use xlink:href=\"#ArialMT-30\" x=\"83.398438\"/>\n      </g>\n     </g>\n    </g>\n    <g id=\"ytick_2\">\n     <g id=\"line2d_8\">\n      <path d=\"M 41.245312 202.489669 \nL 417.770312 202.489669 \n\" clip-path=\"url(#pd8f3d0919b)\" style=\"fill: none; stroke: #ffffff; stroke-width: 0.8; stroke-linecap: round\"/>\n     </g>\n     <g id=\"text_9\">\n      <!-- 0.1 -->\n      <g style=\"fill: #262626\" transform=\"translate(20.345312 206.068575)scale(0.1 -0.1)\">\n       <use xlink:href=\"#ArialMT-30\"/>\n       <use xlink:href=\"#ArialMT-2e\" x=\"55.615234\"/>\n       <use xlink:href=\"#ArialMT-31\" x=\"83.398438\"/>\n      </g>\n     </g>\n    </g>\n    <g id=\"ytick_3\">\n     <g id=\"line2d_9\">\n      <path d=\"M 41.245312 168.177637 \nL 417.770312 168.177637 \n\" clip-path=\"url(#pd8f3d0919b)\" style=\"fill: none; stroke: #ffffff; stroke-width: 0.8; stroke-linecap: round\"/>\n     </g>\n     <g id=\"text_10\">\n      <!-- 0.2 -->\n      <g style=\"fill: #262626\" transform=\"translate(20.345312 171.756544)scale(0.1 -0.1)\">\n       <use xlink:href=\"#ArialMT-30\"/>\n       <use xlink:href=\"#ArialMT-2e\" x=\"55.615234\"/>\n       <use xlink:href=\"#ArialMT-32\" x=\"83.398438\"/>\n      </g>\n     </g>\n    </g>\n    <g id=\"ytick_4\">\n     <g id=\"line2d_10\">\n      <path d=\"M 41.245312 133.865606 \nL 417.770312 133.865606 \n\" clip-path=\"url(#pd8f3d0919b)\" style=\"fill: none; stroke: #ffffff; stroke-width: 0.8; stroke-linecap: round\"/>\n     </g>\n     <g id=\"text_11\">\n      <!-- 0.3 -->\n      <g style=\"fill: #262626\" transform=\"translate(20.345312 137.444512)scale(0.1 -0.1)\">\n       <defs>\n        <path id=\"ArialMT-33\" d=\"M 269 1209 \nL 831 1284 \nQ 928 806 1161 595 \nQ 1394 384 1728 384 \nQ 2125 384 2398 659 \nQ 2672 934 2672 1341 \nQ 2672 1728 2419 1979 \nQ 2166 2231 1775 2231 \nQ 1616 2231 1378 2169 \nL 1441 2663 \nQ 1497 2656 1531 2656 \nQ 1891 2656 2178 2843 \nQ 2466 3031 2466 3422 \nQ 2466 3731 2256 3934 \nQ 2047 4138 1716 4138 \nQ 1388 4138 1169 3931 \nQ 950 3725 888 3313 \nL 325 3413 \nQ 428 3978 793 4289 \nQ 1159 4600 1703 4600 \nQ 2078 4600 2393 4439 \nQ 2709 4278 2876 4000 \nQ 3044 3722 3044 3409 \nQ 3044 3113 2884 2869 \nQ 2725 2625 2413 2481 \nQ 2819 2388 3044 2092 \nQ 3269 1797 3269 1353 \nQ 3269 753 2831 336 \nQ 2394 -81 1725 -81 \nQ 1122 -81 723 278 \nQ 325 638 269 1209 \nz\n\" transform=\"scale(0.015625)\"/>\n       </defs>\n       <use xlink:href=\"#ArialMT-30\"/>\n       <use xlink:href=\"#ArialMT-2e\" x=\"55.615234\"/>\n       <use xlink:href=\"#ArialMT-33\" x=\"83.398438\"/>\n      </g>\n     </g>\n    </g>\n    <g id=\"ytick_5\">\n     <g id=\"line2d_11\">\n      <path d=\"M 41.245312 99.553574 \nL 417.770312 99.553574 \n\" clip-path=\"url(#pd8f3d0919b)\" style=\"fill: none; stroke: #ffffff; stroke-width: 0.8; stroke-linecap: round\"/>\n     </g>\n     <g id=\"text_12\">\n      <!-- 0.4 -->\n      <g style=\"fill: #262626\" transform=\"translate(20.345312 103.132481)scale(0.1 -0.1)\">\n       <use xlink:href=\"#ArialMT-30\"/>\n       <use xlink:href=\"#ArialMT-2e\" x=\"55.615234\"/>\n       <use xlink:href=\"#ArialMT-34\" x=\"83.398438\"/>\n      </g>\n     </g>\n    </g>\n    <g id=\"ytick_6\">\n     <g id=\"line2d_12\">\n      <path d=\"M 41.245312 65.241543 \nL 417.770312 65.241543 \n\" clip-path=\"url(#pd8f3d0919b)\" style=\"fill: none; stroke: #ffffff; stroke-width: 0.8; stroke-linecap: round\"/>\n     </g>\n     <g id=\"text_13\">\n      <!-- 0.5 -->\n      <g style=\"fill: #262626\" transform=\"translate(20.345312 68.820449)scale(0.1 -0.1)\">\n       <defs>\n        <path id=\"ArialMT-35\" d=\"M 266 1200 \nL 856 1250 \nQ 922 819 1161 601 \nQ 1400 384 1738 384 \nQ 2144 384 2425 690 \nQ 2706 997 2706 1503 \nQ 2706 1984 2436 2262 \nQ 2166 2541 1728 2541 \nQ 1456 2541 1237 2417 \nQ 1019 2294 894 2097 \nL 366 2166 \nL 809 4519 \nL 3088 4519 \nL 3088 3981 \nL 1259 3981 \nL 1013 2750 \nQ 1425 3038 1878 3038 \nQ 2478 3038 2890 2622 \nQ 3303 2206 3303 1553 \nQ 3303 931 2941 478 \nQ 2500 -78 1738 -78 \nQ 1113 -78 717 272 \nQ 322 622 266 1200 \nz\n\" transform=\"scale(0.015625)\"/>\n       </defs>\n       <use xlink:href=\"#ArialMT-30\"/>\n       <use xlink:href=\"#ArialMT-2e\" x=\"55.615234\"/>\n       <use xlink:href=\"#ArialMT-35\" x=\"83.398438\"/>\n      </g>\n     </g>\n    </g>\n    <g id=\"ytick_7\">\n     <g id=\"line2d_13\">\n      <path d=\"M 41.245312 30.929511 \nL 417.770312 30.929511 \n\" clip-path=\"url(#pd8f3d0919b)\" style=\"fill: none; stroke: #ffffff; stroke-width: 0.8; stroke-linecap: round\"/>\n     </g>\n     <g id=\"text_14\">\n      <!-- 0.6 -->\n      <g style=\"fill: #262626\" transform=\"translate(20.345312 34.508418)scale(0.1 -0.1)\">\n       <use xlink:href=\"#ArialMT-30\"/>\n       <use xlink:href=\"#ArialMT-2e\" x=\"55.615234\"/>\n       <use xlink:href=\"#ArialMT-36\" x=\"83.398438\"/>\n      </g>\n     </g>\n    </g>\n    <g id=\"text_15\">\n     <!-- Loss -->\n     <g style=\"fill: #262626\" transform=\"translate(14.357812 144.196562)rotate(-90)scale(0.1 -0.1)\">\n      <defs>\n       <path id=\"ArialMT-4c\" d=\"M 469 0 \nL 469 4581 \nL 1075 4581 \nL 1075 541 \nL 3331 541 \nL 3331 0 \nL 469 0 \nz\n\" transform=\"scale(0.015625)\"/>\n      </defs>\n      <use xlink:href=\"#ArialMT-4c\"/>\n      <use xlink:href=\"#ArialMT-6f\" x=\"55.615234\"/>\n      <use xlink:href=\"#ArialMT-73\" x=\"111.230469\"/>\n      <use xlink:href=\"#ArialMT-73\" x=\"161.230469\"/>\n     </g>\n    </g>\n   </g>\n   <g id=\"line2d_14\">\n    <path d=\"M 58.360085 45.685143 \nL 61.817615 88.360942 \nL 65.275145 93.904615 \nL 68.732675 109.100444 \nL 72.190205 117.478898 \nL 75.647734 130.394276 \nL 79.105264 133.164972 \nL 82.562794 144.907729 \nL 86.020324 146.648596 \nL 89.477854 158.562205 \nL 92.935384 149.270876 \nL 96.392914 165.782804 \nL 99.850443 180.905647 \nL 103.307973 172.396201 \nL 106.765503 183.1368 \nL 110.223033 195.672975 \nL 113.680563 198.226194 \nL 117.138093 205.939469 \nL 120.595622 210.060265 \nL 124.053152 184.542503 \nL 127.510682 192.288108 \nL 130.968212 195.354892 \nL 134.425742 211.573282 \nL 137.883272 212.576433 \nL 141.340801 217.619465 \nL 144.798331 218.849951 \nL 148.255861 206.496165 \nL 151.713391 189.302001 \nL 155.170921 154.546352 \nL 158.628451 203.809691 \nL 162.085981 209.948216 \nL 165.54351 210.671761 \nL 169.00104 110.230393 \nL 172.45857 156.281524 \nL 175.9161 196.539585 \nL 179.37363 208.685659 \nL 182.83116 217.693734 \nL 186.288689 220.722835 \nL 189.746219 221.242983 \nL 193.203749 224.69126 \nL 196.661279 221.899634 \nL 200.118809 227.211134 \nL 203.576339 228.653169 \nL 207.033869 218.404462 \nL 210.491398 224.6353 \nL 213.948928 228.54177 \nL 217.406458 229.825861 \nL 220.863988 230.612142 \nL 224.321518 230.661076 \nL 227.779048 231.036108 \nL 231.236577 231.11575 \nL 234.694107 231.747289 \nL 238.151637 230.816493 \nL 241.609167 230.236259 \nL 245.066697 224.833938 \nL 248.524227 226.547094 \nL 251.981756 226.211536 \nL 255.439286 218.062798 \nL 258.896816 216.720832 \nL 262.354346 194.359486 \nL 265.811876 222.189316 \nL 269.269406 225.648278 \nL 272.726936 209.97387 \nL 276.184465 202.603814 \nL 279.641995 199.127122 \nL 283.099525 214.726205 \nL 286.557055 224.200313 \nL 290.014585 229.002001 \nL 293.472115 226.406397 \nL 296.929644 226.900401 \nL 300.387174 231.938905 \nL 303.844704 230.835391 \nL 307.302234 224.185731 \nL 310.759764 227.727566 \nL 314.217294 229.928668 \nL 317.674824 231.660119 \nL 321.132353 232.664051 \nL 324.589883 233.220583 \nL 328.047413 233.091921 \nL 331.504943 232.984056 \nL 334.962473 233.063341 \nL 338.420003 232.656415 \nL 341.877532 232.883198 \nL 345.335062 233.09259 \nL 348.792592 233.524479 \nL 352.250122 233.630199 \nL 355.707652 233.651767 \nL 359.165182 234.131459 \nL 362.622711 233.990254 \nL 366.080241 233.67014 \nL 369.537771 232.986856 \nL 372.995301 233.523469 \nL 376.452831 234.278884 \nL 379.910361 234.032138 \nL 383.367891 233.79696 \nL 386.82542 233.971027 \nL 390.28295 234.0163 \nL 393.74048 234.059229 \nL 397.19801 234.059898 \nL 400.65554 234.102407 \n\" clip-path=\"url(#pd8f3d0919b)\" style=\"fill: none; stroke: #8dd3c7; stroke-width: 1.5; stroke-linecap: round\"/>\n   </g>\n   <g id=\"line2d_15\">\n    <path d=\"M 58.360085 38.966907 \nL 61.817615 79.074961 \nL 65.275145 89.933535 \nL 68.732675 96.790167 \nL 72.190205 101.297436 \nL 75.647734 106.247799 \nL 79.105264 111.061218 \nL 82.562794 112.812199 \nL 86.020324 118.109829 \nL 89.477854 119.925539 \nL 92.935384 126.566316 \nL 96.392914 118.935755 \nL 99.850443 132.655145 \nL 103.307973 137.591529 \nL 106.765503 140.298519 \nL 110.223033 143.697773 \nL 113.680563 150.490648 \nL 117.138093 151.937085 \nL 120.595622 156.233033 \nL 124.053152 160.457401 \nL 127.510682 159.887375 \nL 130.968212 166.259479 \nL 134.425742 169.606853 \nL 137.883272 158.815421 \nL 141.340801 171.794582 \nL 144.798331 168.903529 \nL 148.255861 159.761414 \nL 151.713391 157.208767 \nL 155.170921 170.433536 \nL 158.628451 176.054474 \nL 162.085981 184.621047 \nL 165.54351 187.102885 \nL 169.00104 141.678928 \nL 172.45857 166.914093 \nL 175.9161 181.842717 \nL 179.37363 188.45865 \nL 182.83116 190.854234 \nL 186.288689 199.910969 \nL 189.746219 200.946536 \nL 193.203749 189.856136 \nL 196.661279 198.0771 \nL 200.118809 200.608577 \nL 203.576339 200.414021 \nL 207.033869 206.726499 \nL 210.491398 209.618041 \nL 213.948928 210.476505 \nL 217.406458 212.824485 \nL 220.863988 214.696256 \nL 224.321518 215.100586 \nL 227.779048 216.499488 \nL 231.236577 216.842234 \nL 234.694107 217.539361 \nL 238.151637 218.486019 \nL 241.609167 212.661957 \nL 245.066697 217.571386 \nL 248.524227 219.786682 \nL 251.981756 219.145815 \nL 255.439286 221.503627 \nL 258.896816 222.965036 \nL 262.354346 223.102612 \nL 265.811876 223.569239 \nL 269.269406 219.648565 \nL 272.726936 213.955258 \nL 276.184465 213.99918 \nL 279.641995 223.646482 \nL 283.099525 225.083318 \nL 286.557055 226.057453 \nL 290.014585 226.25226 \nL 293.472115 225.406679 \nL 296.929644 226.087001 \nL 300.387174 226.957342 \nL 303.844704 226.88026 \nL 307.302234 227.56554 \nL 310.759764 226.560669 \nL 314.217294 227.159003 \nL 317.674824 227.479995 \nL 321.132353 228.076753 \nL 324.589883 229.235181 \nL 328.047413 229.236202 \nL 331.504943 228.866541 \nL 334.962473 229.224892 \nL 338.420003 229.502282 \nL 341.877532 207.496648 \nL 345.335062 216.028788 \nL 348.792592 219.243889 \nL 352.250122 223.657196 \nL 355.707652 226.276794 \nL 359.165182 226.76907 \nL 362.622711 227.257034 \nL 366.080241 227.461977 \nL 369.537771 226.747006 \nL 372.995301 226.537314 \nL 376.452831 227.650425 \nL 379.910361 228.826836 \nL 383.367891 228.742175 \nL 386.82542 229.019663 \nL 390.28295 229.244292 \nL 393.74048 229.517829 \nL 397.19801 229.649712 \nL 400.65554 229.708853 \n\" clip-path=\"url(#pd8f3d0919b)\" style=\"fill: none; stroke: #feffb3; stroke-width: 1.5; stroke-linecap: round\"/>\n   </g>\n   <g id=\"line2d_16\">\n    <path d=\"M 58.360085 32.09017 \nL 61.817615 91.074701 \nL 65.275145 111.227663 \nL 68.732675 99.045361 \nL 72.190205 122.946471 \nL 75.647734 134.940648 \nL 79.105264 153.395409 \nL 82.562794 168.715783 \nL 86.020324 181.202363 \nL 89.477854 155.378367 \nL 92.935384 147.13245 \nL 96.392914 169.04851 \nL 99.850443 185.797247 \nL 103.307973 191.426627 \nL 106.765503 179.707906 \nL 110.223033 198.902285 \nL 113.680563 192.295149 \nL 117.138093 188.866889 \nL 120.595622 194.121548 \nL 124.053152 199.574865 \nL 127.510682 219.11975 \nL 130.968212 227.163696 \nL 134.425742 227.984244 \nL 137.883272 230.246509 \nL 141.340801 230.379545 \nL 144.798331 215.419634 \nL 148.255861 224.581807 \nL 151.713391 220.933293 \nL 155.170921 210.961828 \nL 158.628451 217.320265 \nL 162.085981 221.786043 \nL 165.54351 220.799816 \nL 169.00104 213.627041 \nL 172.45857 218.76143 \nL 175.9161 228.336628 \nL 179.37363 231.823011 \nL 182.83116 230.961753 \nL 186.288689 226.262626 \nL 189.746219 226.384538 \nL 193.203749 228.908876 \nL 196.661279 215.672021 \nL 200.118809 205.717447 \nL 203.576339 169.122376 \nL 207.033869 166.19974 \nL 210.491398 210.569552 \nL 213.948928 228.438471 \nL 217.406458 232.495876 \nL 220.863988 233.185527 \nL 224.321518 222.102219 \nL 227.779048 233.354381 \nL 231.236577 233.046516 \nL 234.694107 232.524684 \nL 238.151637 235.141059 \nL 241.609167 232.900805 \nL 245.066697 230.608523 \nL 248.524227 232.418337 \nL 251.981756 191.465848 \nL 255.439286 146.726998 \nL 258.896816 189.196921 \nL 262.354346 215.345161 \nL 265.811876 225.861422 \nL 269.269406 230.476611 \nL 272.726936 227.754787 \nL 276.184465 182.876651 \nL 279.641995 217.498739 \nL 283.099525 227.265708 \nL 286.557055 231.951824 \nL 290.014585 232.950512 \nL 293.472115 234.265766 \nL 296.929644 234.582539 \nL 300.387174 234.621949 \nL 303.844704 234.827305 \nL 307.302234 234.871943 \nL 310.759764 234.917893 \nL 314.217294 234.975653 \nL 317.674824 234.996632 \nL 321.132353 234.90967 \nL 324.589883 235.055605 \nL 328.047413 235.05834 \nL 331.504943 235.134008 \nL 334.962473 235.171076 \nL 338.420003 235.18108 \nL 341.877532 234.434602 \nL 345.335062 234.556863 \nL 348.792592 234.581562 \nL 352.250122 234.754383 \nL 355.707652 235.062171 \nL 359.165182 234.977589 \nL 362.622711 223.689355 \nL 366.080241 231.61018 \nL 369.537771 232.779127 \nL 372.995301 233.464137 \nL 376.452831 233.3732 \nL 379.910361 233.421404 \nL 383.367891 233.679944 \nL 386.82542 234.036862 \nL 390.28295 234.245238 \nL 393.74048 233.840044 \nL 397.19801 232.17228 \nL 400.65554 233.308264 \n\" clip-path=\"url(#pd8f3d0919b)\" style=\"fill: none; stroke: #bfbbd9; stroke-width: 1.5; stroke-linecap: round\"/>\n   </g>\n   <g id=\"patch_3\">\n    <path d=\"M 41.245312 245.335625 \nL 41.245312 21.935625 \n\" style=\"fill: none; stroke: #ffffff; stroke-width: 0.8; stroke-linejoin: miter; stroke-linecap: square\"/>\n   </g>\n   <g id=\"patch_4\">\n    <path d=\"M 417.770312 245.335625 \nL 417.770312 21.935625 \n\" style=\"fill: none; stroke: #ffffff; stroke-width: 0.8; stroke-linejoin: miter; stroke-linecap: square\"/>\n   </g>\n   <g id=\"patch_5\">\n    <path d=\"M 41.245312 245.335625 \nL 417.770312 245.335625 \n\" style=\"fill: none; stroke: #ffffff; stroke-width: 0.8; stroke-linejoin: miter; stroke-linecap: square\"/>\n   </g>\n   <g id=\"patch_6\">\n    <path d=\"M 41.245312 21.935625 \nL 417.770312 21.935625 \n\" style=\"fill: none; stroke: #ffffff; stroke-width: 0.8; stroke-linejoin: miter; stroke-linecap: square\"/>\n   </g>\n   <g id=\"text_16\">\n    <!-- Learning Curve -->\n    <g style=\"fill: #262626\" transform=\"translate(188.486562 15.935625)scale(0.12 -0.12)\">\n     <defs>\n      <path id=\"ArialMT-67\" d=\"M 319 -275 \nL 866 -356 \nQ 900 -609 1056 -725 \nQ 1266 -881 1628 -881 \nQ 2019 -881 2231 -725 \nQ 2444 -569 2519 -288 \nQ 2563 -116 2559 434 \nQ 2191 0 1641 0 \nQ 956 0 581 494 \nQ 206 988 206 1678 \nQ 206 2153 378 2554 \nQ 550 2956 876 3175 \nQ 1203 3394 1644 3394 \nQ 2231 3394 2613 2919 \nL 2613 3319 \nL 3131 3319 \nL 3131 450 \nQ 3131 -325 2973 -648 \nQ 2816 -972 2473 -1159 \nQ 2131 -1347 1631 -1347 \nQ 1038 -1347 672 -1080 \nQ 306 -813 319 -275 \nz\nM 784 1719 \nQ 784 1066 1043 766 \nQ 1303 466 1694 466 \nQ 2081 466 2343 764 \nQ 2606 1063 2606 1700 \nQ 2606 2309 2336 2618 \nQ 2066 2928 1684 2928 \nQ 1309 2928 1046 2623 \nQ 784 2319 784 1719 \nz\n\" transform=\"scale(0.015625)\"/>\n      <path id=\"ArialMT-43\" d=\"M 3763 1606 \nL 4369 1453 \nQ 4178 706 3683 314 \nQ 3188 -78 2472 -78 \nQ 1731 -78 1267 223 \nQ 803 525 561 1097 \nQ 319 1669 319 2325 \nQ 319 3041 592 3573 \nQ 866 4106 1370 4382 \nQ 1875 4659 2481 4659 \nQ 3169 4659 3637 4309 \nQ 4106 3959 4291 3325 \nL 3694 3184 \nQ 3534 3684 3231 3912 \nQ 2928 4141 2469 4141 \nQ 1941 4141 1586 3887 \nQ 1231 3634 1087 3207 \nQ 944 2781 944 2328 \nQ 944 1744 1114 1308 \nQ 1284 872 1643 656 \nQ 2003 441 2422 441 \nQ 2931 441 3284 734 \nQ 3638 1028 3763 1606 \nz\n\" transform=\"scale(0.015625)\"/>\n      <path id=\"ArialMT-75\" d=\"M 2597 0 \nL 2597 488 \nQ 2209 -75 1544 -75 \nQ 1250 -75 995 37 \nQ 741 150 617 320 \nQ 494 491 444 738 \nQ 409 903 409 1263 \nL 409 3319 \nL 972 3319 \nL 972 1478 \nQ 972 1038 1006 884 \nQ 1059 663 1231 536 \nQ 1403 409 1656 409 \nQ 1909 409 2131 539 \nQ 2353 669 2445 892 \nQ 2538 1116 2538 1541 \nL 2538 3319 \nL 3100 3319 \nL 3100 0 \nL 2597 0 \nz\n\" transform=\"scale(0.015625)\"/>\n      <path id=\"ArialMT-76\" d=\"M 1344 0 \nL 81 3319 \nL 675 3319 \nL 1388 1331 \nQ 1503 1009 1600 663 \nQ 1675 925 1809 1294 \nL 2547 3319 \nL 3125 3319 \nL 1869 0 \nL 1344 0 \nz\n\" transform=\"scale(0.015625)\"/>\n     </defs>\n     <use xlink:href=\"#ArialMT-4c\"/>\n     <use xlink:href=\"#ArialMT-65\" x=\"55.615234\"/>\n     <use xlink:href=\"#ArialMT-61\" x=\"111.230469\"/>\n     <use xlink:href=\"#ArialMT-72\" x=\"166.845703\"/>\n     <use xlink:href=\"#ArialMT-6e\" x=\"200.146484\"/>\n     <use xlink:href=\"#ArialMT-69\" x=\"255.761719\"/>\n     <use xlink:href=\"#ArialMT-6e\" x=\"277.978516\"/>\n     <use xlink:href=\"#ArialMT-67\" x=\"333.59375\"/>\n     <use xlink:href=\"#ArialMT-20\" x=\"389.208984\"/>\n     <use xlink:href=\"#ArialMT-43\" x=\"416.992188\"/>\n     <use xlink:href=\"#ArialMT-75\" x=\"489.208984\"/>\n     <use xlink:href=\"#ArialMT-72\" x=\"544.824219\"/>\n     <use xlink:href=\"#ArialMT-76\" x=\"578.125\"/>\n     <use xlink:href=\"#ArialMT-65\" x=\"628.125\"/>\n    </g>\n   </g>\n   <g id=\"legend_1\">\n    <g id=\"patch_7\">\n     <path d=\"M 343.196875 72.371562 \nL 410.770312 72.371562 \nQ 412.770312 72.371562 412.770312 70.371562 \nL 412.770312 28.935625 \nQ 412.770312 26.935625 410.770312 26.935625 \nL 343.196875 26.935625 \nQ 341.196875 26.935625 341.196875 28.935625 \nL 341.196875 70.371562 \nQ 341.196875 72.371562 343.196875 72.371562 \nz\n\" style=\"fill: #eaeaf2; opacity: 0.8; stroke: #cccccc; stroke-linejoin: miter\"/>\n    </g>\n    <g id=\"line2d_17\">\n     <path d=\"M 345.196875 34.593437 \nL 355.196875 34.593437 \nL 365.196875 34.593437 \n\" style=\"fill: none; stroke: #8dd3c7; stroke-width: 1.5; stroke-linecap: round\"/>\n    </g>\n    <g id=\"text_17\">\n     <!-- Model 1 -->\n     <g style=\"fill: #262626\" transform=\"translate(373.196875 38.093437)scale(0.1 -0.1)\">\n      <defs>\n       <path id=\"ArialMT-4d\" d=\"M 475 0 \nL 475 4581 \nL 1388 4581 \nL 2472 1338 \nQ 2622 884 2691 659 \nQ 2769 909 2934 1394 \nL 4031 4581 \nL 4847 4581 \nL 4847 0 \nL 4263 0 \nL 4263 3834 \nL 2931 0 \nL 2384 0 \nL 1059 3900 \nL 1059 0 \nL 475 0 \nz\n\" transform=\"scale(0.015625)\"/>\n       <path id=\"ArialMT-64\" d=\"M 2575 0 \nL 2575 419 \nQ 2259 -75 1647 -75 \nQ 1250 -75 917 144 \nQ 584 363 401 755 \nQ 219 1147 219 1656 \nQ 219 2153 384 2558 \nQ 550 2963 881 3178 \nQ 1213 3394 1622 3394 \nQ 1922 3394 2156 3267 \nQ 2391 3141 2538 2938 \nL 2538 4581 \nL 3097 4581 \nL 3097 0 \nL 2575 0 \nz\nM 797 1656 \nQ 797 1019 1065 703 \nQ 1334 388 1700 388 \nQ 2069 388 2326 689 \nQ 2584 991 2584 1609 \nQ 2584 2291 2321 2609 \nQ 2059 2928 1675 2928 \nQ 1300 2928 1048 2622 \nQ 797 2316 797 1656 \nz\n\" transform=\"scale(0.015625)\"/>\n       <path id=\"ArialMT-6c\" d=\"M 409 0 \nL 409 4581 \nL 972 4581 \nL 972 0 \nL 409 0 \nz\n\" transform=\"scale(0.015625)\"/>\n      </defs>\n      <use xlink:href=\"#ArialMT-4d\"/>\n      <use xlink:href=\"#ArialMT-6f\" x=\"83.300781\"/>\n      <use xlink:href=\"#ArialMT-64\" x=\"138.916016\"/>\n      <use xlink:href=\"#ArialMT-65\" x=\"194.53125\"/>\n      <use xlink:href=\"#ArialMT-6c\" x=\"250.146484\"/>\n      <use xlink:href=\"#ArialMT-20\" x=\"272.363281\"/>\n      <use xlink:href=\"#ArialMT-31\" x=\"300.146484\"/>\n     </g>\n    </g>\n    <g id=\"line2d_18\">\n     <path d=\"M 345.196875 48.73875 \nL 355.196875 48.73875 \nL 365.196875 48.73875 \n\" style=\"fill: none; stroke: #feffb3; stroke-width: 1.5; stroke-linecap: round\"/>\n    </g>\n    <g id=\"text_18\">\n     <!-- Model 2 -->\n     <g style=\"fill: #262626\" transform=\"translate(373.196875 52.23875)scale(0.1 -0.1)\">\n      <use xlink:href=\"#ArialMT-4d\"/>\n      <use xlink:href=\"#ArialMT-6f\" x=\"83.300781\"/>\n      <use xlink:href=\"#ArialMT-64\" x=\"138.916016\"/>\n      <use xlink:href=\"#ArialMT-65\" x=\"194.53125\"/>\n      <use xlink:href=\"#ArialMT-6c\" x=\"250.146484\"/>\n      <use xlink:href=\"#ArialMT-20\" x=\"272.363281\"/>\n      <use xlink:href=\"#ArialMT-32\" x=\"300.146484\"/>\n     </g>\n    </g>\n    <g id=\"line2d_19\">\n     <path d=\"M 345.196875 62.884062 \nL 355.196875 62.884062 \nL 365.196875 62.884062 \n\" style=\"fill: none; stroke: #bfbbd9; stroke-width: 1.5; stroke-linecap: round\"/>\n    </g>\n    <g id=\"text_19\">\n     <!-- Model 3 -->\n     <g style=\"fill: #262626\" transform=\"translate(373.196875 66.384062)scale(0.1 -0.1)\">\n      <use xlink:href=\"#ArialMT-4d\"/>\n      <use xlink:href=\"#ArialMT-6f\" x=\"83.300781\"/>\n      <use xlink:href=\"#ArialMT-64\" x=\"138.916016\"/>\n      <use xlink:href=\"#ArialMT-65\" x=\"194.53125\"/>\n      <use xlink:href=\"#ArialMT-6c\" x=\"250.146484\"/>\n      <use xlink:href=\"#ArialMT-20\" x=\"272.363281\"/>\n      <use xlink:href=\"#ArialMT-33\" x=\"300.146484\"/>\n     </g>\n    </g>\n   </g>\n  </g>\n </g>\n <defs>\n  <clipPath id=\"pd8f3d0919b\">\n   <rect x=\"41.245312\" y=\"21.935625\" width=\"376.525\" height=\"223.4\"/>\n  </clipPath>\n </defs>\n</svg>\n",
      "text/plain": [
       "<Figure size 432x288 with 1 Axes>"
      ]
     },
     "metadata": {},
     "output_type": "display_data"
    }
   ],
   "source": [
    "plot_learning_curve(loss)\n",
    "plot_learning_curve(loss_2)\n",
    "plot_learning_curve(loss_3)\n",
    "plt.legend([\"Model 1\", \"Model 2\", \"Model 3\"])"
   ]
  },
  {
   "cell_type": "code",
   "execution_count": null,
   "metadata": {},
   "outputs": [],
   "source": []
  },
  {
   "cell_type": "markdown",
   "metadata": {},
   "source": [
    "### Observations:\n",
    "#### Accuracy\n",
    "1. Model 3 has 100% accuracy whereas, model 1 has 99.19% and model 2 has 97.83% accuracy on training data.\n",
    "2. Model 3 has highest accuracy on validation set, whereas model 1 less accuracy.\n",
    "3. Model 2 and 3 has same 98.06% accuracy on test set, whereas model 1 has 97.09% accuracy.\n",
    "- Model 3 seems to overfit, because of 100% accuracy on training data.\n",
    "\n",
    "#### Loss\n",
    "1. Model 3 has least training loss than model 1 and model 2, whereas model 2 has highest loss.\n",
    "2. Model 3 has highest validation loss, whereas model 1 has least loss.\n",
    "3. Again, model 3 has highest test loss, whereas model 1 has least loss.\n",
    "- Model 3 has high chances of overfit, because it's loss is less in training and highest on validation and test dataset."
   ]
  },
  {
   "cell_type": "code",
   "execution_count": 48,
   "metadata": {},
   "outputs": [
    {
     "name": "stdout",
     "output_type": "stream",
     "text": [
      "Model 1\n",
      "9/9 [==============================] - 0s 4ms/step - loss: 0.0395 - accuracy: 0.9757\n",
      "Accuracy: 97.57%\n",
      "Loss: 0.039530254900455475\n",
      "Model 2\n",
      "9/9 [==============================] - 0s 5ms/step - loss: 0.0619 - accuracy: 0.9826\n",
      "Accuracy: 98.26%\n",
      "Loss: 0.06190214678645134\n",
      "Model 3\n",
      "9/9 [==============================] - 0s 5ms/step - loss: 0.4202 - accuracy: 0.9861\n",
      "Accuracy: 98.61%\n",
      "Loss: 0.42018944025039673\n"
     ]
    }
   ],
   "source": [
    "x = tf.concat([X_valid, X_test], 0)\n",
    "y = tf.concat([Y_valid, Y_test], 0)\n",
    "\n",
    "print(\"Model 1\")\n",
    "final_loss_1, final_acc_1 = model.evaluate(x, y)\n",
    "print(f\"Accuracy: {round(final_acc_1 * 100, 2)}%\")\n",
    "print(f\"Loss: {final_loss_1}\")\n",
    "\n",
    "print(\"Model 2\")\n",
    "final_loss_2, final_acc_2 = model_2.evaluate(x, y)\n",
    "print(f\"Accuracy: {round(final_acc_2 * 100, 2)}%\")\n",
    "print(f\"Loss: {final_loss_2}\")\n",
    "\n",
    "print(\"Model 3\")\n",
    "final_loss_3, final_acc_3 = model_3.evaluate(x, y)\n",
    "print(f\"Accuracy: {round(final_acc_3 * 100, 2)}%\")\n",
    "print(f\"Loss: {final_loss_3}\")"
   ]
  },
  {
   "cell_type": "markdown",
   "metadata": {},
   "source": [
    "### Model 2 is final\n",
    "So, Finalizing model 2, based on accuracy and loss on validation + test data set, because\n",
    "- It's accuracy is higher than model 1, and less than model 3 (overfit), i.e. `98.26%` \n",
    "- Loss is less than model 3\n",
    "\n",
    "**Architecture:**\n",
    "- `2` hidden layers\n",
    "- - 1st layer - `18` neurons (`relu`)\n",
    "- - 2nd layer - `9` neurons (`relu`)\n",
    "- 3rd layer - output layer (`sigmoid`)"
   ]
  },
  {
   "cell_type": "markdown",
   "metadata": {},
   "source": [
    "## 10. Saving Model $2$"
   ]
  },
  {
   "cell_type": "code",
   "execution_count": 53,
   "metadata": {},
   "outputs": [],
   "source": [
    "model_2.save(\"final_model.h5\")"
   ]
  },
  {
   "cell_type": "code",
   "execution_count": 54,
   "metadata": {},
   "outputs": [
    {
     "data": {
      "text/plain": [
       "3422"
      ]
     },
     "execution_count": 54,
     "metadata": {},
     "output_type": "execute_result"
    }
   ],
   "source": [
    "open(\"model_params.json\", \"w\").write(model_2.to_json(indent=4))"
   ]
  },
  {
   "cell_type": "code",
   "execution_count": 65,
   "metadata": {},
   "outputs": [],
   "source": [
    "dump(scaler.weights, open(\"./weights/normalized_weights.bin\", \"wb\"))"
   ]
  },
  {
   "cell_type": "code",
   "execution_count": 56,
   "metadata": {},
   "outputs": [
    {
     "data": {
      "text/html": [
       "<div>\n",
       "<style scoped>\n",
       "    .dataframe tbody tr th:only-of-type {\n",
       "        vertical-align: middle;\n",
       "    }\n",
       "\n",
       "    .dataframe tbody tr th {\n",
       "        vertical-align: top;\n",
       "    }\n",
       "\n",
       "    .dataframe thead th {\n",
       "        text-align: right;\n",
       "    }\n",
       "</style>\n",
       "<table border=\"1\" class=\"dataframe\">\n",
       "  <thead>\n",
       "    <tr style=\"text-align: right;\">\n",
       "      <th></th>\n",
       "      <th>age</th>\n",
       "      <th>sex</th>\n",
       "      <th>cp</th>\n",
       "      <th>trestbps</th>\n",
       "      <th>chol</th>\n",
       "      <th>fbs</th>\n",
       "      <th>thalach</th>\n",
       "      <th>exang</th>\n",
       "    </tr>\n",
       "  </thead>\n",
       "  <tbody>\n",
       "    <tr>\n",
       "      <th>514</th>\n",
       "      <td>44</td>\n",
       "      <td>1</td>\n",
       "      <td>1</td>\n",
       "      <td>120</td>\n",
       "      <td>220</td>\n",
       "      <td>0</td>\n",
       "      <td>170</td>\n",
       "      <td>0</td>\n",
       "    </tr>\n",
       "    <tr>\n",
       "      <th>233</th>\n",
       "      <td>41</td>\n",
       "      <td>0</td>\n",
       "      <td>1</td>\n",
       "      <td>126</td>\n",
       "      <td>306</td>\n",
       "      <td>0</td>\n",
       "      <td>163</td>\n",
       "      <td>0</td>\n",
       "    </tr>\n",
       "    <tr>\n",
       "      <th>604</th>\n",
       "      <td>47</td>\n",
       "      <td>1</td>\n",
       "      <td>2</td>\n",
       "      <td>130</td>\n",
       "      <td>253</td>\n",
       "      <td>0</td>\n",
       "      <td>179</td>\n",
       "      <td>0</td>\n",
       "    </tr>\n",
       "    <tr>\n",
       "      <th>323</th>\n",
       "      <td>66</td>\n",
       "      <td>1</td>\n",
       "      <td>1</td>\n",
       "      <td>160</td>\n",
       "      <td>246</td>\n",
       "      <td>0</td>\n",
       "      <td>120</td>\n",
       "      <td>1</td>\n",
       "    </tr>\n",
       "    <tr>\n",
       "      <th>12</th>\n",
       "      <td>34</td>\n",
       "      <td>0</td>\n",
       "      <td>1</td>\n",
       "      <td>118</td>\n",
       "      <td>210</td>\n",
       "      <td>0</td>\n",
       "      <td>192</td>\n",
       "      <td>0</td>\n",
       "    </tr>\n",
       "  </tbody>\n",
       "</table>\n",
       "</div>"
      ],
      "text/plain": [
       "     age  sex  cp  trestbps  chol  fbs  thalach  exang\n",
       "514   44    1   1       120   220    0      170      0\n",
       "233   41    0   1       126   306    0      163      0\n",
       "604   47    1   2       130   253    0      179      0\n",
       "323   66    1   1       160   246    0      120      1\n",
       "12    34    0   1       118   210    0      192      0"
      ]
     },
     "execution_count": 56,
     "metadata": {},
     "output_type": "execute_result"
    }
   ],
   "source": [
    "X_valid.head()"
   ]
  },
  {
   "cell_type": "code",
   "execution_count": 91,
   "metadata": {},
   "outputs": [
    {
     "data": {
      "text/plain": [
       "array([0.], dtype=float32)"
      ]
     },
     "execution_count": 91,
     "metadata": {},
     "output_type": "execute_result"
    }
   ],
   "source": [
    "valid_preds_2[3]"
   ]
  },
  {
   "cell_type": "code",
   "execution_count": 81,
   "metadata": {},
   "outputs": [
    {
     "data": {
      "text/plain": [
       "514    1\n",
       "233    1\n",
       "604    1\n",
       "323    0\n",
       "12     1\n",
       "      ..\n",
       "389    1\n",
       "598    0\n",
       "710    1\n",
       "716    0\n",
       "245    1\n",
       "Name: target, Length: 185, dtype: int64"
      ]
     },
     "execution_count": 81,
     "metadata": {},
     "output_type": "execute_result"
    }
   ],
   "source": [
    "Y_valid"
   ]
  },
  {
   "cell_type": "code",
   "execution_count": 82,
   "metadata": {},
   "outputs": [],
   "source": [
    "a = X_valid.iloc[2, :]"
   ]
  },
  {
   "cell_type": "code",
   "execution_count": 83,
   "metadata": {},
   "outputs": [
    {
     "data": {
      "text/plain": [
       "age          47\n",
       "sex           1\n",
       "cp            2\n",
       "trestbps    130\n",
       "chol        253\n",
       "fbs           0\n",
       "thalach     179\n",
       "exang         0\n",
       "Name: 604, dtype: int64"
      ]
     },
     "execution_count": 83,
     "metadata": {},
     "output_type": "execute_result"
    }
   ],
   "source": [
    "a"
   ]
  },
  {
   "cell_type": "code",
   "execution_count": 84,
   "metadata": {},
   "outputs": [],
   "source": [
    "def load_scaler():\n",
    "    from pickle import load\n",
    "    weights = load(open(\"./weights/normalized_weights.bin\", \"rb\"))\n",
    "    scaler = tf.keras.layers.Normalization(weights=weights)\n",
    "    return scaler"
   ]
  },
  {
   "cell_type": "code",
   "execution_count": 85,
   "metadata": {},
   "outputs": [],
   "source": [
    "s = load_scaler()\n",
    "a = s(np.array([a]))"
   ]
  },
  {
   "cell_type": "code",
   "execution_count": 89,
   "metadata": {},
   "outputs": [
    {
     "data": {
      "text/plain": [
       "<tf.Tensor: shape=(), dtype=float32, numpy=0.9999982>"
      ]
     },
     "execution_count": 89,
     "metadata": {},
     "output_type": "execute_result"
    }
   ],
   "source": [
    "l = model_2(a)\n",
    "p = tf.nn.sigmoid(l)\n",
    "p[0][0]"
   ]
  },
  {
   "cell_type": "code",
   "execution_count": null,
   "metadata": {},
   "outputs": [],
   "source": []
  }
 ],
 "metadata": {
  "kernelspec": {
   "display_name": "Python 3.10.2 ('env': venv)",
   "language": "python",
   "name": "python3"
  },
  "language_info": {
   "codemirror_mode": {
    "name": "ipython",
    "version": 3
   },
   "file_extension": ".py",
   "mimetype": "text/x-python",
   "name": "python",
   "nbconvert_exporter": "python",
   "pygments_lexer": "ipython3",
   "version": "3.10.2"
  },
  "orig_nbformat": 4,
  "vscode": {
   "interpreter": {
    "hash": "164282410f31150719edb07a569d63af712c12e31bc4bb1747ba97caa90a54fd"
   }
  }
 },
 "nbformat": 4,
 "nbformat_minor": 2
}
